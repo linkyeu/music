{
 "cells": [
  {
   "cell_type": "markdown",
   "metadata": {},
   "source": [
    "Здесь я разделить признаки на номинальные, порядовые и числовые. Заменил отсутствующие значения и присвоил тип каждой переменной."
   ]
  },
  {
   "cell_type": "code",
   "execution_count": 16,
   "metadata": {},
   "outputs": [],
   "source": [
    "%reload_ext autoreload\n",
    "%autoreload 2"
   ]
  },
  {
   "cell_type": "code",
   "execution_count": 24,
   "metadata": {},
   "outputs": [],
   "source": [
    "import sys; sys.path.append('scripts')\n",
    "from common import *\n",
    "from global_common import *"
   ]
  },
  {
   "cell_type": "code",
   "execution_count": 25,
   "metadata": {},
   "outputs": [
    {
     "name": "stdout",
     "output_type": "stream",
     "text": [
      "Shape of train (70134, 460)\n",
      "Shape of test (30001, 460)\n",
      "\n"
     ]
    }
   ],
   "source": [
    "# Читаем данные\n",
    "path_to_data = Path('../data')\n",
    "train_df = pd.read_csv(path_to_data/'train_music.csv')\n",
    "train_y = train_df['target']\n",
    "del train_df['target']\n",
    "\n",
    "test_df  = pd.read_csv(path_to_data/'test_music.csv')\n",
    "\n",
    "sample_submission_df = pd.read_csv(path_to_data/'sample_submission_music.csv')\n",
    "print(f'Shape of train {train_df.shape}\\nShape of test {test_df.shape}\\n')"
   ]
  },
  {
   "cell_type": "code",
   "execution_count": 26,
   "metadata": {},
   "outputs": [],
   "source": [
    "# Объединяем выборки для обработки переменных, запоминаем индексы чтобы потом разделить назад\n",
    "train_idx = train_df.index[-1]\n",
    "merged = pd.concat([train_df, test_df], axis=0)"
   ]
  },
  {
   "cell_type": "markdown",
   "metadata": {},
   "source": [
    "Так как для замещения пропусков нужно понимать что использовать медиану или -1. В категориальных признаках мы используем -1. В численных мы используем медиану.\n",
    "\n",
    "Также нужно разделить признакми на три категории: бинарные (их просто оставляем и нигде не указываем), категориальные - это те признаки которые мы хотим закодировать в эмбединги и числовые признаки - это те которые нужно просто нормализовать."
   ]
  },
  {
   "cell_type": "code",
   "execution_count": 27,
   "metadata": {},
   "outputs": [
    {
     "name": "stdout",
     "output_type": "stream",
     "text": [
      "Бинарных признаков - 15\n",
      "Категориальных признаков - 5\n",
      "Числовых признаков - 439\n"
     ]
    }
   ],
   "source": [
    "# Бинарный признка целочисленное значение, пропуски = -1, не эмбединги\n",
    "binary_columns = [o for o in merged.columns if 'flag' in o or 'is' in o]\n",
    "binary_columns.remove('tp_flag')\n",
    "print(f'Бинарных признаков - {len(binary_columns)}')\n",
    "\n",
    "# Для категориальных признаков используем -1. Кодируем в эмбединги. Целочисленные значения.\n",
    "cat_names = ['sim_count', 'device_type', 'manufacturer_category', 'os_category', 'tp_flag']\n",
    "print(f'Категориальных признаков - {len(cat_names)}')\n",
    "\n",
    "# Флоат должны использовать медиану для замещения пропусков\n",
    "float_columns = list(set(merged.columns).difference(set(binary_columns+cat_names)))\n",
    "float_columns.remove('id')\n",
    "print(f'Числовых признаков - {len(float_columns)}')"
   ]
  },
  {
   "cell_type": "code",
   "execution_count": 28,
   "metadata": {},
   "outputs": [],
   "source": [
    "# Замещаем пропущенные значения в соответствии с типом данных\n",
    "merged[binary_columns] = merged[binary_columns].apply(lambda x: x.fillna(-1))\n",
    "merged[cat_names] = merged[cat_names].apply(lambda x: x.fillna(-1))\n",
    "merged[float_columns] = merged[float_columns].apply(lambda x: x.fillna(x.median()))\n",
    "assert merged.isna().sum().sum() == 0, 'Buddy, slow down!'\n",
    "\n",
    "# Присваивает тип для каждой из переменных\n",
    "merged[binary_columns] = merged[binary_columns].apply(lambda x: x.astype('int'))\n",
    "merged[cat_names] = merged[cat_names].apply(lambda x: x.astype('int'))\n",
    "merged[float_columns] = merged[float_columns].apply(lambda x: x.astype('float'))"
   ]
  },
  {
   "cell_type": "code",
   "execution_count": 29,
   "metadata": {},
   "outputs": [],
   "source": [
    "# Разделяем обработанные обучающую и тестовую выборки\n",
    "train_df_proc = merged.iloc[:train_idx+1, :]\n",
    "train_df_proc['target'] = train_y\n",
    "test_df_proc = merged.iloc[train_idx+1:, :]\n",
    "del merged\n",
    "del train_y\n",
    "\n",
    "# Указываем для модели категориальные (для кодировки в эмб) и числовые\n",
    "dep_var = 'target'\n",
    "cont_names = float_columns\n",
    "cat_names = cat_names\n",
    "procs = [Categorify, Normalize]"
   ]
  },
  {
   "cell_type": "code",
   "execution_count": 30,
   "metadata": {},
   "outputs": [],
   "source": [
    "# Создаем инстанс метрики ROC-AUC\n",
    "roc_auc = RocAuc(roc_auc_score)"
   ]
  },
  {
   "cell_type": "code",
   "execution_count": 32,
   "metadata": {},
   "outputs": [],
   "source": [
    "# # Колонку id не использовать в обучении\n",
    "# cols = train_df_proc.columns[1:]"
   ]
  },
  {
   "cell_type": "code",
   "execution_count": 65,
   "metadata": {},
   "outputs": [],
   "source": [
    "# Оборачивае тестовый файл в обертку fast.ai\n",
    "test = TabularList.from_df(test_df_proc, \n",
    "                           path=path_to_data, \n",
    "                           cat_names=cat_names,\n",
    "                           cont_names=cont_names)"
   ]
  },
  {
   "cell_type": "code",
   "execution_count": 67,
   "metadata": {},
   "outputs": [],
   "source": [
    "_, valid_x, _, _ = train_test_split(train_df_proc.index, \n",
    "                                    train_df_proc['target'].values, \n",
    "                                    stratify=train_df_proc['target'].values,\n",
    "                                    test_size=0.1, \n",
    "                                    random_state=SEED)"
   ]
  },
  {
   "cell_type": "code",
   "execution_count": 70,
   "metadata": {},
   "outputs": [],
   "source": [
    "data = (TabularList.from_df(train_df_proc[cols], path=path_to_data, cat_names=cat_names, cont_names=cont_names, procs=procs)\n",
    "                           .split_by_idx(list(valid_x.values))\n",
    "                           .label_from_df(cols=dep_var)\n",
    "                           .add_test(test, label=0)\n",
    "                           .databunch())\n",
    "data.batch_size = 128"
   ]
  },
  {
   "cell_type": "code",
   "execution_count": 71,
   "metadata": {},
   "outputs": [],
   "source": [
    "learn = tabular_learner(data, layers=[1000,500], metrics=[accuracy, roc_auc])"
   ]
  },
  {
   "cell_type": "code",
   "execution_count": 72,
   "metadata": {
    "scrolled": true
   },
   "outputs": [
    {
     "name": "stdout",
     "output_type": "stream",
     "text": [
      "LR Finder is complete, type {learner_name}.recorder.plot() to see the graph.\n"
     ]
    },
    {
     "data": {
      "image/png": "[encoded data removed]",
      "text/plain": [
       "<Figure size 432x288 with 1 Axes>"
      ]
     },
     "metadata": {
      "needs_background": "light"
     },
     "output_type": "display_data"
    }
   ],
   "source": [
    "learn.lr_find()\n",
    "learn.recorder.plot()"
   ]
  },
  {
   "cell_type": "code",
   "execution_count": 73,
   "metadata": {},
   "outputs": [
    {
     "data": {
      "text/html": [
       "Total time: 00:22 <p><table style='width:375px; margin-bottom:10px'>\n",
       "  <tr>\n",
       "    <th>epoch</th>\n",
       "    <th>train_loss</th>\n",
       "    <th>valid_loss</th>\n",
       "    <th>accuracy</th>\n",
       "    <th>roc_auc_score</th>\n",
       "  </tr>\n",
       "  <tr>\n",
       "    <th>1</th>\n",
       "    <th>0.290934</th>\n",
       "    <th>0.298595</th>\n",
       "    <th>0.897491</th>\n",
       "    <th>0.742552</th>\n",
       "  </tr>\n",
       "  <tr>\n",
       "    <th>2</th>\n",
       "    <th>0.280959</th>\n",
       "    <th>0.299516</th>\n",
       "    <th>0.895352</th>\n",
       "    <th>0.746111</th>\n",
       "  </tr>\n",
       "  <tr>\n",
       "    <th>3</th>\n",
       "    <th>0.265895</th>\n",
       "    <th>0.304779</th>\n",
       "    <th>0.897776</th>\n",
       "    <th>0.747678</th>\n",
       "  </tr>\n",
       "  <tr>\n",
       "    <th>4</th>\n",
       "    <th>0.246567</th>\n",
       "    <th>0.320291</th>\n",
       "    <th>0.901198</th>\n",
       "    <th>0.758904</th>\n",
       "  </tr>\n",
       "</table>\n"
      ],
      "text/plain": [
       "<IPython.core.display.HTML object>"
      ]
     },
     "metadata": {},
     "output_type": "display_data"
    }
   ],
   "source": [
    "learn.fit_one_cycle(4, 1e-2)"
   ]
  },
  {
   "cell_type": "code",
   "execution_count": 74,
   "metadata": {},
   "outputs": [
    {
     "data": {
      "text/plain": [
       "0.757943522049218"
      ]
     },
     "execution_count": 74,
     "metadata": {},
     "output_type": "execute_result"
    }
   ],
   "source": [
    "# Валидация\n",
    "valid_preds = learn.get_preds(ds_type=DatasetType.Valid)\n",
    "roc_auc_score(valid_preds[1], valid_preds[0][:, 1].tolist()) "
   ]
  },
  {
   "cell_type": "code",
   "execution_count": 77,
   "metadata": {},
   "outputs": [
    {
     "data": {
      "image/png": "[encoded data removed]",
      "text/plain": [
       "<Figure size 432x288 with 1 Axes>"
      ]
     },
     "metadata": {
      "needs_background": "light"
     },
     "output_type": "display_data"
    }
   ],
   "source": [
    "plt.hist(valid_preds[0][:, 1].tolist());"
   ]
  },
  {
   "cell_type": "code",
   "execution_count": 78,
   "metadata": {},
   "outputs": [],
   "source": [
    "test_preds = learn.get_preds(ds_type=DatasetType.Test)\n",
    "plt.hist(test_preds[0][:, 1].tolist());"
   ]
  },
  {
   "cell_type": "code",
   "execution_count": 59,
   "metadata": {},
   "outputs": [
    {
     "name": "stdout",
     "output_type": "stream",
     "text": [
      "File saved.\n"
     ]
    }
   ],
   "source": [
    "make_submition(test_df, learn, 'third_try')"
   ]
  }
 ],
 "metadata": {
  "kernelspec": {
   "display_name": "Python 3",
   "language": "python",
   "name": "python3"
  },
  "language_info": {
   "codemirror_mode": {
    "name": "ipython",
    "version": 3
   },
   "file_extension": ".py",
   "mimetype": "text/x-python",
   "name": "python",
   "nbconvert_exporter": "python",
   "pygments_lexer": "ipython3",
   "version": "3.7.0"
  }
 },
 "nbformat": 4,
 "nbformat_minor": 2
}

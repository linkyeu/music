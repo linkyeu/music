{
 "cells": [
  {
   "cell_type": "markdown",
   "metadata": {},
   "source": [
    "Здесь я разделить признаки на номинальные, порядовые и числовые. Заменил отсутствующие значения и присвоил тип каждой переменной."
   ]
  },
  {
   "cell_type": "code",
   "execution_count": 64,
   "metadata": {},
   "outputs": [],
   "source": [
    "%reload_ext autoreload\n",
    "%autoreload 2"
   ]
  },
  {
   "cell_type": "code",
   "execution_count": 65,
   "metadata": {},
   "outputs": [],
   "source": [
    "import sys; sys.path.append('scripts')\n",
    "from common import *\n",
    "from global_common import *"
   ]
  },
  {
   "cell_type": "code",
   "execution_count": 66,
   "metadata": {
    "scrolled": false
   },
   "outputs": [
    {
     "name": "stdout",
     "output_type": "stream",
     "text": [
      "Shape of train (70000, 460)\n",
      "Shape of test (30000, 460)\n",
      "\n"
     ]
    }
   ],
   "source": [
    "# Читаем данные\n",
    "path_to_data = Path('../data')\n",
    "train_df = pd.read_csv(path_to_data/'train_music.csv')\n",
    "train_y = train_df['target']\n",
    "del train_df['target']\n",
    "\n",
    "test_df  = pd.read_csv(path_to_data/'test_music.csv')\n",
    "\n",
    "sample_submission_df = pd.read_csv(path_to_data/'sample_submission_music.csv')\n",
    "print(f'Shape of train {train_df.shape}\\nShape of test {test_df.shape}\\n')"
   ]
  },
  {
   "cell_type": "code",
   "execution_count": 12,
   "metadata": {
    "scrolled": false
   },
   "outputs": [],
   "source": [
    "# # Посмотреть кол-во пропущенных значений по переменным\n",
    "# data_na = train_df.isnull().sum().values / train_df.shape[0] *100\n",
    "# df_na = pd.DataFrame(data_na, index=train_df.columns, columns=['Count'])\n",
    "# df_na = df_na.sort_values(by=['Count'], ascending=False)\n",
    "\n",
    "# missing_value_count = df_na[df_na['Count']>0].shape[0]\n",
    "\n",
    "# print(f'We got {missing_value_count} rows which have missing value in train set ')\n",
    "# df_na.head(4)"
   ]
  },
  {
   "cell_type": "code",
   "execution_count": null,
   "metadata": {},
   "outputs": [],
   "source": [
    "# # Raw data\n",
    "# train = pd.read_csv('../input/train.csv')\n",
    "# test = pd.read_csv('../input/test.csv')\n",
    "# test['Target'] = np.nan\n",
    "\n",
    "# data = train.append(test, sort = True)"
   ]
  },
  {
   "cell_type": "code",
   "execution_count": 67,
   "metadata": {},
   "outputs": [
    {
     "name": "stdout",
     "output_type": "stream",
     "text": [
      "Целочисленных переменных  : 236\n",
      "Целочисленные переменные обработаны.\n"
     ]
    }
   ],
   "source": [
    "# Объединяем выборки для обработки переменных, запоминаем индексы чтобы потом разделить назад\n",
    "train_idx = train_df.index[-1]\n",
    "merged = pd.concat([train_df, test_df], axis=0, )\n",
    "\n",
    "# целочисленные переменные----------------------\n",
    "int_columns = [o for o in train_df.columns for crit in ['flag', 'is', 'count'] if crit in o]\n",
    "int_columns += ['sim_count', 'device_type', 'manufacturer_category', 'os_category', 'tp_flag', \n",
    "                'days_exp', 'paym_last_days']\n",
    "print(f'Целочисленных переменных  : {len(int_columns)}')\n",
    "\n",
    "# Если в значениях переменной есть 0, тогда пропуски заполняет -1. Если нет 0, тогда заполняем нулем.\n",
    "merged[int_columns] = merged[int_columns].apply(lambda x: x.fillna(-1) if 0 in x.values else x.fillna(0))\n",
    "merged[int_columns] = merged[int_columns].apply(lambda x: x.astype('int'))\n",
    "print('Целочисленные переменные обработаны.')"
   ]
  },
  {
   "cell_type": "code",
   "execution_count": 73,
   "metadata": {},
   "outputs": [],
   "source": [
    "# # отдельно выделяем бинарные в тип bool\n",
    "# bool_columns = [o for o in train_df.columns for crit in ['flag', 'is'] if crit in o]\n",
    "# merged[bool_columns] = merged[bool_columns].apply(lambda x: x.astype('bool'))"
   ]
  },
  {
   "cell_type": "code",
   "execution_count": 69,
   "metadata": {
    "scrolled": true
   },
   "outputs": [
    {
     "name": "stdout",
     "output_type": "stream",
     "text": [
      "Переменных с плавающей точкой : 225\n",
      "Переменных с плавающей точкой обработаны.\n"
     ]
    }
   ],
   "source": [
    "# с плавающей точкой переменные----------------------\n",
    "float_cols = [o for o in train_df.columns for crit in ['data_type', 'rr', 'vol', 'cost', 'dur', \n",
    "                                                       'sum', 'part', 'clc', 'lt', 'brnd'] if crit in o]\n",
    "print(f'Переменных с плавающей точкой : {len(float_cols)}')\n",
    "\n",
    "merged[float_cols] = merged[float_cols].apply(lambda x: x.fillna(x.median()) if 0 in x.values else x.fillna(0))\n",
    "merged[float_cols] = merged[float_cols].apply(lambda x: x.astype('float'))\n",
    "print('Переменных с плавающей точкой обработаны.')"
   ]
  },
  {
   "cell_type": "code",
   "execution_count": 70,
   "metadata": {},
   "outputs": [
    {
     "data": {
      "text/plain": [
       "1"
      ]
     },
     "execution_count": 70,
     "metadata": {},
     "output_type": "execute_result"
    }
   ],
   "source": [
    "# Проверить что нет остаточных переменных. 1 это строк переменная id.\n",
    "x = set(int_columns + float_cols)\n",
    "d = set(train_df.columns)\n",
    "remain_cols = list(d.difference(x))\n",
    "len(remain_cols)"
   ]
  },
  {
   "cell_type": "code",
   "execution_count": 51,
   "metadata": {},
   "outputs": [],
   "source": [
    "# # Нужно выделить категориальные переменные для алгоритма\n",
    "# cat_names = ['sim_count', 'device_type', 'manufacturer_category', 'os_category', 'tp_flag', \n",
    "#             ] # , 'days_exp', 'paym_last_days', 'inact_days_count', "
   ]
  },
  {
   "cell_type": "code",
   "execution_count": 71,
   "metadata": {},
   "outputs": [],
   "source": [
    "# Разделяем обработанные обучающую и тестовую выборки\n",
    "train = merged.iloc[:train_idx+1, :]\n",
    "train['target'] = train_y\n",
    "test = merged.iloc[train_idx+1:, :]\n",
    "del merged\n",
    "del train_y"
   ]
  },
  {
   "cell_type": "code",
   "execution_count": 58,
   "metadata": {},
   "outputs": [],
   "source": [
    "# to_drop = ['count_act_type_5', 'count_act_type_7', 'count_gift_type_2', 'paym_sum_m1', 'paym_sum_m2', \n",
    "#            'rr_gift_type_2', 'service_2_flag', 'sms_roam_in_count_m1', 'sms_roam_in_count_m2', 'sms_roam_in_count_m3', \n",
    "#            'voice_omo_cc_count_m2', 'voice_omo_cc_count_m3', 'voice_onnet_cc_count_m1', 'voice_onnet_cc_count_m2', \n",
    "#            'voice_onnet_cc_count_m3', 'voice_onnet_in_count_m1', 'voice_onnet_in_count_m2', 'voice_onnet_in_count_m3', \n",
    "#            'voice_onnet_in_dur_m1', 'voice_onnet_in_dur_m2', 'voice_onnet_in_dur_m3', 'voice_onnet_out_count_m1', \n",
    "#            'voice_onnet_out_count_m2', 'voice_onnet_out_count_m3', 'voice_onnet_out_dur_m1', 'voice_onnet_out_dur_m2', \n",
    "#            'voice_onnet_out_dur_m3', 'voice_pstn_out_dur_m1']\n",
    "\n",
    "# train.drop(columns= to_drop, inplace=True)\n",
    "# test.drop(columns= to_drop, inplace=True)"
   ]
  },
  {
   "cell_type": "code",
   "execution_count": 72,
   "metadata": {},
   "outputs": [
    {
     "name": "stdout",
     "output_type": "stream",
     "text": [
      "train.shape = (70000, 461), test.shape = (30000, 460)\n",
      "Fold 1/7*1\n",
      "Training until validation scores don't improve for 200 rounds.\n",
      "[100]\ttraining's auc: 0.818861\tvalid_1's auc: 0.79522\n",
      "[200]\ttraining's auc: 0.830942\tvalid_1's auc: 0.802227\n",
      "[300]\ttraining's auc: 0.842337\tvalid_1's auc: 0.808826\n",
      "[400]\ttraining's auc: 0.851999\tvalid_1's auc: 0.81327\n",
      "[500]\ttraining's auc: 0.86018\tvalid_1's auc: 0.816799\n",
      "[600]\ttraining's auc: 0.867471\tvalid_1's auc: 0.819594\n",
      "[700]\ttraining's auc: 0.873699\tvalid_1's auc: 0.820937\n",
      "[800]\ttraining's auc: 0.879247\tvalid_1's auc: 0.822213\n",
      "[900]\ttraining's auc: 0.884269\tvalid_1's auc: 0.823307\n",
      "[1000]\ttraining's auc: 0.888622\tvalid_1's auc: 0.823827\n",
      "[1100]\ttraining's auc: 0.892678\tvalid_1's auc: 0.82423\n",
      "[1200]\ttraining's auc: 0.896613\tvalid_1's auc: 0.824483\n",
      "[1300]\ttraining's auc: 0.90025\tvalid_1's auc: 0.824811\n",
      "[1400]\ttraining's auc: 0.903949\tvalid_1's auc: 0.825049\n",
      "[1500]\ttraining's auc: 0.907498\tvalid_1's auc: 0.824915\n",
      "[1600]\ttraining's auc: 0.910801\tvalid_1's auc: 0.824821\n",
      "Early stopping, best iteration is:\n",
      "[1441]\ttraining's auc: 0.905538\tvalid_1's auc: 0.825118\n",
      "Important features:\n",
      "('lt', 712)\n",
      "('content_count_m1', 592)\n",
      "('balance_sum', 491)\n",
      "('content_count_m3', 419)\n",
      "('data_type_2_m1', 408)\n",
      "('days_exp', 380)\n",
      "('data_type_3_m1', 336)\n",
      "('count_app_4', 312)\n",
      "('vol_app_7', 298)\n",
      "('count_app_5', 273)\n",
      "('os_category', 266)\n",
      "('data_type_1_m1', 260)\n",
      "('vol_app_4', 252)\n",
      "('data_type_2_m2', 250)\n",
      "('is_my_vf', 225)\n",
      "('service_1_count', 223)\n",
      "('paym_last_days', 215)\n",
      "('content_count_m2', 211)\n",
      "('count_sms_source_4', 209)\n",
      "('data_type_2_m3', 206)\n",
      "('all_count_m1', 201)\n",
      "('short_out_calls_part_m3', 195)\n",
      "('manufacturer_category', 193)\n",
      "('vol_app_5', 192)\n",
      "('paym_sum_m1', 179)\n",
      "('income_brnd_cont_m1', 178)\n",
      "('count_act_type_1', 175)\n",
      "('all_cost_m2', 173)\n",
      "('short_out_calls_part_m1', 168)\n",
      "('count_url_category_2', 167)\n",
      "('count_url_category_9', 165)\n",
      "('count_url_category_10', 159)\n",
      "('sms_in_count_m1', 158)\n",
      "('paym_sum_m3', 156)\n",
      "('vol_app_1', 151)\n",
      "('short_in_calls_part_m1', 147)\n",
      "('device_type', 136)\n",
      "('sms_in_count_m2', 130)\n",
      "('service_5_count_m3', 126)\n",
      "('count_act_type_7', 120)\n",
      "('block_flag', 118)\n",
      "('count_app_6', 115)\n",
      "('short_in_calls_part_m2', 114)\n",
      "('all_home_clc_m2', 111)\n",
      "('vol_app_15', 111)\n",
      "('paym_el_sum_m3', 110)\n",
      "('data_type_3_m2', 110)\n",
      "('vol_app_6', 108)\n",
      "('data_type_3_m3', 107)\n",
      "('short_out_calls_part_m2', 105)\n",
      "('short_in_calls_part_m3', 102)\n",
      "('voice_in_uniq_count_m1', 101)\n",
      "('act_days_count_m3', 99)\n",
      "('act_days_count_m2', 98)\n",
      "('all_cost_m1', 97)\n",
      "('voice_onnet_out_night_rest_dur_m1', 95)\n",
      "('service_6_count_m2', 94)\n",
      "('service_9_flag_m1', 93)\n",
      "('paym_el_sum_m1', 93)\n",
      "('vol_app_10', 92)\n",
      "1 auc: 0.8251184594660096\n",
      "Fold 2/7*1\n",
      "Training until validation scores don't improve for 200 rounds.\n",
      "[100]\ttraining's auc: 0.819163\tvalid_1's auc: 0.794999\n",
      "[200]\ttraining's auc: 0.831809\tvalid_1's auc: 0.803529\n",
      "[300]\ttraining's auc: 0.843424\tvalid_1's auc: 0.810099\n",
      "[400]\ttraining's auc: 0.853011\tvalid_1's auc: 0.814051\n",
      "[500]\ttraining's auc: 0.861343\tvalid_1's auc: 0.817041\n",
      "[600]\ttraining's auc: 0.868399\tvalid_1's auc: 0.819063\n",
      "[700]\ttraining's auc: 0.874746\tvalid_1's auc: 0.820016\n",
      "[800]\ttraining's auc: 0.880122\tvalid_1's auc: 0.820785\n",
      "[900]\ttraining's auc: 0.885118\tvalid_1's auc: 0.821303\n",
      "[1000]\ttraining's auc: 0.889528\tvalid_1's auc: 0.821196\n",
      "[1100]\ttraining's auc: 0.893718\tvalid_1's auc: 0.82072\n",
      "Early stopping, best iteration is:\n",
      "[921]\ttraining's auc: 0.886086\tvalid_1's auc: 0.821472\n",
      "2 auc: 0.8214716863392592\n",
      "Fold 3/7*1\n",
      "Training until validation scores don't improve for 200 rounds.\n",
      "[100]\ttraining's auc: 0.816258\tvalid_1's auc: 0.816686\n",
      "[200]\ttraining's auc: 0.828612\tvalid_1's auc: 0.822724\n",
      "[300]\ttraining's auc: 0.840267\tvalid_1's auc: 0.828877\n",
      "[400]\ttraining's auc: 0.850048\tvalid_1's auc: 0.833297\n",
      "[500]\ttraining's auc: 0.858082\tvalid_1's auc: 0.836104\n",
      "[600]\ttraining's auc: 0.86507\tvalid_1's auc: 0.837068\n",
      "[700]\ttraining's auc: 0.871277\tvalid_1's auc: 0.837394\n",
      "[800]\ttraining's auc: 0.876946\tvalid_1's auc: 0.837451\n",
      "[900]\ttraining's auc: 0.882037\tvalid_1's auc: 0.837463\n",
      "[1000]\ttraining's auc: 0.886685\tvalid_1's auc: 0.83759\n",
      "[1100]\ttraining's auc: 0.890992\tvalid_1's auc: 0.837696\n",
      "[1200]\ttraining's auc: 0.89499\tvalid_1's auc: 0.837668\n",
      "[1300]\ttraining's auc: 0.898974\tvalid_1's auc: 0.837852\n",
      "[1400]\ttraining's auc: 0.902516\tvalid_1's auc: 0.837977\n",
      "[1500]\ttraining's auc: 0.906024\tvalid_1's auc: 0.837735\n",
      "[1600]\ttraining's auc: 0.909452\tvalid_1's auc: 0.837651\n",
      "Early stopping, best iteration is:\n",
      "[1405]\ttraining's auc: 0.902748\tvalid_1's auc: 0.837996\n",
      "3 auc: 0.8379961500373521\n",
      "Fold 4/7*1\n",
      "Training until validation scores don't improve for 200 rounds.\n",
      "[100]\ttraining's auc: 0.816349\tvalid_1's auc: 0.808303\n",
      "[200]\ttraining's auc: 0.829006\tvalid_1's auc: 0.816632\n",
      "[300]\ttraining's auc: 0.841201\tvalid_1's auc: 0.823571\n",
      "[400]\ttraining's auc: 0.851107\tvalid_1's auc: 0.827844\n",
      "[500]\ttraining's auc: 0.85935\tvalid_1's auc: 0.830717\n",
      "[600]\ttraining's auc: 0.866327\tvalid_1's auc: 0.832121\n",
      "[700]\ttraining's auc: 0.87243\tvalid_1's auc: 0.832841\n",
      "[800]\ttraining's auc: 0.87777\tvalid_1's auc: 0.833342\n",
      "[900]\ttraining's auc: 0.882763\tvalid_1's auc: 0.83392\n",
      "[1000]\ttraining's auc: 0.887338\tvalid_1's auc: 0.834405\n",
      "[1100]\ttraining's auc: 0.891464\tvalid_1's auc: 0.834251\n",
      "[1200]\ttraining's auc: 0.895381\tvalid_1's auc: 0.834221\n",
      "Early stopping, best iteration is:\n",
      "[1007]\ttraining's auc: 0.887689\tvalid_1's auc: 0.834433\n",
      "4 auc: 0.8344334553722043\n",
      "Fold 5/7*1\n",
      "Training until validation scores don't improve for 200 rounds.\n",
      "[100]\ttraining's auc: 0.819023\tvalid_1's auc: 0.791254\n",
      "[200]\ttraining's auc: 0.831465\tvalid_1's auc: 0.798362\n",
      "[300]\ttraining's auc: 0.843033\tvalid_1's auc: 0.804136\n",
      "[400]\ttraining's auc: 0.852538\tvalid_1's auc: 0.808422\n",
      "[500]\ttraining's auc: 0.860453\tvalid_1's auc: 0.811415\n",
      "[600]\ttraining's auc: 0.866987\tvalid_1's auc: 0.812619\n",
      "[700]\ttraining's auc: 0.872867\tvalid_1's auc: 0.813537\n",
      "[800]\ttraining's auc: 0.878073\tvalid_1's auc: 0.814464\n",
      "[900]\ttraining's auc: 0.883216\tvalid_1's auc: 0.814838\n",
      "[1000]\ttraining's auc: 0.888026\tvalid_1's auc: 0.815103\n",
      "[1100]\ttraining's auc: 0.892491\tvalid_1's auc: 0.815413\n",
      "[1200]\ttraining's auc: 0.896655\tvalid_1's auc: 0.81559\n",
      "[1300]\ttraining's auc: 0.900657\tvalid_1's auc: 0.815769\n",
      "[1400]\ttraining's auc: 0.904312\tvalid_1's auc: 0.815839\n",
      "[1500]\ttraining's auc: 0.907844\tvalid_1's auc: 0.815828\n",
      "[1600]\ttraining's auc: 0.911122\tvalid_1's auc: 0.815688\n",
      "Early stopping, best iteration is:\n",
      "[1474]\ttraining's auc: 0.906929\tvalid_1's auc: 0.815954\n",
      "5 auc: 0.8159541205876674\n",
      "Fold 6/7*1\n",
      "Training until validation scores don't improve for 200 rounds.\n",
      "[100]\ttraining's auc: 0.818405\tvalid_1's auc: 0.797419\n",
      "[200]\ttraining's auc: 0.830757\tvalid_1's auc: 0.805039\n",
      "[300]\ttraining's auc: 0.842516\tvalid_1's auc: 0.811639\n",
      "[400]\ttraining's auc: 0.852308\tvalid_1's auc: 0.816331\n",
      "[500]\ttraining's auc: 0.860478\tvalid_1's auc: 0.819471\n",
      "[600]\ttraining's auc: 0.867464\tvalid_1's auc: 0.821715\n",
      "[700]\ttraining's auc: 0.873491\tvalid_1's auc: 0.822958\n",
      "[800]\ttraining's auc: 0.878697\tvalid_1's auc: 0.823919\n",
      "[900]\ttraining's auc: 0.883577\tvalid_1's auc: 0.82458\n",
      "[1000]\ttraining's auc: 0.888132\tvalid_1's auc: 0.825286\n",
      "[1100]\ttraining's auc: 0.892586\tvalid_1's auc: 0.825632\n",
      "[1200]\ttraining's auc: 0.896717\tvalid_1's auc: 0.825913\n",
      "[1300]\ttraining's auc: 0.900711\tvalid_1's auc: 0.825986\n",
      "[1400]\ttraining's auc: 0.904421\tvalid_1's auc: 0.825918\n",
      "[1500]\ttraining's auc: 0.907969\tvalid_1's auc: 0.826305\n",
      "[1600]\ttraining's auc: 0.911338\tvalid_1's auc: 0.826448\n",
      "[1700]\ttraining's auc: 0.914302\tvalid_1's auc: 0.826596\n",
      "[1800]\ttraining's auc: 0.917168\tvalid_1's auc: 0.82653\n",
      "[1900]\ttraining's auc: 0.92012\tvalid_1's auc: 0.826611\n",
      "[2000]\ttraining's auc: 0.922738\tvalid_1's auc: 0.826475\n",
      "[2100]\ttraining's auc: 0.925346\tvalid_1's auc: 0.826331\n",
      "Early stopping, best iteration is:\n",
      "[1945]\ttraining's auc: 0.921292\tvalid_1's auc: 0.826666\n",
      "6 auc: 0.8266663274346023\n",
      "Fold 7/7*1\n",
      "Training until validation scores don't improve for 200 rounds.\n",
      "[100]\ttraining's auc: 0.818328\tvalid_1's auc: 0.796912\n",
      "[200]\ttraining's auc: 0.830815\tvalid_1's auc: 0.805054\n",
      "[300]\ttraining's auc: 0.842226\tvalid_1's auc: 0.809983\n",
      "[400]\ttraining's auc: 0.851745\tvalid_1's auc: 0.813992\n",
      "[500]\ttraining's auc: 0.859988\tvalid_1's auc: 0.817039\n",
      "[600]\ttraining's auc: 0.866881\tvalid_1's auc: 0.8192\n",
      "[700]\ttraining's auc: 0.872862\tvalid_1's auc: 0.820418\n"
     ]
    },
    {
     "name": "stdout",
     "output_type": "stream",
     "text": [
      "[800]\ttraining's auc: 0.878258\tvalid_1's auc: 0.821014\n",
      "[900]\ttraining's auc: 0.883461\tvalid_1's auc: 0.821531\n",
      "[1000]\ttraining's auc: 0.887951\tvalid_1's auc: 0.821595\n",
      "[1100]\ttraining's auc: 0.892341\tvalid_1's auc: 0.822049\n",
      "[1200]\ttraining's auc: 0.896577\tvalid_1's auc: 0.822624\n",
      "[1300]\ttraining's auc: 0.9006\tvalid_1's auc: 0.82305\n",
      "[1400]\ttraining's auc: 0.904209\tvalid_1's auc: 0.823118\n",
      "[1500]\ttraining's auc: 0.907715\tvalid_1's auc: 0.823246\n",
      "[1600]\ttraining's auc: 0.911062\tvalid_1's auc: 0.823098\n",
      "Early stopping, best iteration is:\n",
      "[1481]\ttraining's auc: 0.907054\tvalid_1's auc: 0.82329\n",
      "7 auc: 0.823290206074903\n",
      "auc = 0.826419 +/- 0.007008\n"
     ]
    }
   ],
   "source": [
    "# Prepare dataset for training\n",
    "cols_to_drop = [\n",
    "    'id',\n",
    "    'target',\n",
    "]\n",
    "\n",
    "categorical = cat_names\n",
    "\n",
    "X = train.drop(cols_to_drop, axis=1, errors='ignore')\n",
    "y = train.target.values\n",
    "\n",
    "id_test = test.id.values\n",
    "X_test = test.drop(cols_to_drop[0], axis=1, errors='ignore')\n",
    "\n",
    "\n",
    "print('train.shape = {}, test.shape = {}'.format(train.shape, test.shape))\n",
    "\n",
    "lgb_params = {\n",
    "    'num_leaves' : 16,\n",
    "    'boosting_type': 'gbdt',\n",
    "    'objective': 'binary',\n",
    "    'metric': 'auc',\n",
    "    'max_depth': 5,\n",
    "    'learning_rate': 0.01, \n",
    "    'verbose': -1,\n",
    "    'num_threads': 8,\n",
    "#     'scale_pos_weight' : int(train.target.mean()*10),\n",
    "    'is_unbalance' : 'true',\n",
    "}\n",
    "\n",
    "# Build the model\n",
    "cnt = 0\n",
    "p_buf = []\n",
    "n_splits = 7\n",
    "n_repeats = 1\n",
    "kf = StratifiedKFold(\n",
    "    n_splits=n_splits, \n",
    "    )\n",
    "err_buf = []   \n",
    "\n",
    "n_features = X.shape[1]\n",
    "\n",
    "for train_index, valid_index in kf.split(X, y):\n",
    "    print('Fold {}/{}*{}'.format(cnt + 1, n_splits, n_repeats))\n",
    "    params = lgb_params.copy() \n",
    "    \n",
    "    lgb_train = lgb.Dataset(\n",
    "        X.iloc[train_index], \n",
    "        y[train_index], \n",
    "#         categorical_feature=categorical,\n",
    "    \n",
    "        )\n",
    "    lgb_train.raw_data = None\n",
    "\n",
    "    lgb_valid = lgb.Dataset(\n",
    "        X.iloc[valid_index], \n",
    "        y[valid_index],\n",
    "#         categorical_feature=categorical,\n",
    "        )\n",
    "    lgb_valid.raw_data = None\n",
    "\n",
    "    model = lgb.train(\n",
    "        params,\n",
    "        lgb_train,\n",
    "        num_boost_round=100000,\n",
    "        valid_sets=[lgb_train, lgb_valid],\n",
    "        early_stopping_rounds=200, \n",
    "        verbose_eval=100,\n",
    "    )\n",
    "\n",
    "    if cnt == 0:\n",
    "        importance = model.feature_importance()\n",
    "        model_fnames = model.feature_name()\n",
    "        tuples = sorted(zip(model_fnames, importance), key=lambda x: x[1])[::-1]\n",
    "        tuples = [x for x in tuples if x[1] > 0]\n",
    "        print('Important features:')\n",
    "        for i in range(60):\n",
    "            if i < len(tuples):\n",
    "                print(tuples[i])\n",
    "            else:\n",
    "                break\n",
    "\n",
    "        del importance, model_fnames, tuples\n",
    "\n",
    "    p = model.predict(X.iloc[valid_index], num_iteration=model.best_iteration)\n",
    "    err = roc_auc_score(y[valid_index], p)\n",
    "\n",
    "    print('{} auc: {}'.format(cnt + 1, err))\n",
    "\n",
    "    p = model.predict(X_test, num_iteration=model.best_iteration)\n",
    "    if len(p_buf) == 0:\n",
    "        p_buf = np.array(p, dtype=np.float16)\n",
    "    else:\n",
    "        p_buf += np.array(p, dtype=np.float16)\n",
    "    err_buf.append(err)\n",
    "\n",
    "\n",
    "    cnt += 1\n",
    "\n",
    "    del model, lgb_train, lgb_valid, p\n",
    "    gc.collect\n",
    "\n",
    "err_mean = np.mean(err_buf)\n",
    "err_std = np.std(err_buf)\n",
    "print('auc = {:.6f} +/- {:.6f}'.format(err_mean, err_std))\n",
    "\n",
    "preds = p_buf/cnt"
   ]
  },
  {
   "cell_type": "code",
   "execution_count": null,
   "metadata": {},
   "outputs": [],
   "source": [
    "# p_8284"
   ]
  },
  {
   "cell_type": "code",
   "execution_count": null,
   "metadata": {},
   "outputs": [],
   "source": []
  },
  {
   "cell_type": "code",
   "execution_count": null,
   "metadata": {},
   "outputs": [],
   "source": []
  },
  {
   "cell_type": "code",
   "execution_count": null,
   "metadata": {},
   "outputs": [],
   "source": []
  },
  {
   "cell_type": "code",
   "execution_count": 55,
   "metadata": {},
   "outputs": [],
   "source": [
    "# Prepare submission\n",
    "subm = pd.DataFrame()\n",
    "subm['id'] = test_df.id.values\n",
    "subm['prediction'] = p\n",
    "subm.to_csv('submissions/with_auto_merge.csv', index=False)"
   ]
  },
  {
   "cell_type": "code",
   "execution_count": null,
   "metadata": {},
   "outputs": [],
   "source": []
  },
  {
   "cell_type": "code",
   "execution_count": null,
   "metadata": {},
   "outputs": [],
   "source": []
  },
  {
   "cell_type": "code",
   "execution_count": null,
   "metadata": {},
   "outputs": [],
   "source": []
  },
  {
   "cell_type": "code",
   "execution_count": null,
   "metadata": {},
   "outputs": [],
   "source": []
  },
  {
   "cell_type": "code",
   "execution_count": null,
   "metadata": {},
   "outputs": [],
   "source": []
  },
  {
   "cell_type": "code",
   "execution_count": null,
   "metadata": {},
   "outputs": [],
   "source": []
  },
  {
   "cell_type": "code",
   "execution_count": null,
   "metadata": {},
   "outputs": [],
   "source": []
  },
  {
   "cell_type": "code",
   "execution_count": null,
   "metadata": {},
   "outputs": [],
   "source": []
  },
  {
   "cell_type": "code",
   "execution_count": null,
   "metadata": {},
   "outputs": [],
   "source": []
  },
  {
   "cell_type": "code",
   "execution_count": null,
   "metadata": {},
   "outputs": [],
   "source": []
  },
  {
   "cell_type": "code",
   "execution_count": null,
   "metadata": {},
   "outputs": [],
   "source": []
  },
  {
   "cell_type": "markdown",
   "metadata": {},
   "source": [
    "# Old"
   ]
  },
  {
   "cell_type": "code",
   "execution_count": null,
   "metadata": {},
   "outputs": [],
   "source": [
    "# Объединяем выборки для обработки переменных, запоминаем индексы чтобы потом разделить назад\n",
    "train_idx = train_df.index[-1]\n",
    "merged = pd.concat([train_df, test_df], axis=0)"
   ]
  },
  {
   "cell_type": "markdown",
   "metadata": {},
   "source": [
    "Так как для замещения пропусков нужно понимать что использовать медиану или -1. В категориальных признаках мы используем -1. В численных мы используем медиану.\n",
    "\n",
    "Также нужно разделить признакми на три категории: бинарные (их просто оставляем и нигде не указываем), категориальные - это те признаки которые мы хотим закодировать в эмбединги и числовые признаки - это те которые нужно просто нормализовать."
   ]
  },
  {
   "cell_type": "code",
   "execution_count": null,
   "metadata": {},
   "outputs": [],
   "source": [
    "# Бинарный признка целочисленное значение, пропуски = -1, не эмбединги\n",
    "binary_columns = [o for o in merged.columns if 'flag' in o or 'is' in o]\n",
    "binary_columns.remove('tp_flag')\n",
    "print(f'Бинарных признаков - {len(binary_columns)}')\n",
    "\n",
    "# Для категориальных признаков используем -1. Кодируем в эмбединги. Целочисленные значения.\n",
    "cat_names = ['sim_count', 'device_type', 'manufacturer_category', 'os_category', 'tp_flag']\n",
    "print(f'Категориальных признаков - {len(cat_names)}')\n",
    "\n",
    "# Флоат должны использовать медиану для замещения пропусков\n",
    "float_columns = list(set(merged.columns).difference(set(binary_columns+cat_names)))\n",
    "float_columns.remove('id')\n",
    "print(f'Числовых признаков - {len(float_columns)}')"
   ]
  },
  {
   "cell_type": "code",
   "execution_count": 28,
   "metadata": {},
   "outputs": [],
   "source": [
    "# Замещаем пропущенные значения в соответствии с типом данных\n",
    "merged[binary_columns] = merged[binary_columns].apply(lambda x: x.fillna(-1))\n",
    "merged[cat_names] = merged[cat_names].apply(lambda x: x.fillna(-1))\n",
    "merged[float_columns] = merged[float_columns].apply(lambda x: x.fillna(x.median()))\n",
    "assert merged.isna().sum().sum() == 0, 'Buddy, slow down!'\n",
    "\n",
    "# Присваивает тип для каждой из переменных\n",
    "merged[binary_columns] = merged[binary_columns].apply(lambda x: x.astype('int'))\n",
    "merged[cat_names] = merged[cat_names].apply(lambda x: x.astype('int'))\n",
    "merged[float_columns] = merged[float_columns].apply(lambda x: x.astype('float'))"
   ]
  },
  {
   "cell_type": "code",
   "execution_count": 29,
   "metadata": {},
   "outputs": [],
   "source": [
    "# Разделяем обработанные обучающую и тестовую выборки\n",
    "train_df_proc = merged.iloc[:train_idx+1, :]\n",
    "train_df_proc['target'] = train_y\n",
    "test_df_proc = merged.iloc[train_idx+1:, :]\n",
    "del merged\n",
    "del train_y\n",
    "\n",
    "# Указываем для модели категориальные (для кодировки в эмб) и числовые\n",
    "dep_var = 'target'\n",
    "cont_names = float_columns\n",
    "cat_names = cat_names\n",
    "procs = [Categorify, Normalize]"
   ]
  },
  {
   "cell_type": "code",
   "execution_count": 13,
   "metadata": {},
   "outputs": [],
   "source": [
    "# Создаем инстанс метрики ROC-AUC\n",
    "roc_auc = RocAuc(roc_auc_score)"
   ]
  },
  {
   "cell_type": "code",
   "execution_count": 32,
   "metadata": {},
   "outputs": [],
   "source": [
    "# # Колонку id не использовать в обучении\n",
    "# cols = train_df_proc.columns[1:]"
   ]
  },
  {
   "cell_type": "code",
   "execution_count": 14,
   "metadata": {},
   "outputs": [],
   "source": [
    "# Оборачивае тестовый файл в обертку fast.ai\n",
    "test = TabularList.from_df(test, \n",
    "                           path=path_to_data, \n",
    "                           cat_names=cat_names,\n",
    "                           cont_names=cont_names)"
   ]
  },
  {
   "cell_type": "code",
   "execution_count": 15,
   "metadata": {},
   "outputs": [],
   "source": [
    "_, valid_x, _, _ = train_test_split(train.index, \n",
    "                                    train['target'].values, \n",
    "                                    stratify=train['target'].values,\n",
    "                                    test_size=0.2, \n",
    "                                    random_state=SEED)"
   ]
  },
  {
   "cell_type": "code",
   "execution_count": 16,
   "metadata": {},
   "outputs": [],
   "source": [
    "data = (TabularList.from_df(train, path=path_to_data, cat_names=cat_names, cont_names=cont_names, procs=procs)\n",
    "                           .split_by_idx(list(valid_x.values))\n",
    "                           .label_from_df(cols=dep_var)\n",
    "                           .add_test(test, label=0)\n",
    "                           .databunch())\n",
    "data.batch_size = 128"
   ]
  },
  {
   "cell_type": "code",
   "execution_count": 17,
   "metadata": {},
   "outputs": [],
   "source": [
    "learn = tabular_learner(data, layers=[200,100], metrics=[accuracy, roc_auc])"
   ]
  },
  {
   "cell_type": "code",
   "execution_count": 18,
   "metadata": {
    "scrolled": true
   },
   "outputs": [
    {
     "name": "stdout",
     "output_type": "stream",
     "text": [
      "LR Finder is complete, type {learner_name}.recorder.plot() to see the graph.\n"
     ]
    },
    {
     "data": {
      "image/png": "[encoded data removed]",
      "text/plain": [
       "<Figure size 432x288 with 1 Axes>"
      ]
     },
     "metadata": {
      "needs_background": "light"
     },
     "output_type": "display_data"
    }
   ],
   "source": [
    "learn.lr_find()\n",
    "learn.recorder.plot()"
   ]
  },
  {
   "cell_type": "code",
   "execution_count": 20,
   "metadata": {},
   "outputs": [],
   "source": [
    "# learn.fit_one_cycle(4, 2e-2)"
   ]
  },
  {
   "cell_type": "code",
   "execution_count": 74,
   "metadata": {},
   "outputs": [
    {
     "data": {
      "text/plain": [
       "0.757943522049218"
      ]
     },
     "execution_count": 74,
     "metadata": {},
     "output_type": "execute_result"
    }
   ],
   "source": [
    "# Валидация\n",
    "valid_preds = learn.get_preds(ds_type=DatasetType.Valid)\n",
    "roc_auc_score(valid_preds[1], valid_preds[0][:, 1].tolist()) "
   ]
  },
  {
   "cell_type": "code",
   "execution_count": 77,
   "metadata": {},
   "outputs": [
    {
     "data": {
      "image/png": "[encoded data removed]",
      "text/plain": [
       "<Figure size 432x288 with 1 Axes>"
      ]
     },
     "metadata": {
      "needs_background": "light"
     },
     "output_type": "display_data"
    }
   ],
   "source": [
    "plt.hist(valid_preds[0][:, 1].tolist());"
   ]
  },
  {
   "cell_type": "code",
   "execution_count": 78,
   "metadata": {},
   "outputs": [],
   "source": [
    "test_preds = learn.get_preds(ds_type=DatasetType.Test)\n",
    "plt.hist(test_preds[0][:, 1].tolist());"
   ]
  },
  {
   "cell_type": "code",
   "execution_count": 59,
   "metadata": {},
   "outputs": [
    {
     "name": "stdout",
     "output_type": "stream",
     "text": [
      "File saved.\n"
     ]
    }
   ],
   "source": [
    "make_submition(test_df, learn, 'third_try')"
   ]
  }
 ],
 "metadata": {
  "kernelspec": {
   "display_name": "Python 3",
   "language": "python",
   "name": "python3"
  },
  "language_info": {
   "codemirror_mode": {
    "name": "ipython",
    "version": 3
   },
   "file_extension": ".py",
   "mimetype": "text/x-python",
   "name": "python",
   "nbconvert_exporter": "python",
   "pygments_lexer": "ipython3",
   "version": "3.7.0"
  }
 },
 "nbformat": 4,
 "nbformat_minor": 2
}

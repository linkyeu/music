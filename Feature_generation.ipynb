{
 "cells": [
  {
   "cell_type": "code",
   "execution_count": 1,
   "metadata": {},
   "outputs": [],
   "source": [
    "%reload_ext autoreload\n",
    "%autoreload 2"
   ]
  },
  {
   "cell_type": "code",
   "execution_count": 36,
   "metadata": {},
   "outputs": [],
   "source": [
    "import sys; sys.path.append('scripts')\n",
    "from common import *\n",
    "from global_common import *\n",
    "from models import *"
   ]
  },
  {
   "cell_type": "code",
   "execution_count": 40,
   "metadata": {
    "scrolled": true
   },
   "outputs": [
    {
     "name": "stdout",
     "output_type": "stream",
     "text": [
      "Shape of train (70000, 461)\n",
      "Shape of test (30000, 460)\n",
      "\n",
      "Целочисленных переменных  : 236\n",
      "Целочисленные переменные обработаны.\n",
      "Переменных с плавающей точкой : 225\n",
      "Переменных с плавающей точкой обработаны.\n"
     ]
    }
   ],
   "source": [
    "# Читаем данные--------------------------------------\n",
    "path_to_data = Path('../data')\n",
    "train_df = pd.read_csv(path_to_data/'train_music.csv')\n",
    "# train_y = train_df['target']\n",
    "# del train_df['target']\n",
    "\n",
    "test_df  = pd.read_csv(path_to_data/'test_music.csv')\n",
    "\n",
    "sample_submission_df = pd.read_csv(path_to_data/'sample_submission_music.csv')\n",
    "print(f'Shape of train {train_df.shape}\\nShape of test {test_df.shape}\\n')\n",
    "\n",
    "# Объединяем выборки для обработки переменных, запоминаем индексы чтобы потом разделить назад\n",
    "# train_idx = train_df.index[-1]\n",
    "# merged = pd.concat([train_df, test_df], axis=0, )\n",
    "# Raw data\n",
    "test_df['Target'] = np.nan\n",
    "\n",
    "merged = train_df.append(test_df, sort = True)\n",
    "\n",
    "# целочисленные переменные----------------------\n",
    "int_columns = [o for o in train_df.columns for crit in ['flag', 'is', 'count'] if crit in o]\n",
    "int_columns += ['sim_count', 'device_type', 'manufacturer_category', 'os_category', 'tp_flag', \n",
    "                'days_exp', 'paym_last_days']\n",
    "print(f'Целочисленных переменных  : {len(int_columns)}')\n",
    "\n",
    "# Если в значениях переменной есть 0, тогда пропуски заполняет -1. Если нет 0, тогда заполняем нулем.\n",
    "merged[int_columns] = merged[int_columns].apply(lambda x: x.fillna(-1) if 0 in x.values else x.fillna(0))\n",
    "merged[int_columns] = merged[int_columns].apply(lambda x: x.astype('int'))\n",
    "print('Целочисленные переменные обработаны.')\n",
    "\n",
    "# с плавающей точкой переменные----------------------\n",
    "float_cols = [o for o in train_df.columns for crit in ['data_type', 'rr', 'vol', 'cost', 'dur', \n",
    "                                                       'sum', 'part', 'clc', 'lt', 'brnd'] if crit in o]\n",
    "print(f'Переменных с плавающей точкой : {len(float_cols)}')\n",
    "\n",
    "merged[float_cols] = merged[float_cols].apply(lambda x: x.fillna(x.median()) if 0 in x.values else x.fillna(0))\n",
    "merged[float_cols] = merged[float_cols].apply(lambda x: x.astype('float'))\n",
    "print('Переменных с плавающей точкой обработаны.')"
   ]
  },
  {
   "cell_type": "code",
   "execution_count": null,
   "metadata": {},
   "outputs": [],
   "source": []
  },
  {
   "cell_type": "code",
   "execution_count": 31,
   "metadata": {},
   "outputs": [],
   "source": [
    "# # Разделяем обработанные обучающую и тестовую выборки\n",
    "# train = merged.iloc[:train_idx+1, :]\n",
    "# train['target'] = train_y\n",
    "# test = merged.iloc[train_idx+1:, :]\n",
    "# del merged\n",
    "# del train_y"
   ]
  },
  {
   "cell_type": "code",
   "execution_count": 35,
   "metadata": {},
   "outputs": [],
   "source": [
    "import featuretools as ft"
   ]
  },
  {
   "cell_type": "code",
   "execution_count": null,
   "metadata": {},
   "outputs": [],
   "source": [
    "train_valid = train.loc[train['parentesco1'] == 1, ['idhogar', 'Id', 'Target']].copy()\n",
    "test_valid = test.loc[test['parentesco1'] == 1, ['idhogar', 'Id']].copy()\n",
    "\n",
    "submission_base = test[['Id', 'idhogar']]"
   ]
  },
  {
   "cell_type": "code",
   "execution_count": 41,
   "metadata": {},
   "outputs": [],
   "source": [
    "data = merged"
   ]
  },
  {
   "cell_type": "markdown",
   "metadata": {},
   "source": [
    "# Remove Correlated Features"
   ]
  },
  {
   "cell_type": "code",
   "execution_count": 42,
   "metadata": {
    "scrolled": true
   },
   "outputs": [
    {
     "name": "stdout",
     "output_type": "stream",
     "text": [
      "There are 28 correlated columns to remove.\n",
      "['count_act_type_5', 'count_act_type_7', 'count_gift_type_2', 'paym_sum_m1', 'paym_sum_m2', 'rr_gift_type_2', 'service_2_flag', 'sms_roam_in_count_m1', 'sms_roam_in_count_m2', 'sms_roam_in_count_m3', 'voice_omo_cc_count_m2', 'voice_omo_cc_count_m3', 'voice_onnet_cc_count_m1', 'voice_onnet_cc_count_m2', 'voice_onnet_cc_count_m3', 'voice_onnet_in_count_m1', 'voice_onnet_in_count_m2', 'voice_onnet_in_count_m3', 'voice_onnet_in_dur_m1', 'voice_onnet_in_dur_m2', 'voice_onnet_in_dur_m3', 'voice_onnet_out_count_m1', 'voice_onnet_out_count_m2', 'voice_onnet_out_count_m3', 'voice_onnet_out_dur_m1', 'voice_onnet_out_dur_m2', 'voice_onnet_out_dur_m3', 'voice_pstn_out_dur_m1']\n"
     ]
    }
   ],
   "source": [
    "# Create correlation matrix\n",
    "corr_matrix = data.corr()\n",
    "\n",
    "# Select upper triangle of correlation matrix\n",
    "upper = corr_matrix.where(np.triu(np.ones(corr_matrix.shape), k=1).astype(np.bool))\n",
    "\n",
    "# Find index of feature columns with correlation greater than 0.95\n",
    "to_drop = [column for column in upper.columns if any(abs(upper[column]) > 0.975)]\n",
    "\n",
    "print(f'There are {len(to_drop)} correlated columns to remove.')\n",
    "print(to_drop)"
   ]
  },
  {
   "cell_type": "code",
   "execution_count": 45,
   "metadata": {},
   "outputs": [],
   "source": [
    "data = data.drop(columns = to_drop)"
   ]
  },
  {
   "cell_type": "code",
   "execution_count": 46,
   "metadata": {},
   "outputs": [],
   "source": [
    "import featuretools.variable_types as vtypes"
   ]
  },
  {
   "cell_type": "code",
   "execution_count": 75,
   "metadata": {},
   "outputs": [],
   "source": [
    "vars_bool = list(set([o for o in data.columns for crit in ['flag', 'is'] if crit in o] ))            \n",
    "vars_int = [o for o in train_df.columns for crit in ['count'] if crit in o] + ['sim_count', 'days_exp', 'paym_last_days']\n",
    "vars_cont = float_cols"
   ]
  },
  {
   "cell_type": "code",
   "execution_count": 76,
   "metadata": {},
   "outputs": [
    {
     "data": {
      "text/plain": [
       "456"
      ]
     },
     "execution_count": 76,
     "metadata": {},
     "output_type": "execute_result"
    }
   ],
   "source": [
    "len(vars_cont) + len(vars_bool) + len(vars_int)"
   ]
  },
  {
   "cell_type": "code",
   "execution_count": 84,
   "metadata": {},
   "outputs": [],
   "source": [
    "data[vars_bool] = data[vars_bool].apply(lambda x: x.astype('bool'))"
   ]
  },
  {
   "cell_type": "code",
   "execution_count": 85,
   "metadata": {},
   "outputs": [
    {
     "data": {
      "image/png": "[encoded data removed]",
      "text/plain": [
       "<Figure size 432x288 with 1 Axes>"
      ]
     },
     "metadata": {
      "needs_background": "light"
     },
     "output_type": "display_data"
    }
   ],
   "source": [
    "data.dtypes.value_counts().plot.bar(edgecolor = 'k');\n",
    "plt.title('Variable Type Distribution');"
   ]
  },
  {
   "cell_type": "code",
   "execution_count": 87,
   "metadata": {},
   "outputs": [
    {
     "data": {
      "text/plain": [
       "Entityset: dataset\n",
       "  Entities:\n",
       "    data [Rows: 100000, Columns: 434]\n",
       "  Relationships:\n",
       "    No relationships"
      ]
     },
     "execution_count": 87,
     "metadata": {},
     "output_type": "execute_result"
    }
   ],
   "source": [
    "es = ft.EntitySet(id = 'dataset')\n",
    "es.entity_from_dataframe(entity_id = 'data', \n",
    "                         dataframe = data, \n",
    "                         index = 'id')"
   ]
  },
  {
   "cell_type": "code",
   "execution_count": null,
   "metadata": {},
   "outputs": [],
   "source": []
  },
  {
   "cell_type": "code",
   "execution_count": null,
   "metadata": {},
   "outputs": [],
   "source": []
  },
  {
   "cell_type": "code",
   "execution_count": null,
   "metadata": {},
   "outputs": [],
   "source": []
  },
  {
   "cell_type": "code",
   "execution_count": null,
   "metadata": {},
   "outputs": [],
   "source": []
  },
  {
   "cell_type": "code",
   "execution_count": null,
   "metadata": {},
   "outputs": [],
   "source": []
  },
  {
   "cell_type": "code",
   "execution_count": 17,
   "metadata": {},
   "outputs": [],
   "source": [
    "def show_feature_stats(train_df, test_df, feat_train, feat_test, feature_name):\n",
    "    '''\n",
    "    Inputs:\n",
    "    =======\n",
    "    feat_train, feat_test : vectors with shape (len, );\n",
    "    feature_name : string\n",
    "    '''\n",
    "    \n",
    "    # Здесь мы добавляем наши новые признаки\n",
    "    train_df[f\"{feature_name}\"] = feat_train.reshape(-1, 1)\n",
    "    test_df[f\"{feature_name}\"] = feat_test.reshape(-1, 1)\n",
    "    \n",
    "    fig, ax = plt.subplots(1,2, figsize=(14, 6))\n",
    "    \n",
    "    # Здесь мы смотрим распределение переменной в обуч. и тестовой выборках\n",
    "    sns.distplot(feat_train, kde=False, label='Train', ax=ax[0]);\n",
    "    sns.distplot(feat_test, kde=False, label='Test', ax=ax[0]);\n",
    "    ax[0].set_yscale('log')\n",
    "    ax[0].set_title(f'{feature_name} Distr Train / Test')\n",
    "    ax[0].legend();\n",
    "    ax[0].set_xlabel(f'{feature_name}')\n",
    "    fig.tight_layout()\n",
    "    \n",
    "    # Здесь мы смотрим распределение переменной для целевых значений и остальных\n",
    "    sns.distplot(train_df[train_df['target'] == 1][f\"{feature_name}\"], label='Alice', kde=False)\n",
    "    sns.distplot(train_df[train_df['target'] == 0][f\"{feature_name}\"], label='Other', kde=False)\n",
    "    ax[1].set_yscale('log')\n",
    "    ax[1].set_title(f'{feature_name} Distr Train / Test')\n",
    "    ax[1].legend();\n",
    "    ax[1].set_xlabel(f'{feature_name}')\n",
    "    \n",
    "    fig.tight_layout()"
   ]
  },
  {
   "cell_type": "code",
   "execution_count": 24,
   "metadata": {},
   "outputs": [],
   "source": [
    "def show_feature(train_df, test_df, feature_name):\n",
    "    '''\n",
    "    Inputs:\n",
    "    =======\n",
    "    feat_train, feat_test : vectors with shape (len, );\n",
    "    feature_name : string\n",
    "    '''\n",
    "    \n",
    "    print(np.corrcoef(train_df[f\"{feature_name}\"].values, \n",
    "                      train_df['target'].values))\n",
    "    \n",
    "    fig, ax = plt.subplots(1,2, figsize=(14, 6))\n",
    "    \n",
    "    # Здесь мы смотрим распределение переменной в обуч. и тестовой выборках\n",
    "    sns.distplot(train_df[f\"{feature_name}\"], kde=False, label='Train', ax=ax[0]);\n",
    "    sns.distplot(test_df[f\"{feature_name}\"], kde=False, label='Test', ax=ax[0]);\n",
    "    ax[0].set_yscale('log')\n",
    "    ax[0].set_title(f'{feature_name} Distr Train / Test')\n",
    "    ax[0].legend();\n",
    "    ax[0].set_xlabel(f'{feature_name}')\n",
    "    fig.tight_layout()\n",
    "    \n",
    "    # Здесь мы смотрим распределение переменной для целевых значений и остальных\n",
    "    sns.distplot(train_df[train_df['target'] == 1][f\"{feature_name}\"], label='Alice', kde=False)\n",
    "    sns.distplot(train_df[train_df['target'] == 0][f\"{feature_name}\"], label='Other', kde=False)\n",
    "    ax[1].set_yscale('log')\n",
    "    ax[1].set_title(f'{feature_name} Distr Train')\n",
    "    ax[1].legend();\n",
    "    ax[1].set_xlabel(f'{feature_name}')\n",
    "    \n",
    "    fig.tight_layout()"
   ]
  },
  {
   "cell_type": "code",
   "execution_count": 25,
   "metadata": {},
   "outputs": [
    {
     "name": "stdout",
     "output_type": "stream",
     "text": [
      "[[1.       0.126873]\n",
      " [0.126873 1.      ]]\n"
     ]
    },
    {
     "data": {
      "image/png": "[encoded data removed]",
      "text/plain": [
       "<Figure size 1008x432 with 2 Axes>"
      ]
     },
     "metadata": {
      "needs_background": "light"
     },
     "output_type": "display_data"
    }
   ],
   "source": [
    "show_feature(train, test, 'lt')"
   ]
  },
  {
   "cell_type": "code",
   "execution_count": 27,
   "metadata": {},
   "outputs": [
    {
     "name": "stdout",
     "output_type": "stream",
     "text": [
      "[[1.      0.01998]\n",
      " [0.01998 1.     ]]\n"
     ]
    },
    {
     "data": {
      "image/png": "[encoded data removed]",
      "text/plain": [
       "<Figure size 1008x432 with 2 Axes>"
      ]
     },
     "metadata": {
      "needs_background": "light"
     },
     "output_type": "display_data"
    }
   ],
   "source": [
    "show_feature(train, test, 'data_type_2_m1')"
   ]
  },
  {
   "cell_type": "code",
   "execution_count": 28,
   "metadata": {},
   "outputs": [
    {
     "name": "stdout",
     "output_type": "stream",
     "text": [
      "[[1.       0.009482]\n",
      " [0.009482 1.      ]]\n"
     ]
    },
    {
     "data": {
      "image/png": "[encoded data removed]",
      "text/plain": [
       "<Figure size 1008x432 with 2 Axes>"
      ]
     },
     "metadata": {
      "needs_background": "light"
     },
     "output_type": "display_data"
    }
   ],
   "source": [
    "show_feature(train, test, 'data_type_1_m1')"
   ]
  },
  {
   "cell_type": "code",
   "execution_count": 29,
   "metadata": {},
   "outputs": [
    {
     "name": "stdout",
     "output_type": "stream",
     "text": [
      "[[1.       0.003612]\n",
      " [0.003612 1.      ]]\n"
     ]
    },
    {
     "data": {
      "image/png": "[encoded data removed]",
      "text/plain": [
       "<Figure size 1008x432 with 2 Axes>"
      ]
     },
     "metadata": {
      "needs_background": "light"
     },
     "output_type": "display_data"
    }
   ],
   "source": [
    "show_feature(train, test, 'manufacturer_category')"
   ]
  },
  {
   "cell_type": "code",
   "execution_count": null,
   "metadata": {},
   "outputs": [],
   "source": []
  }
 ],
 "metadata": {
  "kernelspec": {
   "display_name": "Python 3",
   "language": "python",
   "name": "python3"
  },
  "language_info": {
   "codemirror_mode": {
    "name": "ipython",
    "version": 3
   },
   "file_extension": ".py",
   "mimetype": "text/x-python",
   "name": "python",
   "nbconvert_exporter": "python",
   "pygments_lexer": "ipython3",
   "version": "3.7.0"
  }
 },
 "nbformat": 4,
 "nbformat_minor": 2
}

{
 "cells": [
  {
   "cell_type": "code",
   "execution_count": null,
   "metadata": {},
   "outputs": [],
   "source": [
    "# TODO обернуть в функу"
   ]
  },
  {
   "cell_type": "code",
   "execution_count": null,
   "metadata": {},
   "outputs": [],
   "source": [
    "# preds = pd.read_csv('submissions/segodnya.csv')\n",
    "# preds = preds.prediction.values\n",
    "\n",
    "\n",
    "# add_positive = test.iloc[(preds>=0.75), :].copy(); add_positive['target'] = 1\n",
    "# add_negative = test.iloc[(preds<=0.1), :].copy(); add_negative['target'] = 0\n",
    "\n",
    "# data_with_pseudo = pd.concat([\n",
    "#     data.loc[~data.target.isnull(), :],\n",
    "#     add_positive, \n",
    "#     add_negative,\n",
    "# ], axis=0)\n",
    "\n",
    "# БЫТЬ внимательным это гиперпараметры подобраны на данным вместе с тестовой выборкой (псевдометками).\n",
    "\n",
    "# XGB objective call #1 cur_best_loss=    inf\n",
    "# Params: bagging_fraction=0.8546045587883984 bagging_freq=1.0 feature_fraction=0.7769982179743384 \n",
    "# lambda_l1=6.434984255071248 lambda_l2=6.507373140449929 learning_rate=0.019608382647435866 max_bin=77.0 \n",
    "# min_data_in_leaf=101.0 min_sum_hessian_in_leaf=3.232585627339814 num_leaves=106.0\n",
    "# nb_trees=1398 val_loss=defaultdict(<class 'dict'>, {'valid_0': {'auc': 0.8401544136945555}})\n",
    "# val_roc=0.8401544136945553\n",
    "# NEW BEST LOSS=0.8401544136945553\n",
    "\n",
    "# lgb_params_with_pseudo = {\n",
    "#     'nb_trees' : 1398,\n",
    "#     'bagging_fraction' : 0.8546045587883984,\n",
    "#     'bagging_freq' : 1,\n",
    "#     'feature_fraction' : 0.7769982179743384,\n",
    "#     'lambda_l1' : 6.434984255071248,\n",
    "#     'lambda_l2' : 6.507373140449929,\n",
    "#     'learning_rate' : 0.019608382647435866,\n",
    "#     'max_bin' : 77,\n",
    "#     'min_data_in_leaf' : 101,\n",
    "#     'min_sum_hessian_in_leaf' : 3.232585627339814,\n",
    "#     'num_leaves' : 106,\n",
    "#     'boosting_type': 'gbdt',\n",
    "#     'objective': 'binary',\n",
    "#     'metric': 'auc',\n",
    "#     'max_depth': -1,\n",
    "#     'verbose': -1,\n",
    "#     'num_threads': 10,\n",
    "#     'is_unbalance' : 'true',\n",
    "# }\n",
    "\n",
    "\n",
    "# add = pd.concat([\n",
    "#     add_negative, \n",
    "#     add_positive,\n",
    "# ],axis=0)\n",
    "\n",
    "\n",
    "# preds = run_tree_pseudo(lgb_params, train, add, test, folds=10, early_stop=200)\n",
    "\n",
    "\n",
    "# # Prepare submission\n",
    "# subm = pd.DataFrame()\n",
    "# subm['id'] = test.id.values\n",
    "# subm['prediction'] = preds\n",
    "# subm.to_csv('submissions/pseudo_3.csv', index=False)"
   ]
  }
 ],
 "metadata": {
  "kernelspec": {
   "display_name": "Python 3",
   "language": "python",
   "name": "python3"
  },
  "language_info": {
   "codemirror_mode": {
    "name": "ipython",
    "version": 3
   },
   "file_extension": ".py",
   "mimetype": "text/x-python",
   "name": "python",
   "nbconvert_exporter": "python",
   "pygments_lexer": "ipython3",
   "version": "3.7.0"
  }
 },
 "nbformat": 4,
 "nbformat_minor": 2
}

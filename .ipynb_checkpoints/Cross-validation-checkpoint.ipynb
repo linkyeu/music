{
 "cells": [
  {
   "cell_type": "markdown",
   "metadata": {},
   "source": [
    "В этой тетраде разбиваем данные на n фолдов. Считаем по k эпох для каждого из фолдов и делаем предикшен используя лучшую модель в фолде. Потом результаты осредняем и сабмитим."
   ]
  },
  {
   "cell_type": "code",
   "execution_count": null,
   "metadata": {},
   "outputs": [],
   "source": [
    "# Здесь нужно получить только индексы для валидионной выборки мы их передадим в фастаи для разделения выборок\n",
    "kf = 3\n",
    "val_folds_idx = []\n",
    "skf = StratifiedKFold(n_splits=kf, random_state=SEED, shuffle=True)\n",
    "for train_idx, valid_idx in skf.split(train_df_proc.index, train_df_proc.target):\n",
    "    val_folds_idx.append(valid_idx)\n",
    "    print(train_idx.shape, valid_idx.shape)"
   ]
  },
  {
   "cell_type": "code",
   "execution_count": null,
   "metadata": {},
   "outputs": [],
   "source": [
    "cols = train_df_proc.columns[1:]"
   ]
  },
  {
   "cell_type": "code",
   "execution_count": null,
   "metadata": {},
   "outputs": [],
   "source": [
    "# Какая то херня с этими табличными моделями, поэтому \n",
    "# после каждого фолда сразу делаем предикшен\n",
    "\n",
    "# Гоняем kf моделей и сохраняем лучшие\n",
    "predictions = np.zeros((test_df.shape[0]))\n",
    "for fold in range(kf):\n",
    "    # Создаем данные для подвыборки\n",
    "    data = (TabularList.from_df(train_df_proc, path=path_to_data, cat_names=cat_names, cont_names=cont_names, procs=procs)\n",
    "                           .split_by_idx(val_folds_idx[fold])\n",
    "                           .label_from_df(cols=dep_var)\n",
    "                           .add_test(test, label=0)\n",
    "                           .databunch())\n",
    "    data.batch_size = 128\n",
    "    # Создаем модель \n",
    "    learn = tabular_learner(data, \n",
    "                            layers=[200,100], \n",
    "                            metrics=[accuracy, roc_auc], \n",
    "                            emb_drop=0.1, \n",
    "                            ps=0.1, \n",
    "                            callback_fns=[partial(callbacks.SaveModelCallback, \n",
    "                                                 monitor='roc_auc_score', \n",
    "                                                 mode='max', \n",
    "                                                 name=f'bestmodel_{fold}')])\n",
    "    \n",
    "    # Считаем\n",
    "    learn.fit_one_cycle(2, max_lr=1e-2)\n",
    "    \n",
    "    # Считаем сразу предикшн\n",
    "    p = learn.get_preds(ds_type=DatasetType.Test)\n",
    "    p_list = p[0][:, 1].tolist()\n",
    "    predictions += p_list\n",
    "    \n",
    "    del data\n",
    "    del learn\n",
    "    \n",
    "# Получаем средний предикшн\n",
    "predictions /= kf"
   ]
  },
  {
   "cell_type": "code",
   "execution_count": null,
   "metadata": {},
   "outputs": [],
   "source": [
    "make_submition(test_df, learn, 'local_rocauc_83')"
   ]
  }
 ],
 "metadata": {
  "kernelspec": {
   "display_name": "Python 3",
   "language": "python",
   "name": "python3"
  },
  "language_info": {
   "codemirror_mode": {
    "name": "ipython",
    "version": 3
   },
   "file_extension": ".py",
   "mimetype": "text/x-python",
   "name": "python",
   "nbconvert_exporter": "python",
   "pygments_lexer": "ipython3",
   "version": "3.7.0"
  }
 },
 "nbformat": 4,
 "nbformat_minor": 2
}

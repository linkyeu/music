{
 "cells": [
  {
   "cell_type": "code",
   "execution_count": null,
   "metadata": {},
   "outputs": [],
   "source": [
    "# https://github.com/catboost/tutorials\n",
    "# https://github.com/hyperopt/hyperopt/wiki/FMin\n",
    "# https://www.kaggle.com/felipeleiteantunes/xgboost-hyperopt-cv-via-python-api\n",
    "# http://fastml.com/optimizing-hyperparams-with-hyperopt/"
   ]
  },
  {
   "cell_type": "code",
   "execution_count": 6,
   "metadata": {},
   "outputs": [],
   "source": [
    "%reload_ext autoreload\n",
    "%autoreload 2"
   ]
  },
  {
   "cell_type": "code",
   "execution_count": 7,
   "metadata": {},
   "outputs": [],
   "source": [
    "import sys; sys.path.append('scripts')\n",
    "from common import *\n",
    "from global_common import *\n",
    "from load_and_proccess_data import *\n",
    "\n",
    "from catboost import CatBoostClassifier\n",
    "from hyperopt import hp\n",
    "from hyperopt import fmin, tpe, hp, STATUS_OK, Trials\n",
    "from tqdm import tqdm_notebook"
   ]
  },
  {
   "cell_type": "code",
   "execution_count": 3,
   "metadata": {},
   "outputs": [
    {
     "name": "stdout",
     "output_type": "stream",
     "text": [
      "Из целочисленныъ - 4 бинарных.\n",
      "Целочисленных переменных  : 232\n",
      "Переменных с плавающей точкой : 225\n",
      "Переменным присвоен соответствующий тип.\n"
     ]
    }
   ],
   "source": [
    "train = pd.read_hdf('../data/train_processed.h5')\n",
    "test = pd.read_hdf('../data/test_processed.h5')\n",
    "with open('../data/features_dtypes.pkl', 'rb') as f:\n",
    "    columns_type_dict = pickle.load(f)\n",
    "\n",
    "train.dtypes.value_counts().plot.bar(edgecolor = 'k');\n",
    "plt.title('Variable Type Distribution');"
   ]
  },
  {
   "cell_type": "code",
   "execution_count": null,
   "metadata": {},
   "outputs": [],
   "source": [
    "X = train_df.drop(['id','target'], axis=1)\n",
    "y = train_df.target\n",
    "X_test = test_df.drop(['id'], axis=1)\n",
    "\n",
    "cat_features = ['os_category', 'device_type', 'service_7_flag_m1', \n",
    "                       'service_7_flag_m2', 'service_7_flag_m3', 'manufacturer_category']\n",
    "cat_features_idxs = [np.where(o ==  X.columns.values)[0].tolist()[0] for o in cat_features]\n",
    "\n",
    "X_train, X_valid, y_train, y_valid = train_test_split(\n",
    "    X, y, test_size=0.3, random_state=17)"
   ]
  },
  {
   "cell_type": "code",
   "execution_count": null,
   "metadata": {},
   "outputs": [],
   "source": [
    "N_HYPEROPT_PROBES = 500\n",
    "HYPEROPT_ALGO = tpe.suggest \n",
    "\n",
    "D_train = catboost.Pool(X_train, y_train)\n",
    "D_val = catboost.Pool(X_val, y_val)\n",
    "\n",
    "def get_catboost_params(space):\n",
    "    params = dict()\n",
    "    params['learning_rate'] = space['learning_rate']\n",
    "    params['depth'] = int(space['depth'])\n",
    "    params['l2_leaf_reg'] = space['l2_leaf_reg']\n",
    "    params['rsm'] = space['rsm']\n",
    "    return params\n",
    "\n",
    "def objective(space):\n",
    "    global obj_call_count, cur_best_loss\n",
    "    obj_call_count += 1\n",
    "    print('\\nCatBoost objective call #{} cur_best_loss={:7.5f}'.format(obj_call_count,cur_best_loss) )\n",
    "    params = get_catboost_params(space)\n",
    "    sorted_params = sorted(space.iteritems(), key=lambda z: z[0])\n",
    "    params_str = str.join(' ', ['{}={}'.format(k, v) for k, v in sorted_params])\n",
    "    print('Params: {}'.format(params_str) )\n",
    "    model = catboost.CatBoostClassifier(iterations=5000,\n",
    "                                        learning_rate=params['learning_rate'],\n",
    "                                        depth=int(params['depth']),\n",
    "                                        loss_function='MultiClass',\n",
    "                                        use_best_model=True,\n",
    "                                        eval_metric='MultiClass',\n",
    "                                        l2_leaf_reg=params['l2_leaf_reg'],\n",
    "                                        auto_stop_pval=1e-3,\n",
    "                                        random_seed=123456,\n",
    "                                        verbose=False\n",
    "                                        )\n",
    "    model.fit(D_train, eval_set=D_val, verbose=True)\n",
    "    nb_trees = model.get_tree_count()\n",
    "    print('nb_trees={}'.format(nb_trees))\n",
    "    y_pred = model.predict_proba(X_test)\n",
    "    test_loss = sklearn.metrics.log_loss(y_test, y_pred, labels=list(range(10)))\n",
    "    acc = sklearn.metrics.accuracy_score(y_test, numpy.argmax(y_pred, axis=1))\n",
    "    return{'loss':test_loss, 'status': STATUS_OK }\n",
    "\n",
    "space ={\n",
    "        'depth': hp.quniform(\"depth\", 4, 7, 1),\n",
    "        'rsm': hp.uniform ('rsm', 0.75, 1.0),\n",
    "        'learning_rate': hp.loguniform('learning_rate', -3.0, -0.7),\n",
    "        'l2_leaf_reg': hp.uniform('l2_leaf_reg', 1, 10),\n",
    "       }\n",
    "\n",
    "\n",
    "trials = Trials()\n",
    "best = hyperopt.fmin(fn=objective,\n",
    "                     space=space,\n",
    "                     algo=HYPEROPT_ALGO,\n",
    "                     max_evals=N_HYPEROPT_PROBES,\n",
    "                     trials=trials,\n",
    "                     verbose=1)\n",
    "\n",
    "print('-'*50)\n",
    "print('The best params:')\n",
    "print( best )\n",
    "print('\\n\\n')"
   ]
  },
  {
   "cell_type": "code",
   "execution_count": 78,
   "metadata": {},
   "outputs": [],
   "source": [
    "# Prepare submission\n",
    "subm = pd.DataFrame()\n",
    "subm['id'] = test_df.id.values\n",
    "subm['prediction'] = preds\n",
    "subm.to_csv('submissions/CATBoost.csv', index=False)"
   ]
  },
  {
   "cell_type": "code",
   "execution_count": null,
   "metadata": {},
   "outputs": [],
   "source": []
  }
 ],
 "metadata": {
  "kernelspec": {
   "display_name": "Python 3",
   "language": "python",
   "name": "python3"
  },
  "language_info": {
   "codemirror_mode": {
    "name": "ipython",
    "version": 3
   },
   "file_extension": ".py",
   "mimetype": "text/x-python",
   "name": "python",
   "nbconvert_exporter": "python",
   "pygments_lexer": "ipython3",
   "version": "3.7.0"
  }
 },
 "nbformat": 4,
 "nbformat_minor": 2
}

{
 "cells": [
  {
   "cell_type": "code",
   "execution_count": 1,
   "metadata": {},
   "outputs": [],
   "source": [
    "# https://towardsdatascience.com/an-introductory-example-of-bayesian-optimization-in-python-with-hyperopt-aae40fff4ff0\n",
    "# https://www.kaggle.com/eikedehling/tune-and-compare-xgb-lightgbm-rf-with-hyperopt\n",
    "# https://github.com/WillKoehrsen/hyperparameter-optimization/blob/master/Introduction%20to%20Bayesian%20Optimization%20with%20Hyperopt.ipynb\n",
    "\n",
    "# https://github.com/catboost/tutorials\n",
    "# https://github.com/hyperopt/hyperopt/wiki/FMin\n",
    "# https://www.kaggle.com/felipeleiteantunes/xgboost-hyperopt-cv-via-python-api\n",
    "# http://fastml.com/optimizing-hyperparams-with-hyperopt/"
   ]
  },
  {
   "cell_type": "code",
   "execution_count": 2,
   "metadata": {},
   "outputs": [],
   "source": [
    "%reload_ext autoreload\n",
    "%autoreload 2"
   ]
  },
  {
   "cell_type": "code",
   "execution_count": 3,
   "metadata": {},
   "outputs": [],
   "source": [
    "import sys; sys.path.append('scripts')\n",
    "from common import *\n",
    "from global_common import *\n",
    "from load_and_proccess_data import *"
   ]
  },
  {
   "cell_type": "code",
   "execution_count": 20,
   "metadata": {},
   "outputs": [
    {
     "data": {
      "image/png": "[encoded data removed]",
      "text/plain": [
       "<Figure size 432x288 with 1 Axes>"
      ]
     },
     "metadata": {
      "needs_background": "light"
     },
     "output_type": "display_data"
    }
   ],
   "source": [
    "train = pd.read_hdf('../data/train_processed.h5')\n",
    "test = pd.read_hdf('../data/test_processed.h5')\n",
    "with open('../data/features_dtypes.pkl', 'rb') as f:\n",
    "    columns_type_dict = pickle.load(f)\n",
    "\n",
    "train.dtypes.value_counts().plot.bar(edgecolor = 'k');\n",
    "plt.title('Variable Type Distribution');"
   ]
  },
  {
   "cell_type": "code",
   "execution_count": 7,
   "metadata": {},
   "outputs": [],
   "source": [
    "# BEST PARAMS\n",
    "# XGB objective call #5 cur_best_loss=0.82465\n",
    "# Params: bagging_fraction=0.8534594620835358 bagging_freq=3.0 feature_fraction=0.8016730264181317 lambda_l1=6.004739373183032 lambda_l2=5.523875201392183 learning_rate=0.008000168699006723 max_bin=480.0 min_data_in_leaf=197.0 min_sum_hessian_in_leaf=2.438390186142806 num_leaves=96.0\n",
    "# nb_trees=1296 val_loss=defaultdict(<class 'dict'>, {'valid_0': {'auc': 0.8360693038989823}})\n",
    "# val_roc=0.8360693038989824\n",
    "\n",
    "lgb_params = {\n",
    "    'min_data_in_leaf' : 197,\n",
    "    'nb_trees' : 1296,\n",
    "    'bagging_fraction' : 0.853,\n",
    "    'bagging_freq' : 3,\n",
    "    'feature_fraction' : 0.801,\n",
    "    'lambda_l1' : 6.0,\n",
    "    'lambda_l2' : 5.52,\n",
    "    'learning_rate' : 0.008,\n",
    "    'max_bin' : 480,\n",
    "    'min_sum_hessian_in_leaf' : 2.438,\n",
    "    'num_leaves' : 96,\n",
    "    'boosting_type': 'gbdt',\n",
    "    'objective': 'binary',\n",
    "    'metric': 'auc',\n",
    "    'max_depth': -1,\n",
    "    'verbose': -1,\n",
    "    'num_threads': 8,\n",
    "    'is_unbalance' : 'true',\n",
    "}\n",
    "\n",
    "# BEST SCORE for NOW\n",
    "# 10 auc: 0.8352397646832354\n",
    "# auc = 0.835090 +/- 0.010732 \n",
    "preds = run_tree(lgb_params, train, test, folds=10, early_stop=250)"
   ]
  },
  {
   "cell_type": "markdown",
   "metadata": {},
   "source": [
    "# Поиск гиперпараметров"
   ]
  },
  {
   "cell_type": "code",
   "execution_count": null,
   "metadata": {},
   "outputs": [],
   "source": [
    "# X_train, X_valid, y_train, y_valid = train_test_split(\n",
    "#     train.drop(['target', 'id'], axis=1), train['target'].values, test_size=0.2, random_state=17)\n",
    "\n",
    "N_HYPEROPT_PROBES = 500\n",
    "HYPEROPT_ALGO = tpe.suggest  #  tpe.suggest OR hyperopt.rand.suggest\n",
    "\n",
    "D_train = lightgbm.Dataset(X_train, y_train)\n",
    "D_val = lightgbm.Dataset(X_valid, y_valid)\n",
    "\n",
    "def get_lgb_params(space):\n",
    "    lgb_params = dict()\n",
    "    lgb_params['objective'] ='binary'\n",
    "    lgb_params['is_unbalance'] = 'true'\n",
    "    lgb_params['boosting_type'] = space['boosting_type'] if 'boosting_type' in space else 'gbdt'\n",
    "    lgb_params['application'] = 'multiclass'\n",
    "    lgb_params['metric'] = 'auc'\n",
    "    lgb_params['num_class'] = 1\n",
    "    lgb_params['num_threads'] = 10\n",
    "    lgb_params['learning_rate'] = space['learning_rate']\n",
    "    lgb_params['num_leaves'] = int(space['num_leaves'])\n",
    "    lgb_params['min_data_in_leaf'] = int(space['min_data_in_leaf'])\n",
    "    lgb_params['min_sum_hessian_in_leaf'] = space['min_sum_hessian_in_leaf']\n",
    "    lgb_params['max_depth'] = -1\n",
    "    lgb_params['lambda_l1'] = space['lambda_l1'] if 'lambda_l1' in space else 0.0\n",
    "    lgb_params['lambda_l2'] = space['lambda_l2'] if 'lambda_l2' in space else 0.0\n",
    "    lgb_params['max_bin'] = int(space['max_bin']) if 'max_bin' in space else 256\n",
    "    lgb_params['feature_fraction'] = space['feature_fraction']\n",
    "    lgb_params['bagging_fraction'] = space['bagging_fraction']\n",
    "    lgb_params['bagging_freq'] = int(space['bagging_freq']) if 'bagging_freq' in space else 1\n",
    "    return lgb_params\n",
    "\n",
    "obj_call_count = 0\n",
    "cur_best_loss = np.inf\n",
    "\n",
    "def objective(space):\n",
    "    global obj_call_count, cur_best_loss\n",
    "    obj_call_count += 1\n",
    "    print('\\nXGB objective call #{} cur_best_loss={:7.5f}'.format(obj_call_count,cur_best_loss) )\n",
    "    lgb_params = get_lgb_params(space)\n",
    "    sorted_params = sorted(space.items(), key=lambda z: z[0])\n",
    "    params_str = str.join(' ', ['{}={}'.format(k, v) for k, v in sorted_params])\n",
    "    print('Params: {}'.format(params_str) )\n",
    "    cat_features = ['os_category', 'device_type', 'service_7_flag_m1', \n",
    "                       'service_7_flag_m2', 'service_7_flag_m3', 'sim_count'] \n",
    "    model = lgb.cvtrain(lgb_params,\n",
    "                      D_train,\n",
    "                      num_boost_round=10000,\n",
    "                      valid_sets=D_val,\n",
    "                      categorical_feature=cat_features,\n",
    "                      early_stopping_rounds=150,\n",
    "                      verbose_eval=False,\n",
    "                      )\n",
    "    nb_trees = model.best_iteration\n",
    "    val_loss = model.best_score\n",
    "    print('nb_trees={} val_loss={}'.format(nb_trees, val_loss))\n",
    "    y_pred = model.predict(X_valid, num_iteration=nb_trees)\n",
    "    val_roc = roc_auc_score(y_valid, y_pred)\n",
    "    print('val_roc={}'.format(val_roc))\n",
    "    return{'val_loss':val_loss, 'status': STATUS_OK }\n",
    "\n",
    "space ={\n",
    "        'num_leaves': hp.quniform ('num_leaves', 10, 200, 1),\n",
    "        'min_data_in_leaf':  hp.quniform ('min_data_in_leaf', 10, 200, 1),\n",
    "        'feature_fraction': hp.uniform('feature_fraction', 0.75, 1.0),\n",
    "        'bagging_fraction': hp.uniform('bagging_fraction', 0.75, 1.0),\n",
    "        'learning_rate': hp.loguniform('learning_rate', -5.0, -2.3),\n",
    "        'min_sum_hessian_in_leaf': hp.loguniform('min_sum_hessian_in_leaf', 0, 2.3),\n",
    "        'max_bin': hp.quniform ('max_bin', 64, 512, 1),\n",
    "        'bagging_freq': hp.quniform ('bagging_freq', 1, 5, 1),\n",
    "        'lambda_l1': hp.uniform('lambda_l1', 0, 10 ),\n",
    "        'lambda_l2': hp.uniform('lambda_l2', 0, 10 ),\n",
    "       }\n",
    "\n",
    "trials = Trials()\n",
    "best = hyperopt.fmin(fn=objective,\n",
    "                     space=space,\n",
    "                     algo=HYPEROPT_ALGO,\n",
    "                     max_evals=N_HYPEROPT_PROBES,\n",
    "                     trials=trials,\n",
    "                     verbose=1)\n",
    "\n",
    "print('-'*50)\n",
    "print('The best params:')\n",
    "print( best )\n",
    "print('\\n\\n')"
   ]
  },
  {
   "cell_type": "markdown",
   "metadata": {},
   "source": [
    "# Считаем модели"
   ]
  },
  {
   "cell_type": "code",
   "execution_count": null,
   "metadata": {},
   "outputs": [],
   "source": [
    "# Prepare submission\n",
    "subm = pd.DataFrame()\n",
    "subm['id'] = test.id.values\n",
    "subm['prediction'] = preds\n",
    "subm.to_csv('submissions/finetune_13folds250.csv', index=False)"
   ]
  }
 ],
 "metadata": {
  "kernelspec": {
   "display_name": "Python 3",
   "language": "python",
   "name": "python3"
  },
  "language_info": {
   "codemirror_mode": {
    "name": "ipython",
    "version": 3
   },
   "file_extension": ".py",
   "mimetype": "text/x-python",
   "name": "python",
   "nbconvert_exporter": "python",
   "pygments_lexer": "ipython3",
   "version": "3.7.0"
  }
 },
 "nbformat": 4,
 "nbformat_minor": 2
}

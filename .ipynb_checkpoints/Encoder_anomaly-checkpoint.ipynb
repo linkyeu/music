{
 "cells": [
  {
   "cell_type": "markdown",
   "metadata": {},
   "source": [
    "Тех клиентов которые не воспользовались услугой Водафон музыка, target==1,\n",
    "мы принимаем на обычное поведение. То есть берем эти данные и кодируем \n",
    "в энкодер. Те которые воспользовались услугой == 1. Мы считаем за аномалию.\n",
    "В результате этого блокнота должен быть признак - скаляр.\n",
    "Средне-квадратическое отклонение, чем оно больше тем больше вероятность,\n",
    "что целевая переменная равна 1.\n",
    "\n",
    "\n",
    "Для категориальных используем эмбединги, для остальных категориальных OHE. Остальные нормализуем GaussRank."
   ]
  },
  {
   "cell_type": "code",
   "execution_count": 1,
   "metadata": {},
   "outputs": [],
   "source": [
    "%reload_ext autoreload\n",
    "%autoreload 2"
   ]
  },
  {
   "cell_type": "code",
   "execution_count": 2,
   "metadata": {},
   "outputs": [],
   "source": [
    "import sys; sys.path.append('scripts')\n",
    "from common import *\n",
    "from global_common import GaussRankScaler, MyScheduler, OneCycle\n",
    "from load_and_proccess_data import *\n",
    "from models import find_lr, trainer, plot_lr_find"
   ]
  },
  {
   "cell_type": "markdown",
   "metadata": {},
   "source": [
    "# Подготовить данные для энкодера"
   ]
  },
  {
   "cell_type": "code",
   "execution_count": 3,
   "metadata": {},
   "outputs": [],
   "source": [
    "# Загружает уже обработанные признаки \n",
    "train_df = pd.read_hdf('../data/train_processed.h5')\n",
    "train_df['target'] = train_df['target'].astype('int')\n",
    "test_df = pd.read_hdf('../data/test_processed.h5')\n",
    "train_len = train_df.index[-1]\n",
    "with open('../data/features_dtypes.pkl', 'rb') as f:\n",
    "    columns_type_dict = pickle.load(f)\n",
    "    \n",
    "categorical_features = [\n",
    "    'os_category', 'device_type', 'service_7_flag_m1', \n",
    "    'service_7_flag_m2', 'service_7_flag_m3', \n",
    "]\n",
    "\n",
    "binary_features = [\n",
    "    'tp_flag', 'block_flag', 'service_2_flag', 'is_obl_center', \n",
    "    'is_my_vf', 'service_9_flag_m1', 'service_9_flag_m2', \n",
    "    'service_9_flag_m3',\n",
    "]\n",
    "\n",
    "# Некоторые числовые признаки мы удалили из-за высокой корреляции\n",
    "# поэтому фильтруем те что были удалены\n",
    "numerical_features = [o for o in columns_type_dict['float_cols'] \\\n",
    "                               if o in train_df.columns]\n",
    "\n",
    "\n",
    "# Заменить -1 на 999\n",
    "train_df[categorical_features] = train_df[categorical_features].apply(lambda x: x.replace(-1, 999))\n",
    "test_df[categorical_features] = test_df[categorical_features].apply(lambda x: x.replace(-1, 999))\n",
    "\n",
    "# Нормализовать все числовые признаки с помощью GaussRank\n",
    "data = pd.concat([train_df, test_df], axis=0)\n",
    "\n",
    "\n",
    "\n",
    "# Оставшиеся категориальные признаки закодировать в OHE\n",
    "categorical_to_ohe = ['sim_count', 'manufacturer_category', 'os_category']\n",
    "data = pd.concat([data, \n",
    "                  pd.get_dummies(data['sim_count'], prefix='sim_count'),\n",
    "                  pd.get_dummies(data['manufacturer_category'], prefix='manufacturer_category'),\n",
    "                  pd.get_dummies(data['os_category'], prefix='os_category'),                  \n",
    "                  ], axis=1)\n",
    "data.drop(categorical_to_ohe, axis=1, inplace=True)\n",
    "\n",
    "ordinar_features = train_df.select_dtypes('int32').columns.values.tolist()\n",
    "ordinar_features = [o for o in ordinar_features if o not in ['manufacturer_category', 'os_category', 'sim_count']]\n",
    "\n",
    "\n",
    "numerical_features_df = data[numerical_features+ordinar_features]\n",
    "\n",
    "scaler = GaussRankScaler()\n",
    "norm_numerical_features_ndarray = scaler.fit_transform( numerical_features_df )\n",
    "\n",
    "data[numerical_features+ordinar_features] = norm_numerical_features_ndarray\n",
    "\n",
    "# Разделяем назад\n",
    "train_norm_df = data[data['target'].notnull()].reset_index()\n",
    "test_norm_df = data[data['target'].isnull()].reset_index()\n",
    "\n",
    "# Загружает закодированные категориальные признаки и делим на треин\\тест\n",
    "embeded_features = pd.read_hdf('../data/embeded_features.h5')\n",
    "\n",
    "\n",
    "train_df = pd.concat([train_norm_df, embeded_features.iloc[ :train_len+1, : ]], axis=1)\n",
    "test_df = pd.concat([test_norm_df, embeded_features.iloc[ train_len+1:, : ].reset_index(drop=True)], axis=1)\n",
    "\n",
    "del train_norm_df, test_norm_df, embeded_features, data, norm_numerical_features_ndarray, numerical_features_df\n",
    "gc.collect()\n",
    "\n",
    "# Удаляем признаки по которым мы построили эмбединги\n",
    "embede_features_names = [\n",
    "'device_type',\n",
    " 'service_7_flag_m1',\n",
    " 'service_7_flag_m2',\n",
    " 'service_7_flag_m3',\n",
    " 'tp_flag',\n",
    " 'block_flag',\n",
    " 'service_2_flag',\n",
    " 'is_obl_center',\n",
    " 'is_my_vf',\n",
    " 'service_9_flag_m1',\n",
    " 'service_9_flag_m2',\n",
    " 'service_9_flag_m3',\n",
    "]\n",
    "train_df.drop(embede_features_names, axis=1, inplace=True)\n",
    "test_df.drop(embede_features_names, axis=1, inplace=True)\n",
    "\n",
    "del train_df['index'], test_df['index']"
   ]
  },
  {
   "cell_type": "markdown",
   "metadata": {},
   "source": [
    "# Модель"
   ]
  },
  {
   "cell_type": "code",
   "execution_count": 4,
   "metadata": {},
   "outputs": [],
   "source": [
    "class DAE_DS(nn.Module):\n",
    "    def __init__(self, df, noise_freq_pct, noise_size_pct):\n",
    "        super(DAE_DS, self).__init__()        \n",
    "        self.df = df\n",
    "        self.noise_freq_pct = noise_freq_pct\n",
    "        self.n_columns_to_noise = int(len(df.columns) * noise_size_pct)\n",
    "        self.colname_to_indx = {v:k for k, v in enumerate(df.columns)}\n",
    "        \n",
    "    def __len__(self):\n",
    "        return self.df.shape[0]\n",
    "        \n",
    "    def __getitem__(self, idx):\n",
    "        y = self.df.iloc[idx, :].values.astype(np.float32)\n",
    "        y = torch.tensor(y) \n",
    "\n",
    "        rand = np.random.random()\n",
    "        if rand > 1 - self.noise_freq_pct:\n",
    "            x = self.df.iloc[idx, :]\n",
    "            columns_for_noise = random.sample(self.df.columns.tolist(), self.n_columns_to_noise)\n",
    "            columns_for_noise_idxs = [self.colname_to_indx[o] for o in columns_for_noise]\n",
    "            random_row_idx_noise_donor = np.random.choice(self.df.index.tolist(), 1)\n",
    "            noise = self.df.iloc[random_row_idx_noise_donor, columns_for_noise_idxs].values.astype(np.float32).flatten()\n",
    "            x[columns_for_noise] = noise\n",
    "            x = torch.tensor(x) \n",
    "        else:\n",
    "            x = self.df.iloc[idx, :].values.astype(np.float32)            \n",
    "            x = torch.tensor(x) \n",
    "        return x, y\n",
    "        \n",
    "\n",
    "class DAE(nn.Module):\n",
    "    def __init__(self, n_columns, n_neurons, ps=0.2):\n",
    "        super(DAE, self).__init__()   \n",
    "        self.ps = ps\n",
    "        self.layer1 = nn.Linear(in_features=n_columns, out_features=n_neurons)\n",
    "        self.layer1_dsn = nn.Linear(in_features=n_neurons, out_features=n_columns)\n",
    "        self.bn1 = nn.BatchNorm1d(n_neurons)\n",
    "        \n",
    "        self.layer2 = nn.Linear(in_features=n_neurons, out_features=n_neurons)\n",
    "        self.layer2_dsn = nn.Linear(in_features=n_neurons, out_features=n_columns)\n",
    "        self.bn2 = nn.BatchNorm1d(n_neurons)\n",
    "        \n",
    "        self.layer3 = nn.Linear(in_features=n_neurons, out_features=n_neurons)\n",
    "        self.layer3_dsn = nn.Linear(in_features=n_neurons, out_features=n_columns)\n",
    "        self.bn3 = nn.BatchNorm1d(n_neurons)\n",
    "        \n",
    "        self.output = nn.Linear(in_features=n_neurons, out_features=n_columns)\n",
    "        \n",
    "    def forward(self, x):\n",
    "        l1 = F.dropout( F.relu(self.layer1(x)), p=self.ps )\n",
    "        l2 = self.bn1(l1)\n",
    "        l1_dsn = self.layer1_dsn(l1)\n",
    "        \n",
    "        \n",
    "        l2 = F.dropout( F.relu(self.layer2(l1)), p=self.ps )\n",
    "        l2 = self.bn2(l2)\n",
    "        l2_dsn = self.layer2_dsn(l2)\n",
    "        \n",
    "        l3 = F.dropout( F.relu(self.layer3(l2)), p=self.ps )\n",
    "        l2 = self.bn3(l3)\n",
    "        l3_dsn = self.layer3_dsn(l3)\n",
    "        \n",
    "        return l1_dsn, l2_dsn, l3_dsn, self.output(l3)"
   ]
  },
  {
   "cell_type": "code",
   "execution_count": 5,
   "metadata": {},
   "outputs": [],
   "source": [
    "# Отложенная выборка\n",
    "not_music_users = train_df[ train_df['target'] == 0 ].reset_index(drop=True)\n",
    "\n",
    "not_music_dev_idxs = random.sample( not_music_users.index.values.tolist(), int(len(not_music_users)*0.9) )\n",
    "not_music_dev = not_music_users.iloc[ not_music_dev_idxs, :].reset_index(drop=True)\n",
    "not_music_holdout = not_music_users.iloc[~not_music_users.index.isin(not_music_dev_idxs), :].reset_index(drop=True)\n",
    "\n",
    "music_users = train_df[ train_df['target'] == 1 ].reset_index(drop=True)\n",
    "\n",
    "# Уберем ненужные признаки\n",
    "not_music_dev.drop(['id', 'target'],axis=1, inplace=True)\n",
    "not_music_holdout.drop(['id', 'target'],axis=1, inplace=True)\n",
    "music_users.drop(['id', 'target'],axis=1, inplace=True)\n",
    "\n",
    "music_users_holdout_idx = random.sample( music_users.index.values.tolist(), int(len(music_users)*0.6) )\n",
    "music_users_holdout = music_users.iloc[ music_users_holdout_idx, :].reset_index(drop=True)\n",
    "\n",
    "music_users_holdout_tensor = torch.tensor(music_users_holdout.values, dtype=torch.float32).cuda()"
   ]
  },
  {
   "cell_type": "code",
   "execution_count": 6,
   "metadata": {},
   "outputs": [],
   "source": [
    "# Датасеты\n",
    "dev_ds = DAE_DS(not_music_dev, 0.3, 0.1)\n",
    "val_ds = DAE_DS(not_music_holdout, 0, 0)\n",
    "\n",
    "\n",
    "# Эти датасеты для того чтобы посчитать переменную по данным\n",
    "train_ds = DAE_DS(train_df.drop(['id', 'target'], axis=1), 0, 0)\n",
    "test_ds = DAE_DS(test_df.drop(['id', 'target'], axis=1), 0, 0)\n",
    "\n",
    "# Даталоадеры\n",
    "bs = 500  # best 50\n",
    "num_workers = 10\n",
    "\n",
    "dev_dl = DataLoader(dev_ds, batch_size=bs, shuffle=True, num_workers=num_workers)\n",
    "val_dl = DataLoader(val_ds, batch_size=bs, shuffle=True, num_workers=num_workers)\n",
    "\n",
    "train_dl = DataLoader(train_ds, batch_size=1, shuffle=False, num_workers=num_workers) \n",
    "test_dl = DataLoader(test_ds, batch_size=1, shuffle=False, num_workers=num_workers) "
   ]
  },
  {
   "cell_type": "code",
   "execution_count": 7,
   "metadata": {},
   "outputs": [],
   "source": [
    "class MyCustomLoss(nn.Module):\n",
    "    def __init__(self):\n",
    "        super(MyCustomLoss, self).__init__()\n",
    "        self.loss = nn.MSELoss()\n",
    "        \n",
    "    def forward(self, x, y):\n",
    "        return F.sigmoid(self.loss(x, y))"
   ]
  },
  {
   "cell_type": "code",
   "execution_count": 8,
   "metadata": {},
   "outputs": [],
   "source": [
    "loss_function = nn.MSELoss()\n",
    "custom_loss = MyCustomLoss()\n",
    "\n",
    "model_dae = DAE(n_columns=not_music_dev.shape[1], n_neurons=5000, ps=0.05).cuda()"
   ]
  },
  {
   "cell_type": "code",
   "execution_count": 10,
   "metadata": {},
   "outputs": [],
   "source": [
    "lr=2e-2\n",
    "optimizer = torch.optim.Adam(model_dae.parameters(), lr=lr, weight_decay=1e-4)"
   ]
  },
  {
   "cell_type": "code",
   "execution_count": 38,
   "metadata": {
    "scrolled": true
   },
   "outputs": [
    {
     "data": {
      "application/vnd.jupyter.widget-view+json": {
       "model_id": "7b13c2560b1f4b1887a36b88fb850526",
       "version_major": 2,
       "version_minor": 0
      },
      "text/plain": [
       "HBox(children=(IntProgress(value=0, max=1165), HTML(value='')))"
      ]
     },
     "metadata": {},
     "output_type": "display_data"
    },
    {
     "data": {
      "image/png": "[encoded data removed]",
      "text/plain": [
       "<Figure size 432x288 with 1 Axes>"
      ]
     },
     "metadata": {
      "needs_background": "light"
     },
     "output_type": "display_data"
    }
   ],
   "source": [
    "# Поиск оптимального шага обучения\n",
    "log_lrs, losses = find_lr(model_dae, dev_dl, optimizer, loss_function)\n",
    "plot_lr_find(log_lrs, losses)"
   ]
  },
  {
   "cell_type": "code",
   "execution_count": 11,
   "metadata": {},
   "outputs": [
    {
     "data": {
      "application/vnd.jupyter.widget-view+json": {
       "model_id": "c02f1f93723648cd8881b3b8dc7e07ad",
       "version_major": 2,
       "version_minor": 0
      },
      "text/plain": [
       "HBox(children=(IntProgress(value=0, max=117), HTML(value='')))"
      ]
     },
     "metadata": {},
     "output_type": "display_data"
    },
    {
     "name": "stdout",
     "output_type": "stream",
     "text": [
      "\n"
     ]
    },
    {
     "data": {
      "application/vnd.jupyter.widget-view+json": {
       "model_id": "ecdd6790d1354030a91959eae9d9d43e",
       "version_major": 2,
       "version_minor": 0
      },
      "text/plain": [
       "HBox(children=(IntProgress(value=0, max=13), HTML(value='')))"
      ]
     },
     "metadata": {},
     "output_type": "display_data"
    },
    {
     "name": "stdout",
     "output_type": "stream",
     "text": [
      "\n"
     ]
    },
    {
     "data": {
      "application/vnd.jupyter.widget-view+json": {
       "model_id": "4630b7e3af09408abe0eac7afb8f61f6",
       "version_major": 2,
       "version_minor": 0
      },
      "text/plain": [
       "HBox(children=(IntProgress(value=0, max=117), HTML(value='')))"
      ]
     },
     "metadata": {},
     "output_type": "display_data"
    },
    {
     "name": "stdout",
     "output_type": "stream",
     "text": [
      "\n"
     ]
    },
    {
     "data": {
      "application/vnd.jupyter.widget-view+json": {
       "model_id": "4279f98286d14805b5d80a3c18963c65",
       "version_major": 2,
       "version_minor": 0
      },
      "text/plain": [
       "HBox(children=(IntProgress(value=0, max=13), HTML(value='')))"
      ]
     },
     "metadata": {},
     "output_type": "display_data"
    },
    {
     "name": "stdout",
     "output_type": "stream",
     "text": [
      "\n"
     ]
    },
    {
     "data": {
      "application/vnd.jupyter.widget-view+json": {
       "model_id": "5e84f47409ea48cfb98c5e85b0911788",
       "version_major": 2,
       "version_minor": 0
      },
      "text/plain": [
       "HBox(children=(IntProgress(value=0, max=117), HTML(value='')))"
      ]
     },
     "metadata": {},
     "output_type": "display_data"
    },
    {
     "name": "stdout",
     "output_type": "stream",
     "text": [
      "\n"
     ]
    },
    {
     "data": {
      "application/vnd.jupyter.widget-view+json": {
       "model_id": "32269ff68402454d83e0251590bd8c9b",
       "version_major": 2,
       "version_minor": 0
      },
      "text/plain": [
       "HBox(children=(IntProgress(value=0, max=13), HTML(value='')))"
      ]
     },
     "metadata": {},
     "output_type": "display_data"
    },
    {
     "name": "stdout",
     "output_type": "stream",
     "text": [
      "\n"
     ]
    },
    {
     "data": {
      "application/vnd.jupyter.widget-view+json": {
       "model_id": "c57b92ebed3d4ccc9a17a7dcd34e45b9",
       "version_major": 2,
       "version_minor": 0
      },
      "text/plain": [
       "HBox(children=(IntProgress(value=0, max=117), HTML(value='')))"
      ]
     },
     "metadata": {},
     "output_type": "display_data"
    },
    {
     "name": "stdout",
     "output_type": "stream",
     "text": [
      "\n"
     ]
    },
    {
     "data": {
      "application/vnd.jupyter.widget-view+json": {
       "model_id": "39f6bf1bdda546ec82f539520c11504a",
       "version_major": 2,
       "version_minor": 0
      },
      "text/plain": [
       "HBox(children=(IntProgress(value=0, max=13), HTML(value='')))"
      ]
     },
     "metadata": {},
     "output_type": "display_data"
    },
    {
     "name": "stdout",
     "output_type": "stream",
     "text": [
      "\n"
     ]
    },
    {
     "data": {
      "application/vnd.jupyter.widget-view+json": {
       "model_id": "45ddfb7f379d4297aa828fffe27d8caa",
       "version_major": 2,
       "version_minor": 0
      },
      "text/plain": [
       "HBox(children=(IntProgress(value=0, max=117), HTML(value='')))"
      ]
     },
     "metadata": {},
     "output_type": "display_data"
    },
    {
     "name": "stdout",
     "output_type": "stream",
     "text": [
      "\n"
     ]
    },
    {
     "data": {
      "application/vnd.jupyter.widget-view+json": {
       "model_id": "bdce7778ceca4b4da820c64e67d5c618",
       "version_major": 2,
       "version_minor": 0
      },
      "text/plain": [
       "HBox(children=(IntProgress(value=0, max=13), HTML(value='')))"
      ]
     },
     "metadata": {},
     "output_type": "display_data"
    },
    {
     "name": "stdout",
     "output_type": "stream",
     "text": [
      "\n"
     ]
    },
    {
     "data": {
      "application/vnd.jupyter.widget-view+json": {
       "model_id": "628a2414975249cb9997213a43b38bcb",
       "version_major": 2,
       "version_minor": 0
      },
      "text/plain": [
       "HBox(children=(IntProgress(value=0, max=117), HTML(value='')))"
      ]
     },
     "metadata": {},
     "output_type": "display_data"
    },
    {
     "name": "stdout",
     "output_type": "stream",
     "text": [
      "\n"
     ]
    },
    {
     "data": {
      "application/vnd.jupyter.widget-view+json": {
       "model_id": "d958988da7544e449a1167e8c7844851",
       "version_major": 2,
       "version_minor": 0
      },
      "text/plain": [
       "HBox(children=(IntProgress(value=0, max=13), HTML(value='')))"
      ]
     },
     "metadata": {},
     "output_type": "display_data"
    },
    {
     "name": "stdout",
     "output_type": "stream",
     "text": [
      "\n"
     ]
    },
    {
     "data": {
      "application/vnd.jupyter.widget-view+json": {
       "model_id": "87c3bf86061c4e97994f130d2962996d",
       "version_major": 2,
       "version_minor": 0
      },
      "text/plain": [
       "HBox(children=(IntProgress(value=0, max=117), HTML(value='')))"
      ]
     },
     "metadata": {},
     "output_type": "display_data"
    },
    {
     "ename": "KeyboardInterrupt",
     "evalue": "",
     "output_type": "error",
     "traceback": [
      "\u001b[0;31m---------------------------------------------------------------------------\u001b[0m",
      "\u001b[0;31mKeyboardInterrupt\u001b[0m                         Traceback (most recent call last)",
      "\u001b[0;32m<ipython-input-11-d44c60dfac4d>\u001b[0m in \u001b[0;36m<module>\u001b[0;34m()\u001b[0m\n\u001b[1;32m     38\u001b[0m                     \u001b[0mt\u001b[0m\u001b[0;34m.\u001b[0m\u001b[0mset_postfix\u001b[0m\u001b[0;34m(\u001b[0m\u001b[0mepoch\u001b[0m\u001b[0;34m=\u001b[0m\u001b[0mepoch\u001b[0m\u001b[0;34m,\u001b[0m \u001b[0mtraining_loss\u001b[0m\u001b[0;34m=\u001b[0m\u001b[0mdev_loss\u001b[0m\u001b[0;34m,\u001b[0m  \u001b[0mrefresh\u001b[0m\u001b[0;34m=\u001b[0m\u001b[0;32mFalse\u001b[0m\u001b[0;34m)\u001b[0m\u001b[0;34m\u001b[0m\u001b[0m\n\u001b[1;32m     39\u001b[0m                     \u001b[0moptimizer\u001b[0m\u001b[0;34m.\u001b[0m\u001b[0mstep\u001b[0m\u001b[0;34m(\u001b[0m\u001b[0;34m)\u001b[0m\u001b[0;34m\u001b[0m\u001b[0m\n\u001b[0;32m---> 40\u001b[0;31m                     \u001b[0mscheduler\u001b[0m\u001b[0;34m.\u001b[0m\u001b[0mstep\u001b[0m\u001b[0;34m(\u001b[0m\u001b[0;34m)\u001b[0m\u001b[0;34m\u001b[0m\u001b[0m\n\u001b[0m\u001b[1;32m     41\u001b[0m                 \u001b[0;32melse\u001b[0m\u001b[0;34m:\u001b[0m\u001b[0;34m\u001b[0m\u001b[0m\n\u001b[1;32m     42\u001b[0m                     \u001b[0mval_loss\u001b[0m \u001b[0;34m=\u001b[0m \u001b[0;34m(\u001b[0m\u001b[0malpha\u001b[0m\u001b[0;34m*\u001b[0m\u001b[0mval_loss\u001b[0m\u001b[0;34m)\u001b[0m \u001b[0;34m+\u001b[0m \u001b[0;34m(\u001b[0m\u001b[0;34m(\u001b[0m\u001b[0;36m1\u001b[0m\u001b[0;34m-\u001b[0m\u001b[0malpha\u001b[0m\u001b[0;34m)\u001b[0m\u001b[0;34m*\u001b[0m\u001b[0mloss\u001b[0m\u001b[0;34m.\u001b[0m\u001b[0mitem\u001b[0m\u001b[0;34m(\u001b[0m\u001b[0;34m)\u001b[0m\u001b[0;34m)\u001b[0m\u001b[0;34m\u001b[0m\u001b[0m\n",
      "\u001b[0;32m~/DataScience/hachatons/ai-booster/music/notebooks/scripts/global_common.py\u001b[0m in \u001b[0;36mstep\u001b[0;34m(self, epoch)\u001b[0m\n\u001b[1;32m    184\u001b[0m             \u001b[0mepoch\u001b[0m \u001b[0;34m=\u001b[0m \u001b[0mself\u001b[0m\u001b[0;34m.\u001b[0m\u001b[0mlast_epoch\u001b[0m \u001b[0;34m+\u001b[0m \u001b[0;36m1\u001b[0m\u001b[0;34m\u001b[0m\u001b[0m\n\u001b[1;32m    185\u001b[0m         \u001b[0mself\u001b[0m\u001b[0;34m.\u001b[0m\u001b[0mlast_epoch\u001b[0m \u001b[0;34m=\u001b[0m \u001b[0mepoch\u001b[0m\u001b[0;34m\u001b[0m\u001b[0m\n\u001b[0;32m--> 186\u001b[0;31m         \u001b[0;32mfor\u001b[0m \u001b[0mparam_group\u001b[0m\u001b[0;34m,\u001b[0m \u001b[0mlr\u001b[0m\u001b[0;34m,\u001b[0m \u001b[0mmom\u001b[0m \u001b[0;32min\u001b[0m \u001b[0mzip\u001b[0m\u001b[0;34m(\u001b[0m\u001b[0mself\u001b[0m\u001b[0;34m.\u001b[0m\u001b[0moptimizer\u001b[0m\u001b[0;34m.\u001b[0m\u001b[0mparam_groups\u001b[0m\u001b[0;34m,\u001b[0m \u001b[0mself\u001b[0m\u001b[0;34m.\u001b[0m\u001b[0mget_lr\u001b[0m\u001b[0;34m(\u001b[0m\u001b[0;34m)\u001b[0m\u001b[0;34m,\u001b[0m \u001b[0mself\u001b[0m\u001b[0;34m.\u001b[0m\u001b[0mget_moms\u001b[0m\u001b[0;34m(\u001b[0m\u001b[0;34m)\u001b[0m\u001b[0;34m)\u001b[0m\u001b[0;34m:\u001b[0m\u001b[0;34m\u001b[0m\u001b[0m\n\u001b[0m\u001b[1;32m    187\u001b[0m             \u001b[0mparam_group\u001b[0m\u001b[0;34m[\u001b[0m\u001b[0;34m'lr'\u001b[0m\u001b[0;34m]\u001b[0m \u001b[0;34m=\u001b[0m \u001b[0mlr\u001b[0m\u001b[0;34m\u001b[0m\u001b[0m\n\u001b[1;32m    188\u001b[0m             \u001b[0mparam_group\u001b[0m\u001b[0;34m[\u001b[0m\u001b[0;34m'betas'\u001b[0m\u001b[0;34m]\u001b[0m \u001b[0;34m=\u001b[0m \u001b[0;34m(\u001b[0m\u001b[0mmom\u001b[0m\u001b[0;34m,\u001b[0m \u001b[0;36m0.99\u001b[0m\u001b[0;34m)\u001b[0m\u001b[0;34m\u001b[0m\u001b[0m\n",
      "\u001b[0;32m~/DataScience/hachatons/ai-booster/music/notebooks/scripts/global_common.py\u001b[0m in \u001b[0;36mget_lr\u001b[0;34m(self)\u001b[0m\n\u001b[1;32m    213\u001b[0m \u001b[0;34m\u001b[0m\u001b[0m\n\u001b[1;32m    214\u001b[0m     \u001b[0;32mdef\u001b[0m \u001b[0mget_lr\u001b[0m\u001b[0;34m(\u001b[0m\u001b[0mself\u001b[0m\u001b[0;34m)\u001b[0m\u001b[0;34m:\u001b[0m\u001b[0;34m\u001b[0m\u001b[0m\n\u001b[0;32m--> 215\u001b[0;31m         \u001b[0mlr\u001b[0m \u001b[0;34m=\u001b[0m \u001b[0;34m[\u001b[0m\u001b[0mself\u001b[0m\u001b[0;34m.\u001b[0m\u001b[0mcalculate_schedule\u001b[0m\u001b[0;34m(\u001b[0m\u001b[0mbase_lr\u001b[0m\u001b[0;34m)\u001b[0m\u001b[0;34m[\u001b[0m\u001b[0;36m0\u001b[0m\u001b[0;34m]\u001b[0m\u001b[0;34m[\u001b[0m\u001b[0mself\u001b[0m\u001b[0;34m.\u001b[0m\u001b[0mlast_epoch\u001b[0m\u001b[0;34m]\u001b[0m \u001b[0;32mfor\u001b[0m \u001b[0mbase_lr\u001b[0m \u001b[0;32min\u001b[0m \u001b[0mself\u001b[0m\u001b[0;34m.\u001b[0m\u001b[0mbase_lrs\u001b[0m\u001b[0;34m]\u001b[0m\u001b[0;34m\u001b[0m\u001b[0m\n\u001b[0m\u001b[1;32m    216\u001b[0m         \u001b[0;32mreturn\u001b[0m \u001b[0mlr\u001b[0m\u001b[0;34m\u001b[0m\u001b[0m\n\u001b[1;32m    217\u001b[0m \u001b[0;34m\u001b[0m\u001b[0m\n",
      "\u001b[0;32m~/DataScience/hachatons/ai-booster/music/notebooks/scripts/global_common.py\u001b[0m in \u001b[0;36m<listcomp>\u001b[0;34m(.0)\u001b[0m\n\u001b[1;32m    213\u001b[0m \u001b[0;34m\u001b[0m\u001b[0m\n\u001b[1;32m    214\u001b[0m     \u001b[0;32mdef\u001b[0m \u001b[0mget_lr\u001b[0m\u001b[0;34m(\u001b[0m\u001b[0mself\u001b[0m\u001b[0;34m)\u001b[0m\u001b[0;34m:\u001b[0m\u001b[0;34m\u001b[0m\u001b[0m\n\u001b[0;32m--> 215\u001b[0;31m         \u001b[0mlr\u001b[0m \u001b[0;34m=\u001b[0m \u001b[0;34m[\u001b[0m\u001b[0mself\u001b[0m\u001b[0;34m.\u001b[0m\u001b[0mcalculate_schedule\u001b[0m\u001b[0;34m(\u001b[0m\u001b[0mbase_lr\u001b[0m\u001b[0;34m)\u001b[0m\u001b[0;34m[\u001b[0m\u001b[0;36m0\u001b[0m\u001b[0;34m]\u001b[0m\u001b[0;34m[\u001b[0m\u001b[0mself\u001b[0m\u001b[0;34m.\u001b[0m\u001b[0mlast_epoch\u001b[0m\u001b[0;34m]\u001b[0m \u001b[0;32mfor\u001b[0m \u001b[0mbase_lr\u001b[0m \u001b[0;32min\u001b[0m \u001b[0mself\u001b[0m\u001b[0;34m.\u001b[0m\u001b[0mbase_lrs\u001b[0m\u001b[0;34m]\u001b[0m\u001b[0;34m\u001b[0m\u001b[0m\n\u001b[0m\u001b[1;32m    216\u001b[0m         \u001b[0;32mreturn\u001b[0m \u001b[0mlr\u001b[0m\u001b[0;34m\u001b[0m\u001b[0m\n\u001b[1;32m    217\u001b[0m \u001b[0;34m\u001b[0m\u001b[0m\n",
      "\u001b[0;32m~/DataScience/hachatons/ai-booster/music/notebooks/scripts/global_common.py\u001b[0m in \u001b[0;36mcalculate_schedule\u001b[0;34m(self, lr)\u001b[0m\n\u001b[1;32m    205\u001b[0m         \u001b[0mupward_lr\u001b[0m \u001b[0;34m=\u001b[0m \u001b[0mnp\u001b[0m\u001b[0;34m.\u001b[0m\u001b[0mlinspace\u001b[0m\u001b[0;34m(\u001b[0m\u001b[0mstart\u001b[0m\u001b[0;34m=\u001b[0m\u001b[0mself\u001b[0m\u001b[0;34m.\u001b[0m\u001b[0meta_min\u001b[0m\u001b[0;34m,\u001b[0m \u001b[0mstop\u001b[0m\u001b[0;34m=\u001b[0m\u001b[0mlr\u001b[0m\u001b[0;34m,\u001b[0m \u001b[0mnum\u001b[0m\u001b[0;34m=\u001b[0m\u001b[0mself\u001b[0m\u001b[0;34m.\u001b[0m\u001b[0mupward_steps\u001b[0m\u001b[0;34m)\u001b[0m\u001b[0;34m\u001b[0m\u001b[0m\n\u001b[1;32m    206\u001b[0m         downward_lr = [(self.eta_min + (lr - self.eta_min) * (1 + math.cos((math.pi*o)/self.num_iterations)) / 2) \n\u001b[0;32m--> 207\u001b[0;31m                 for o in np.linspace(start=0, stop=self.num_iterations, num=self.num_iterations-self.upward_steps)]\n\u001b[0m\u001b[1;32m    208\u001b[0m \u001b[0;34m\u001b[0m\u001b[0m\n\u001b[1;32m    209\u001b[0m         \u001b[0mupward_moms\u001b[0m \u001b[0;34m=\u001b[0m \u001b[0mnp\u001b[0m\u001b[0;34m.\u001b[0m\u001b[0mlinspace\u001b[0m\u001b[0;34m(\u001b[0m\u001b[0mstart\u001b[0m\u001b[0;34m=\u001b[0m\u001b[0mself\u001b[0m\u001b[0;34m.\u001b[0m\u001b[0mmax_moms\u001b[0m\u001b[0;34m,\u001b[0m \u001b[0mstop\u001b[0m\u001b[0;34m=\u001b[0m\u001b[0mself\u001b[0m\u001b[0;34m.\u001b[0m\u001b[0mmin_moms\u001b[0m\u001b[0;34m,\u001b[0m \u001b[0mnum\u001b[0m\u001b[0;34m=\u001b[0m\u001b[0mself\u001b[0m\u001b[0;34m.\u001b[0m\u001b[0mupward_steps\u001b[0m\u001b[0;34m)\u001b[0m\u001b[0;34m\u001b[0m\u001b[0m\n",
      "\u001b[0;32m~/DataScience/hachatons/ai-booster/music/notebooks/scripts/global_common.py\u001b[0m in \u001b[0;36m<listcomp>\u001b[0;34m(.0)\u001b[0m\n\u001b[1;32m    205\u001b[0m         \u001b[0mupward_lr\u001b[0m \u001b[0;34m=\u001b[0m \u001b[0mnp\u001b[0m\u001b[0;34m.\u001b[0m\u001b[0mlinspace\u001b[0m\u001b[0;34m(\u001b[0m\u001b[0mstart\u001b[0m\u001b[0;34m=\u001b[0m\u001b[0mself\u001b[0m\u001b[0;34m.\u001b[0m\u001b[0meta_min\u001b[0m\u001b[0;34m,\u001b[0m \u001b[0mstop\u001b[0m\u001b[0;34m=\u001b[0m\u001b[0mlr\u001b[0m\u001b[0;34m,\u001b[0m \u001b[0mnum\u001b[0m\u001b[0;34m=\u001b[0m\u001b[0mself\u001b[0m\u001b[0;34m.\u001b[0m\u001b[0mupward_steps\u001b[0m\u001b[0;34m)\u001b[0m\u001b[0;34m\u001b[0m\u001b[0m\n\u001b[1;32m    206\u001b[0m         downward_lr = [(self.eta_min + (lr - self.eta_min) * (1 + math.cos((math.pi*o)/self.num_iterations)) / 2) \n\u001b[0;32m--> 207\u001b[0;31m                 for o in np.linspace(start=0, stop=self.num_iterations, num=self.num_iterations-self.upward_steps)]\n\u001b[0m\u001b[1;32m    208\u001b[0m \u001b[0;34m\u001b[0m\u001b[0m\n\u001b[1;32m    209\u001b[0m         \u001b[0mupward_moms\u001b[0m \u001b[0;34m=\u001b[0m \u001b[0mnp\u001b[0m\u001b[0;34m.\u001b[0m\u001b[0mlinspace\u001b[0m\u001b[0;34m(\u001b[0m\u001b[0mstart\u001b[0m\u001b[0;34m=\u001b[0m\u001b[0mself\u001b[0m\u001b[0;34m.\u001b[0m\u001b[0mmax_moms\u001b[0m\u001b[0;34m,\u001b[0m \u001b[0mstop\u001b[0m\u001b[0;34m=\u001b[0m\u001b[0mself\u001b[0m\u001b[0;34m.\u001b[0m\u001b[0mmin_moms\u001b[0m\u001b[0;34m,\u001b[0m \u001b[0mnum\u001b[0m\u001b[0;34m=\u001b[0m\u001b[0mself\u001b[0m\u001b[0;34m.\u001b[0m\u001b[0mupward_steps\u001b[0m\u001b[0;34m)\u001b[0m\u001b[0;34m\u001b[0m\u001b[0m\n",
      "\u001b[0;31mKeyboardInterrupt\u001b[0m: "
     ]
    }
   ],
   "source": [
    "# TODO: SaveBestModel after epoch's end\n",
    "# Обучающий цыкл\n",
    "epochs=10\n",
    "alpha = 0.9\n",
    "optimizer = torch.optim.Adam(model_dae.parameters(), lr=lr, weight_decay=1e-4)\n",
    "scheduler = OneCycle(epochs, optimizer, div_factor=25, pct_start=0.3, dl_len=len(dev_ds))\n",
    "for epoch in range(epochs):\n",
    "    dev_loss, val_loss = 0.0, 0.0\n",
    "    for dataset, training in [(dev_dl, True),\n",
    "                              (val_dl, False)]:\n",
    "        _ = torch.set_grad_enabled(training)\n",
    "        _ = model_dae.train(training)\n",
    "        t = tqdm_notebook(dataset)\n",
    "        \n",
    "        for batch_idx, (x, y) in enumerate(t):               \n",
    "                x, y = x.cuda(), y.cuda()\n",
    "                model_dae.zero_grad()\n",
    "                \n",
    "                # Not Music\n",
    "                dsn1, dsn2, dsn3, scores = model_dae(x)\n",
    "                dsn1_loss = loss_function(dsn1, y)\n",
    "                dsn2_loss = loss_function(dsn2, y)\n",
    "                dsn3_loss = loss_function(dsn3, y)\n",
    "                score_loss = loss_function(scores, y)\n",
    "                \n",
    "                # Music\n",
    "                _, _, _, scores_m = model_dae(music_users_holdout_tensor)\n",
    "                score_loss_m = custom_loss(scores_m, music_users_holdout_tensor)\n",
    "                \n",
    "                loss1 = dsn1_loss*0.2 + dsn2_loss*0.2 + dsn3_loss*0.2 + score_loss*0.4\n",
    "                loss2 = 1 - score_loss_m\n",
    "                loss = loss1*0.8 + loss2*0.2\n",
    "                \n",
    "\n",
    "                if training:\n",
    "                    loss.backward()\n",
    "                    dev_loss = (alpha*dev_loss) + ((1-alpha)*loss.item())\n",
    "                    t.set_postfix(epoch=epoch, training_loss=dev_loss,  refresh=False)\n",
    "                    optimizer.step()\n",
    "                    scheduler.step()\n",
    "                else:\n",
    "                    val_loss = (alpha*val_loss) + ((1-alpha)*loss.item())\n",
    "                    t.set_postfix(epoch=epoch, validation_loss=val_loss, refresh=False) "
   ]
  },
  {
   "cell_type": "code",
   "execution_count": 20,
   "metadata": {},
   "outputs": [
    {
     "name": "stdout",
     "output_type": "stream",
     "text": [
      "Лосс для отложенной выборки без музыки - 0.024455297738313675\n",
      "Лосс для пользователей с музыкой - 0.02866029553115368\n",
      "Разница - 15.0 %\n"
     ]
    }
   ],
   "source": [
    "# Лосс для отложенной выборки без музыки - 0.03239993751049042\n",
    "# Лосс для пользователей с музыкой - 0.03655463457107544\n",
    "# Разница - 11.0 %\n",
    "\n",
    "# Для проверки делаем предсказание для 0 и берем статистику, \n",
    "# потом берем для 1 и сравниваем статистики\n",
    "not_music_holdout_tensor = torch.tensor(not_music_holdout.values, dtype=torch.float32).cuda()\n",
    "music_users_tensor = torch.tensor(music_users.values, dtype=torch.float32).cuda()\n",
    "\n",
    "_, _, _, predict_not_music_holdout = model_dae(not_music_holdout_tensor)\n",
    "not_music_loss = loss_function(predict_not_music_holdout, not_music_holdout_tensor)\n",
    "print(f'Лосс для отложенной выборки без музыки - {not_music_loss}')\n",
    "\n",
    "_, _, _, predict_music = model_dae(music_users_tensor)\n",
    "music_loss = loss_function(predict_music, music_users_tensor)\n",
    "print(f'Лосс для пользователей с музыкой - {music_loss}')\n",
    "\n",
    "print(f'Разница - {torch.round((torch.abs(not_music_loss - music_loss) / music_loss * 100)).item()} %')"
   ]
  },
  {
   "cell_type": "code",
   "execution_count": 21,
   "metadata": {},
   "outputs": [
    {
     "data": {
      "application/vnd.jupyter.widget-view+json": {
       "model_id": "74adab43d27b4561888f80adc6001e77",
       "version_major": 2,
       "version_minor": 0
      },
      "text/plain": [
       "HBox(children=(IntProgress(value=0, max=70000), HTML(value='')))"
      ]
     },
     "metadata": {},
     "output_type": "display_data"
    }
   ],
   "source": [
    "model_dae.eval()\n",
    "torch.set_grad_enabled(False)\n",
    "\n",
    "train_predictions = []\n",
    "for x, y in tqdm_notebook(train_dl):               \n",
    "    x, y = x.cuda(), y.cuda()\n",
    "    _, _, _, batch_prediction = model_dae(x)\n",
    "    score = loss_function(batch_prediction, y)\n",
    "    train_predictions.append(score.item())\n",
    "train_df['enc_anomaly'] = train_predictions\n",
    "\n",
    "# test_predictions = []\n",
    "# for x, y in tqdm_notebook(test_dl):               \n",
    "#     x, y = x.cuda(), y.cuda()\n",
    "#     _, _, _, batch_prediction = model_dae(x)\n",
    "#     score = loss_function(batch_prediction, y)\n",
    "#     test_predictions.append(score.item())\n",
    "# test_df['enc_anomaly'] = test_predictions"
   ]
  },
  {
   "cell_type": "code",
   "execution_count": 23,
   "metadata": {},
   "outputs": [],
   "source": [
    "train_df[['id', 'enc_anomaly']].to_csv('../data/train_enc.csv')\n",
    "test_df[['id', 'enc_anomaly']].to_csv('../data/test_enc.csv')"
   ]
  },
  {
   "cell_type": "code",
   "execution_count": 22,
   "metadata": {},
   "outputs": [
    {
     "data": {
      "text/html": [
       "<div>\n",
       "<style scoped>\n",
       "    .dataframe tbody tr th:only-of-type {\n",
       "        vertical-align: middle;\n",
       "    }\n",
       "\n",
       "    .dataframe tbody tr th {\n",
       "        vertical-align: top;\n",
       "    }\n",
       "\n",
       "    .dataframe thead th {\n",
       "        text-align: right;\n",
       "    }\n",
       "</style>\n",
       "<table border=\"1\" class=\"dataframe\">\n",
       "  <thead>\n",
       "    <tr style=\"text-align: right;\">\n",
       "      <th></th>\n",
       "      <th>target</th>\n",
       "      <th>enc_anomaly</th>\n",
       "    </tr>\n",
       "  </thead>\n",
       "  <tbody>\n",
       "    <tr>\n",
       "      <th>target</th>\n",
       "      <td>1.000000</td>\n",
       "      <td>0.087808</td>\n",
       "    </tr>\n",
       "    <tr>\n",
       "      <th>enc_anomaly</th>\n",
       "      <td>0.087808</td>\n",
       "      <td>1.000000</td>\n",
       "    </tr>\n",
       "  </tbody>\n",
       "</table>\n",
       "</div>"
      ],
      "text/plain": [
       "               target  enc_anomaly\n",
       "target       1.000000     0.087808\n",
       "enc_anomaly  0.087808     1.000000"
      ]
     },
     "execution_count": 22,
     "metadata": {},
     "output_type": "execute_result"
    }
   ],
   "source": [
    "# 0.014203\n",
    "# 0.062906 После двойного лосса корреляция выросла почти в 4 раза\n",
    "train_df[['target', 'enc_anomaly']].corr()"
   ]
  },
  {
   "cell_type": "markdown",
   "metadata": {},
   "source": [
    "# Что если обучить на положительных "
   ]
  },
  {
   "cell_type": "code",
   "execution_count": 30,
   "metadata": {},
   "outputs": [],
   "source": [
    "# # Отложенная выборка\n",
    "# not_music_users = train_df[ train_df['target'] == 0 ].reset_index(drop=True)\n",
    "# not_music_dev_idxs = random.sample( not_music_users.index.values.tolist(), int(len(not_music_users)*0.9) )\n",
    "# not_music_dev = not_music_users.iloc[ not_music_dev_idxs, :].reset_index(drop=True)\n",
    "# not_music_holdout = not_music_users.iloc[~not_music_users.index.isin(not_music_dev_idxs), :].reset_index(drop=True)\n",
    "\n",
    "# music_users = train_df[ train_df['target'] == 1 ].reset_index(drop=True)\n",
    "\n",
    "# # Уберем ненужные признаки\n",
    "# not_music_dev.drop(['id', 'target'],axis=1, inplace=True)\n",
    "# not_music_holdout.drop(['id', 'target'],axis=1, inplace=True)\n",
    "# music_users.drop(['id', 'target'],axis=1, inplace=True)"
   ]
  },
  {
   "cell_type": "code",
   "execution_count": 41,
   "metadata": {},
   "outputs": [],
   "source": [
    "from sklearn.utils import shuffle\n",
    "\n",
    "music_users = shuffle(music_users)\n",
    "rand = 800\n",
    "dev = music_users.iloc[ rand:, :].reset_index(drop=True)\n",
    "val = music_users.iloc[ :rand, :].reset_index(drop=True)"
   ]
  },
  {
   "cell_type": "code",
   "execution_count": 53,
   "metadata": {},
   "outputs": [],
   "source": [
    "# Датасеты\n",
    "dev_ds = DAE_DS(dev, 0.5, 0.1)\n",
    "val_ds = DAE_DS(val, 0, 0)\n",
    "\n",
    "# Даталоадеры\n",
    "bs = 128\n",
    "num_workers = 8\n",
    "dev_dl = DataLoader(dev_ds, batch_size=bs,   shuffle=True, num_workers=num_workers)\n",
    "val_dl = DataLoader(val_ds, batch_size=bs,   shuffle=True, num_workers=num_workers)\n",
    "test_dl = DataLoader(test_ds, batch_size=bs, shuffle=True, num_workers=num_workers) "
   ]
  },
  {
   "cell_type": "code",
   "execution_count": 54,
   "metadata": {},
   "outputs": [],
   "source": [
    "loss_function = nn.MSELoss()\n",
    "model_dae = DAE(n_columns=dev.shape[1], n_neurons=3000).cuda()\n",
    "\n",
    "lr=1e-3\n",
    "optimizer = torch.optim.Adam(model_dae.parameters(), lr=lr, weight_decay=1e-4)"
   ]
  },
  {
   "cell_type": "code",
   "execution_count": 45,
   "metadata": {},
   "outputs": [],
   "source": [
    "# # Поиск оптимального шага обучения\n",
    "# log_lrs, losses = find_lr(model_dae, dev_dl, optimizer, loss_function)\n",
    "# plot_lr_find(log_lrs, losses)"
   ]
  },
  {
   "cell_type": "code",
   "execution_count": 55,
   "metadata": {},
   "outputs": [
    {
     "data": {
      "application/vnd.jupyter.widget-view+json": {
       "model_id": "ccf5cc79652141d3b8fa26c845670978",
       "version_major": 2,
       "version_minor": 0
      },
      "text/plain": [
       "HBox(children=(IntProgress(value=0, max=36), HTML(value='')))"
      ]
     },
     "metadata": {},
     "output_type": "display_data"
    },
    {
     "data": {
      "application/vnd.jupyter.widget-view+json": {
       "model_id": "b9d89e36fbc8463c81c8b8718d07328f",
       "version_major": 2,
       "version_minor": 0
      },
      "text/plain": [
       "HBox(children=(IntProgress(value=0, max=7), HTML(value='')))"
      ]
     },
     "metadata": {},
     "output_type": "display_data"
    },
    {
     "data": {
      "application/vnd.jupyter.widget-view+json": {
       "model_id": "340badb5871740149f61c5edbd8ca04e",
       "version_major": 2,
       "version_minor": 0
      },
      "text/plain": [
       "HBox(children=(IntProgress(value=0, max=36), HTML(value='')))"
      ]
     },
     "metadata": {},
     "output_type": "display_data"
    },
    {
     "data": {
      "application/vnd.jupyter.widget-view+json": {
       "model_id": "a08a41fd47f749268b72274666d51f49",
       "version_major": 2,
       "version_minor": 0
      },
      "text/plain": [
       "HBox(children=(IntProgress(value=0, max=7), HTML(value='')))"
      ]
     },
     "metadata": {},
     "output_type": "display_data"
    },
    {
     "data": {
      "application/vnd.jupyter.widget-view+json": {
       "model_id": "39580d6a5dbe400a8b2a160e5a3748c1",
       "version_major": 2,
       "version_minor": 0
      },
      "text/plain": [
       "HBox(children=(IntProgress(value=0, max=36), HTML(value='')))"
      ]
     },
     "metadata": {},
     "output_type": "display_data"
    },
    {
     "data": {
      "application/vnd.jupyter.widget-view+json": {
       "model_id": "9d61c75541894bf1be695153b0e64ff2",
       "version_major": 2,
       "version_minor": 0
      },
      "text/plain": [
       "HBox(children=(IntProgress(value=0, max=7), HTML(value='')))"
      ]
     },
     "metadata": {},
     "output_type": "display_data"
    },
    {
     "data": {
      "application/vnd.jupyter.widget-view+json": {
       "model_id": "8b66946d42624774a6e67ac8f1b7db84",
       "version_major": 2,
       "version_minor": 0
      },
      "text/plain": [
       "HBox(children=(IntProgress(value=0, max=36), HTML(value='')))"
      ]
     },
     "metadata": {},
     "output_type": "display_data"
    },
    {
     "data": {
      "application/vnd.jupyter.widget-view+json": {
       "model_id": "34a3198e4a3045adbc038ae86b85825d",
       "version_major": 2,
       "version_minor": 0
      },
      "text/plain": [
       "HBox(children=(IntProgress(value=0, max=7), HTML(value='')))"
      ]
     },
     "metadata": {},
     "output_type": "display_data"
    },
    {
     "data": {
      "application/vnd.jupyter.widget-view+json": {
       "model_id": "690d966b3a014ae5a600b8ccadbaa853",
       "version_major": 2,
       "version_minor": 0
      },
      "text/plain": [
       "HBox(children=(IntProgress(value=0, max=36), HTML(value='')))"
      ]
     },
     "metadata": {},
     "output_type": "display_data"
    },
    {
     "data": {
      "application/vnd.jupyter.widget-view+json": {
       "model_id": "be833b277382418c88ae8fc731c08d64",
       "version_major": 2,
       "version_minor": 0
      },
      "text/plain": [
       "HBox(children=(IntProgress(value=0, max=7), HTML(value='')))"
      ]
     },
     "metadata": {},
     "output_type": "display_data"
    },
    {
     "data": {
      "application/vnd.jupyter.widget-view+json": {
       "model_id": "0c560dbddcc640d0a577e9ed0c98f27d",
       "version_major": 2,
       "version_minor": 0
      },
      "text/plain": [
       "HBox(children=(IntProgress(value=0, max=36), HTML(value='')))"
      ]
     },
     "metadata": {},
     "output_type": "display_data"
    },
    {
     "data": {
      "application/vnd.jupyter.widget-view+json": {
       "model_id": "f1020309fcd84dde85b4a90c174412b0",
       "version_major": 2,
       "version_minor": 0
      },
      "text/plain": [
       "HBox(children=(IntProgress(value=0, max=7), HTML(value='')))"
      ]
     },
     "metadata": {},
     "output_type": "display_data"
    },
    {
     "data": {
      "application/vnd.jupyter.widget-view+json": {
       "model_id": "4506f78272484060b684989234d27565",
       "version_major": 2,
       "version_minor": 0
      },
      "text/plain": [
       "HBox(children=(IntProgress(value=0, max=36), HTML(value='')))"
      ]
     },
     "metadata": {},
     "output_type": "display_data"
    },
    {
     "data": {
      "application/vnd.jupyter.widget-view+json": {
       "model_id": "797d5a86be2d430480686bff39a0efad",
       "version_major": 2,
       "version_minor": 0
      },
      "text/plain": [
       "HBox(children=(IntProgress(value=0, max=7), HTML(value='')))"
      ]
     },
     "metadata": {},
     "output_type": "display_data"
    },
    {
     "data": {
      "application/vnd.jupyter.widget-view+json": {
       "model_id": "8e754083315f408a935a276f142ac1b1",
       "version_major": 2,
       "version_minor": 0
      },
      "text/plain": [
       "HBox(children=(IntProgress(value=0, max=36), HTML(value='')))"
      ]
     },
     "metadata": {},
     "output_type": "display_data"
    },
    {
     "data": {
      "application/vnd.jupyter.widget-view+json": {
       "model_id": "b181658bc31f41cd8851adeef87e30d7",
       "version_major": 2,
       "version_minor": 0
      },
      "text/plain": [
       "HBox(children=(IntProgress(value=0, max=7), HTML(value='')))"
      ]
     },
     "metadata": {},
     "output_type": "display_data"
    },
    {
     "data": {
      "application/vnd.jupyter.widget-view+json": {
       "model_id": "9f8f3c4662184a4da3e9acb20ec514f5",
       "version_major": 2,
       "version_minor": 0
      },
      "text/plain": [
       "HBox(children=(IntProgress(value=0, max=36), HTML(value='')))"
      ]
     },
     "metadata": {},
     "output_type": "display_data"
    },
    {
     "data": {
      "application/vnd.jupyter.widget-view+json": {
       "model_id": "5cedaaf9af0e4cf9a34d94d95233aea8",
       "version_major": 2,
       "version_minor": 0
      },
      "text/plain": [
       "HBox(children=(IntProgress(value=0, max=7), HTML(value='')))"
      ]
     },
     "metadata": {},
     "output_type": "display_data"
    },
    {
     "data": {
      "application/vnd.jupyter.widget-view+json": {
       "model_id": "416629d803ec4707bf71953775d07436",
       "version_major": 2,
       "version_minor": 0
      },
      "text/plain": [
       "HBox(children=(IntProgress(value=0, max=36), HTML(value='')))"
      ]
     },
     "metadata": {},
     "output_type": "display_data"
    },
    {
     "data": {
      "application/vnd.jupyter.widget-view+json": {
       "model_id": "fdfc07d402e04b61a51053749b8878dd",
       "version_major": 2,
       "version_minor": 0
      },
      "text/plain": [
       "HBox(children=(IntProgress(value=0, max=7), HTML(value='')))"
      ]
     },
     "metadata": {},
     "output_type": "display_data"
    }
   ],
   "source": [
    "# TODO: SaveBestModel after epoch's end\n",
    "# Обучающий цыкл\n",
    "epochs=10\n",
    "alpha = 0.9\n",
    "\n",
    "scheduler = OneCycle(epochs, optimizer, div_factor=20, pct_start=0.3, dl_len=len(dev_ds))\n",
    "for epoch in range(epochs):\n",
    "    dev_loss, val_loss = 0.0, 0.0\n",
    "    for dataset, training in [(dev_dl, True),\n",
    "                              (val_dl, False)]:\n",
    "        _ = torch.set_grad_enabled(training)\n",
    "        _ = model_dae.train(training)\n",
    "        t = tqdm_notebook(dataset)\n",
    "        \n",
    "        for batch_idx, (x, y) in enumerate(t):               \n",
    "                x, y = x.cuda(), y.cuda()\n",
    "                model_dae.zero_grad()\n",
    "                scores = model_dae(x)\n",
    "                loss = loss_function(scores, y)\n",
    "                if training:\n",
    "                    loss.backward()\n",
    "                    dev_loss = (alpha*dev_loss) + ((1-alpha)*loss.item())\n",
    "                    t.set_postfix(epoch=epoch, training_loss=dev_loss, refresh=False)\n",
    "                    optimizer.step()\n",
    "                    scheduler.step()\n",
    "                else:\n",
    "                    val_loss = (alpha*val_loss) + ((1-alpha)*loss.item())\n",
    "                    t.set_postfix(epoch=epoch, validation_loss=val_loss, refresh=False) "
   ]
  },
  {
   "cell_type": "code",
   "execution_count": 47,
   "metadata": {},
   "outputs": [
    {
     "ename": "NameError",
     "evalue": "name 'val' is not defined",
     "output_type": "error",
     "traceback": [
      "\u001b[0;31m---------------------------------------------------------------------------\u001b[0m",
      "\u001b[0;31mNameError\u001b[0m                                 Traceback (most recent call last)",
      "\u001b[0;32m<ipython-input-47-ef8eca8b4bcf>\u001b[0m in \u001b[0;36m<module>\u001b[0;34m()\u001b[0m\n\u001b[1;32m      2\u001b[0m \u001b[0;31m# потом берем для 1 и сравниваем статистики\u001b[0m\u001b[0;34m\u001b[0m\u001b[0;34m\u001b[0m\u001b[0m\n\u001b[1;32m      3\u001b[0m \u001b[0;34m\u001b[0m\u001b[0m\n\u001b[0;32m----> 4\u001b[0;31m \u001b[0mval_music\u001b[0m \u001b[0;34m=\u001b[0m \u001b[0mtorch\u001b[0m\u001b[0;34m.\u001b[0m\u001b[0mtensor\u001b[0m\u001b[0;34m(\u001b[0m\u001b[0mval\u001b[0m\u001b[0;34m.\u001b[0m\u001b[0mvalues\u001b[0m\u001b[0;34m,\u001b[0m \u001b[0mdtype\u001b[0m\u001b[0;34m=\u001b[0m\u001b[0mtorch\u001b[0m\u001b[0;34m.\u001b[0m\u001b[0mfloat32\u001b[0m\u001b[0;34m)\u001b[0m\u001b[0;34m.\u001b[0m\u001b[0mcuda\u001b[0m\u001b[0;34m(\u001b[0m\u001b[0;34m)\u001b[0m\u001b[0;34m\u001b[0m\u001b[0m\n\u001b[0m\u001b[1;32m      5\u001b[0m \u001b[0mnot_music\u001b[0m \u001b[0;34m=\u001b[0m \u001b[0mtorch\u001b[0m\u001b[0;34m.\u001b[0m\u001b[0mtensor\u001b[0m\u001b[0;34m(\u001b[0m\u001b[0mnot_music_holdout\u001b[0m\u001b[0;34m.\u001b[0m\u001b[0mvalues\u001b[0m\u001b[0;34m,\u001b[0m \u001b[0mdtype\u001b[0m\u001b[0;34m=\u001b[0m\u001b[0mtorch\u001b[0m\u001b[0;34m.\u001b[0m\u001b[0mfloat32\u001b[0m\u001b[0;34m)\u001b[0m\u001b[0;34m.\u001b[0m\u001b[0mcuda\u001b[0m\u001b[0;34m(\u001b[0m\u001b[0;34m)\u001b[0m\u001b[0;34m\u001b[0m\u001b[0m\n\u001b[1;32m      6\u001b[0m \u001b[0;34m\u001b[0m\u001b[0m\n",
      "\u001b[0;31mNameError\u001b[0m: name 'val' is not defined"
     ]
    }
   ],
   "source": [
    "# Для проверки делаем предсказание для 0 и берем статистику, \n",
    "# потом берем для 1 и сравниваем статистики\n",
    "\n",
    "val_music = torch.tensor(val.values, dtype=torch.float32).cuda()\n",
    "not_music = torch.tensor(not_music_holdout.values, dtype=torch.float32).cuda()\n",
    "\n",
    "\n",
    "predict_not_music_holdout = model_dae(val_music)\n",
    "print(f'Лосс для отложенной выборки без музыки - {loss_function(predict_not_music_holdout, val_music)}')\n",
    "\n",
    "predict_music = model_dae(not_music)\n",
    "print(f'Лосс для пользователей с музыкой - {loss_function(predict_music, not_music)}')"
   ]
  },
  {
   "cell_type": "code",
   "execution_count": null,
   "metadata": {},
   "outputs": [],
   "source": [
    "# Получем предсказание на обучающую выборку и тестовую\n",
    "# Сохраняем в датафрей"
   ]
  }
 ],
 "metadata": {
  "kernelspec": {
   "display_name": "Python 3",
   "language": "python",
   "name": "python3"
  },
  "language_info": {
   "codemirror_mode": {
    "name": "ipython",
    "version": 3
   },
   "file_extension": ".py",
   "mimetype": "text/x-python",
   "name": "python",
   "nbconvert_exporter": "python",
   "pygments_lexer": "ipython3",
   "version": "3.7.0"
  }
 },
 "nbformat": 4,
 "nbformat_minor": 2
}

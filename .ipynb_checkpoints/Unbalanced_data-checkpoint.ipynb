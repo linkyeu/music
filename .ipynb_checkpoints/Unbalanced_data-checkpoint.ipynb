{
 "cells": [
  {
   "cell_type": "code",
   "execution_count": 20,
   "metadata": {},
   "outputs": [],
   "source": [
    "# https://www.kaggle.com/rafjaa/resampling-strategies-for-imbalanced-datasets\n",
    "# https://www.kaggle.com/gargmanish/how-to-handle-imbalance-data-study-in-detail"
   ]
  },
  {
   "cell_type": "markdown",
   "metadata": {},
   "source": [
    "**Семплинг:**\n",
    "\n",
    "- undersampling\n",
    "- oversampling\n",
    "\n",
    "**Важно.**\n",
    "\n",
    "Если мы делаем семплинг для балансирования классов, то валидационная выборка должна быть неизменна! \n",
    "То есть для валидации мы берем из исходной (неизменной) обучающей выборки!\n"
   ]
  },
  {
   "cell_type": "code",
   "execution_count": 13,
   "metadata": {},
   "outputs": [],
   "source": [
    "%reload_ext autoreload\n",
    "%autoreload 2"
   ]
  },
  {
   "cell_type": "code",
   "execution_count": 14,
   "metadata": {},
   "outputs": [],
   "source": [
    "import sys; sys.path.append('scripts')\n",
    "from common import *\n",
    "from global_common import *\n",
    "from models import *"
   ]
  },
  {
   "cell_type": "code",
   "execution_count": 3,
   "metadata": {},
   "outputs": [
    {
     "name": "stdout",
     "output_type": "stream",
     "text": [
      "Shape of train (70134, 460)\n",
      "Shape of test (30058, 460)\n",
      "\n"
     ]
    }
   ],
   "source": [
    "# Читаем данные\n",
    "path_to_data = Path('../data')\n",
    "train_df = pd.read_csv(path_to_data/'train_music.csv')\n",
    "train_y = train_df['target']\n",
    "del train_df['target']\n",
    "\n",
    "test_df  = pd.read_csv(path_to_data/'test_music.csv')\n",
    "\n",
    "sample_submission_df = pd.read_csv(path_to_data/'sample_submission_music.csv')\n",
    "print(f'Shape of train {train_df.shape}\\nShape of test {test_df.shape}\\n')"
   ]
  },
  {
   "cell_type": "code",
   "execution_count": 4,
   "metadata": {
    "scrolled": true
   },
   "outputs": [
    {
     "name": "stdout",
     "output_type": "stream",
     "text": [
      "Бинарных признаков - 15\n",
      "Категориальных признаков - 5\n",
      "Числовых признаков - 439\n",
      "Размер обучающей выборки после обработки : (70134, 461)\n",
      "Размер тестовой выборки после обработки : (30058, 460)\n"
     ]
    }
   ],
   "source": [
    "# Объединяем выборки для обработки переменных, запоминаем индексы чтобы потом разделить назад\n",
    "train_idx = train_df.index[-1]\n",
    "merged = pd.concat([train_df, test_df], axis=0)\n",
    "\n",
    "# Бинарный признка целочисленное значение, пропуски = -1, не эмбединги\n",
    "binary_columns = [o for o in merged.columns if 'flag' in o or 'is' in o]\n",
    "binary_columns.remove('tp_flag')\n",
    "print(f'Бинарных признаков - {len(binary_columns)}')\n",
    "\n",
    "# Для категориальных признаков используем -1. Кодируем в эмбединги. Целочисленные значения.\n",
    "cat_names = ['sim_count', 'device_type', 'manufacturer_category', 'os_category', 'tp_flag']\n",
    "print(f'Категориальных признаков - {len(cat_names)}')\n",
    "\n",
    "# Флоат должны использовать медиану для замещения пропусков\n",
    "float_columns = list(set(merged.columns).difference(set(binary_columns+cat_names)))\n",
    "float_columns.remove('id')\n",
    "print(f'Числовых признаков - {len(float_columns)}')\n",
    "\n",
    "# Замещаем пропущенные значения в соответствии с типом данных\n",
    "merged[binary_columns] = merged[binary_columns].apply(lambda x: x.fillna(-1))\n",
    "merged[cat_names] = merged[cat_names].apply(lambda x: x.fillna(-1))\n",
    "merged[float_columns] = merged[float_columns].apply(lambda x: x.fillna(x.median()))\n",
    "assert merged.isna().sum().sum() == 0, 'Buddy, slow down!'\n",
    "\n",
    "# Присваивает тип для каждой из переменных\n",
    "merged[binary_columns] = merged[binary_columns].apply(lambda x: x.astype('int'))\n",
    "merged[cat_names] = merged[cat_names].apply(lambda x: x.astype('int'))\n",
    "merged[float_columns] = merged[float_columns].apply(lambda x: x.astype('float'))\n",
    "\n",
    "# Разделяем обработанные обучающую и тестовую выборки\n",
    "train = merged.iloc[:train_idx+1, :]\n",
    "train['target'] = train_y\n",
    "train.reset_index(inplace=True, drop=True)\n",
    "\n",
    "test = merged.iloc[train_idx+1:, :]\n",
    "test.reset_index(inplace=True, drop=True)\n",
    "del merged\n",
    "del train_y\n",
    "\n",
    "# Указываем для модели категориальные (для кодировки в эмб) и числовые\n",
    "dep_var = 'target'\n",
    "cont_names = float_columns\n",
    "cat_names = cat_names\n",
    "\n",
    "print(f'Размер обучающей выборки после обработки : {train.shape}')\n",
    "print(f'Размер тестовой выборки после обработки : {test.shape}')"
   ]
  },
  {
   "cell_type": "code",
   "execution_count": 5,
   "metadata": {
    "scrolled": true
   },
   "outputs": [
    {
     "data": {
      "image/png": "[encoded data removed]",
      "text/plain": [
       "<Figure size 432x288 with 1 Axes>"
      ]
     },
     "metadata": {
      "needs_background": "light"
     },
     "output_type": "display_data"
    }
   ],
   "source": [
    "train.target.hist();"
   ]
  },
  {
   "cell_type": "code",
   "execution_count": 6,
   "metadata": {},
   "outputs": [
    {
     "data": {
      "text/plain": [
       "((59613,), (10521,))"
      ]
     },
     "execution_count": 6,
     "metadata": {},
     "output_type": "execute_result"
    }
   ],
   "source": [
    "# Для валидации нам нужна отложенная выборка.\n",
    "train_idxs, holdout_idxs, _, _ = train_test_split(train.index.values, \n",
    "                                                train.target.values, \n",
    "                                                stratify=train.target.values,\n",
    "                                                test_size=0.15, \n",
    "                                                random_state=SEED)\n",
    "\n",
    "train_idxs.shape, holdout_idxs.shape"
   ]
  },
  {
   "cell_type": "code",
   "execution_count": 11,
   "metadata": {},
   "outputs": [],
   "source": [
    "holdout = train.iloc[holdout_idxs, :]\n",
    "train = train.iloc[train_idxs, :].copy()"
   ]
  },
  {
   "cell_type": "code",
   "execution_count": 15,
   "metadata": {},
   "outputs": [
    {
     "name": "stdout",
     "output_type": "stream",
     "text": [
      "train.shape = (59613, 461), test.shape = (30058, 460)\n",
      "Fold 1/5*1\n",
      "Training until validation scores don't improve for 50 rounds.\n",
      "[100]\ttraining's auc: 0.80876\tvalid_1's auc: 0.78828\n",
      "[200]\ttraining's auc: 0.834804\tvalid_1's auc: 0.80912\n",
      "[300]\ttraining's auc: 0.848346\tvalid_1's auc: 0.817675\n",
      "[400]\ttraining's auc: 0.859311\tvalid_1's auc: 0.823797\n",
      "[500]\ttraining's auc: 0.867821\tvalid_1's auc: 0.827826\n",
      "[600]\ttraining's auc: 0.87523\tvalid_1's auc: 0.830101\n",
      "[700]\ttraining's auc: 0.881267\tvalid_1's auc: 0.831288\n",
      "[800]\ttraining's auc: 0.886922\tvalid_1's auc: 0.832667\n",
      "[900]\ttraining's auc: 0.891466\tvalid_1's auc: 0.833423\n",
      "[1000]\ttraining's auc: 0.8953\tvalid_1's auc: 0.833695\n",
      "[1100]\ttraining's auc: 0.898893\tvalid_1's auc: 0.83429\n",
      "[1200]\ttraining's auc: 0.902316\tvalid_1's auc: 0.834395\n",
      "[1300]\ttraining's auc: 0.905385\tvalid_1's auc: 0.834584\n",
      "[1400]\ttraining's auc: 0.908521\tvalid_1's auc: 0.834771\n",
      "Early stopping, best iteration is:\n",
      "[1410]\ttraining's auc: 0.908783\tvalid_1's auc: 0.834816\n",
      "Important features:\n",
      "('manufacturer_category', 1028)\n",
      "('data_type_3_m1', 983)\n",
      "('data_type_2_m1', 842)\n",
      "('data_type_1_m1', 821)\n",
      "('lt', 601)\n",
      "('content_count_m1', 560)\n",
      "('content_count_m3', 370)\n",
      "('balance_sum', 356)\n",
      "('data_type_2_m3', 270)\n",
      "('vol_app_7', 247)\n",
      "('count_app_5', 237)\n",
      "('data_type_1_m3', 232)\n",
      "('content_count_m2', 224)\n",
      "('data_type_1_m2', 217)\n",
      "('sms_in_count_m2', 195)\n",
      "('vol_app_4', 194)\n",
      "('data_type_2_m2', 182)\n",
      "('service_1_count', 182)\n",
      "('data_type_3_m2', 176)\n",
      "('all_cost_m1', 163)\n",
      "('service_1_flag', 163)\n",
      "('count_sms_source_4', 160)\n",
      "('all_count_m3', 155)\n",
      "('vol_app_1', 154)\n",
      "('count_act_type_1', 151)\n",
      "('short_out_calls_part_m3', 147)\n",
      "('paym_el_sum_m1', 142)\n",
      "('vol_app_5', 129)\n",
      "('count_app_4', 123)\n",
      "('sms_cost_m3', 122)\n",
      "('count_gift_type_4', 122)\n",
      "('vol_app_12', 119)\n",
      "('short_out_calls_part_m2', 118)\n",
      "('count_url_category_4', 111)\n",
      "('all_cost_m2', 109)\n",
      "('content_cost_m1', 109)\n",
      "('sms_in_count_m1', 107)\n",
      "('all_count_m2', 105)\n",
      "('all_home_clc_m1', 104)\n",
      "('service_3_flag', 98)\n",
      "('count_url_category_2', 95)\n",
      "('all_home_clc_m2', 94)\n",
      "('voice_omo_in_day_work_dur_m2', 93)\n",
      "('short_out_calls_part_m1', 93)\n",
      "('count_app_15', 92)\n",
      "('paym_el_sum_m3', 90)\n",
      "('is_obl_center', 90)\n",
      "('days_exp', 89)\n",
      "('sms_cost_m1', 87)\n",
      "('count_act_type_7', 87)\n",
      "('count_act_type_8', 83)\n",
      "('vol_app_8', 83)\n",
      "('count_url_category_1', 83)\n",
      "('count_app_9', 82)\n",
      "('sms_in_count_m3', 81)\n",
      "('act_days_count_m1', 81)\n",
      "('count_app_7', 79)\n",
      "('act_days_count_m3', 78)\n",
      "('block_all_dur_m2', 75)\n",
      "('data_type_3_m3', 74)\n",
      "1 auc: 0.8159113912132661\n",
      "Fold 2/5*1\n",
      "Training until validation scores don't improve for 50 rounds.\n",
      "[100]\ttraining's auc: 0.807642\tvalid_1's auc: 0.796066\n",
      "[200]\ttraining's auc: 0.831345\tvalid_1's auc: 0.81447\n",
      "[300]\ttraining's auc: 0.845645\tvalid_1's auc: 0.822843\n",
      "[400]\ttraining's auc: 0.856874\tvalid_1's auc: 0.828758\n",
      "[500]\ttraining's auc: 0.865571\tvalid_1's auc: 0.832072\n",
      "[600]\ttraining's auc: 0.87283\tvalid_1's auc: 0.834776\n",
      "[700]\ttraining's auc: 0.87878\tvalid_1's auc: 0.836845\n",
      "[800]\ttraining's auc: 0.884285\tvalid_1's auc: 0.838014\n",
      "[900]\ttraining's auc: 0.88906\tvalid_1's auc: 0.838939\n",
      "[1000]\ttraining's auc: 0.893399\tvalid_1's auc: 0.83971\n",
      "[1100]\ttraining's auc: 0.897421\tvalid_1's auc: 0.84044\n",
      "[1200]\ttraining's auc: 0.901073\tvalid_1's auc: 0.841071\n",
      "[1300]\ttraining's auc: 0.904273\tvalid_1's auc: 0.841542\n",
      "[1400]\ttraining's auc: 0.907447\tvalid_1's auc: 0.841867\n",
      "[1500]\ttraining's auc: 0.910247\tvalid_1's auc: 0.842336\n",
      "[1600]\ttraining's auc: 0.912864\tvalid_1's auc: 0.842631\n",
      "[1700]\ttraining's auc: 0.915602\tvalid_1's auc: 0.842904\n",
      "[1800]\ttraining's auc: 0.918229\tvalid_1's auc: 0.843165\n",
      "[1900]\ttraining's auc: 0.920945\tvalid_1's auc: 0.84328\n",
      "Early stopping, best iteration is:\n",
      "[1868]\ttraining's auc: 0.920169\tvalid_1's auc: 0.843333\n",
      "2 auc: 0.8189012071069056\n",
      "Fold 3/5*1\n",
      "Training until validation scores don't improve for 50 rounds.\n",
      "[100]\ttraining's auc: 0.806108\tvalid_1's auc: 0.797048\n",
      "[200]\ttraining's auc: 0.832092\tvalid_1's auc: 0.814226\n",
      "[300]\ttraining's auc: 0.845574\tvalid_1's auc: 0.822495\n",
      "[400]\ttraining's auc: 0.856297\tvalid_1's auc: 0.828557\n",
      "[500]\ttraining's auc: 0.86507\tvalid_1's auc: 0.832649\n",
      "[600]\ttraining's auc: 0.872071\tvalid_1's auc: 0.835338\n",
      "[700]\ttraining's auc: 0.87834\tvalid_1's auc: 0.837041\n",
      "[800]\ttraining's auc: 0.884001\tvalid_1's auc: 0.838634\n",
      "[900]\ttraining's auc: 0.888787\tvalid_1's auc: 0.839424\n",
      "[1000]\ttraining's auc: 0.893234\tvalid_1's auc: 0.840298\n",
      "[1100]\ttraining's auc: 0.897529\tvalid_1's auc: 0.841054\n",
      "[1200]\ttraining's auc: 0.901482\tvalid_1's auc: 0.842013\n",
      "[1300]\ttraining's auc: 0.904916\tvalid_1's auc: 0.842768\n",
      "[1400]\ttraining's auc: 0.908076\tvalid_1's auc: 0.843272\n",
      "[1500]\ttraining's auc: 0.910957\tvalid_1's auc: 0.843966\n",
      "[1600]\ttraining's auc: 0.913741\tvalid_1's auc: 0.844426\n",
      "[1700]\ttraining's auc: 0.916221\tvalid_1's auc: 0.844835\n",
      "[1800]\ttraining's auc: 0.918632\tvalid_1's auc: 0.845106\n",
      "[1900]\ttraining's auc: 0.920921\tvalid_1's auc: 0.84514\n",
      "[2000]\ttraining's auc: 0.923194\tvalid_1's auc: 0.845358\n",
      "[2100]\ttraining's auc: 0.925434\tvalid_1's auc: 0.845582\n",
      "Early stopping, best iteration is:\n",
      "[2092]\ttraining's auc: 0.925241\tvalid_1's auc: 0.845627\n",
      "3 auc: 0.816195906742459\n",
      "Fold 4/5*1\n",
      "Training until validation scores don't improve for 50 rounds.\n",
      "[100]\ttraining's auc: 0.808444\tvalid_1's auc: 0.794458\n",
      "[200]\ttraining's auc: 0.831719\tvalid_1's auc: 0.810443\n",
      "[300]\ttraining's auc: 0.84591\tvalid_1's auc: 0.818921\n",
      "[400]\ttraining's auc: 0.857508\tvalid_1's auc: 0.824744\n",
      "[500]\ttraining's auc: 0.866318\tvalid_1's auc: 0.827677\n",
      "[600]\ttraining's auc: 0.873053\tvalid_1's auc: 0.829402\n",
      "[700]\ttraining's auc: 0.878702\tvalid_1's auc: 0.830699\n",
      "[800]\ttraining's auc: 0.883893\tvalid_1's auc: 0.831648\n",
      "[900]\ttraining's auc: 0.888767\tvalid_1's auc: 0.832343\n",
      "[1000]\ttraining's auc: 0.893198\tvalid_1's auc: 0.832973\n",
      "[1100]\ttraining's auc: 0.89689\tvalid_1's auc: 0.833293\n",
      "[1200]\ttraining's auc: 0.900366\tvalid_1's auc: 0.833515\n",
      "Early stopping, best iteration is:\n",
      "[1241]\ttraining's auc: 0.901636\tvalid_1's auc: 0.833581\n",
      "4 auc: 0.8143484682648966\n",
      "Fold 5/5*1\n",
      "Training until validation scores don't improve for 50 rounds.\n",
      "[100]\ttraining's auc: 0.810341\tvalid_1's auc: 0.77988\n",
      "[200]\ttraining's auc: 0.83516\tvalid_1's auc: 0.800969\n",
      "[300]\ttraining's auc: 0.848639\tvalid_1's auc: 0.810331\n",
      "[400]\ttraining's auc: 0.859021\tvalid_1's auc: 0.816592\n",
      "[500]\ttraining's auc: 0.867436\tvalid_1's auc: 0.819787\n",
      "[600]\ttraining's auc: 0.87463\tvalid_1's auc: 0.821658\n",
      "[700]\ttraining's auc: 0.880621\tvalid_1's auc: 0.822898\n",
      "[800]\ttraining's auc: 0.886106\tvalid_1's auc: 0.823731\n",
      "[900]\ttraining's auc: 0.890994\tvalid_1's auc: 0.824082\n",
      "[1000]\ttraining's auc: 0.895255\tvalid_1's auc: 0.824348\n",
      "[1100]\ttraining's auc: 0.899098\tvalid_1's auc: 0.824757\n",
      "Early stopping, best iteration is:\n",
      "[1134]\ttraining's auc: 0.900278\tvalid_1's auc: 0.824896\n",
      "5 auc: 0.817230695900858\n",
      "auc = 0.816518 +/- 0.001508\n"
     ]
    }
   ],
   "source": [
    "lgb_params = {\n",
    "        'num_leaves' : 31,\n",
    "        'boosting_type': 'gbdt',\n",
    "        'objective': 'binary',\n",
    "        'metric': 'auc',\n",
    "        'max_depth': 4,\n",
    "        'learning_rate': 0.01, \n",
    "        'verbose': -1,\n",
    "        'num_threads': 8,\n",
    "        'scale_pos_weight' : 2,\n",
    "    }\n",
    "\n",
    "p = run_lightgmb(lgb_params, cat_names, train, test, holdout)"
   ]
  },
  {
   "cell_type": "code",
   "execution_count": 29,
   "metadata": {},
   "outputs": [],
   "source": [
    "# Class count\n",
    "count_class_0, count_class_1 = train.target.value_counts()\n",
    "\n",
    "# Divide by class\n",
    "df_class_0 = train[train['target'] == 0]\n",
    "df_class_1 = train[train['target'] == 1]"
   ]
  },
  {
   "cell_type": "code",
   "execution_count": 30,
   "metadata": {},
   "outputs": [
    {
     "name": "stdout",
     "output_type": "stream",
     "text": [
      "Random under-sampling:\n",
      "1    5664\n",
      "0    5664\n",
      "Name: target, dtype: int64\n"
     ]
    },
    {
     "data": {
      "image/png": "[encoded data removed]",
      "text/plain": [
       "<Figure size 432x288 with 1 Axes>"
      ]
     },
     "metadata": {
      "needs_background": "light"
     },
     "output_type": "display_data"
    }
   ],
   "source": [
    "# Undersampling\n",
    "df_class_0_under = df_class_0.sample(count_class_1)\n",
    "df_test_under = pd.concat([df_class_0_under, df_class_1], axis=0)\n",
    "\n",
    "print('Random under-sampling:')\n",
    "print(df_test_under.target.value_counts())\n",
    "\n",
    "df_test_under.target.value_counts().plot(kind='bar', title='Count (target)');"
   ]
  },
  {
   "cell_type": "code",
   "execution_count": 10,
   "metadata": {},
   "outputs": [],
   "source": []
  },
  {
   "cell_type": "markdown",
   "metadata": {},
   "source": [
    "# Oversampling"
   ]
  },
  {
   "cell_type": "code",
   "execution_count": 31,
   "metadata": {
    "scrolled": true
   },
   "outputs": [
    {
     "name": "stdout",
     "output_type": "stream",
     "text": [
      "Random over-sampling:\n",
      "0    56640\n",
      "1     5664\n",
      "Name: target, dtype: int64\n"
     ]
    },
    {
     "data": {
      "image/png": "[encoded data removed]",
      "text/plain": [
       "<Figure size 432x288 with 1 Axes>"
      ]
     },
     "metadata": {
      "needs_background": "light"
     },
     "output_type": "display_data"
    }
   ],
   "source": [
    "df_class_1_over = df_class_1.sample(int(count_class_0 * 0.1), replace=True)\n",
    "df_test_over = pd.concat([df_class_0, df_class_1_over], axis=0)\n",
    "\n",
    "print('Random over-sampling:')\n",
    "print(df_test_over.target.value_counts())\n",
    "\n",
    "df_test_over.target.value_counts().plot(kind='bar', title='Count (target)');"
   ]
  },
  {
   "cell_type": "code",
   "execution_count": 32,
   "metadata": {
    "scrolled": true
   },
   "outputs": [
    {
     "data": {
      "text/plain": [
       "((30058, 460),\n",
       " Index(['id', 'device_type', 'manufacturer_category', 'os_category',\n",
       "        'sim_count', 'tp_flag', 'lt', 'block_flag', 'days_exp',\n",
       "        'service_1_flag',\n",
       "        ...\n",
       "        'service_5_count_m3', 'service_6_count_m3', 'service_7_cost_m3',\n",
       "        'service_7_flag_m3', 'service_8_count_m3', 'income_brnd_cont_m3',\n",
       "        'data_type_1_m3', 'data_type_2_m3', 'data_type_3_m3',\n",
       "        'service_9_flag_m3'],\n",
       "       dtype='object', length=460))"
      ]
     },
     "execution_count": 32,
     "metadata": {},
     "output_type": "execute_result"
    }
   ],
   "source": [
    "test.shape, test.columns"
   ]
  },
  {
   "cell_type": "code",
   "execution_count": 44,
   "metadata": {},
   "outputs": [],
   "source": [
    "# train = df_test_over.copy()"
   ]
  },
  {
   "cell_type": "code",
   "execution_count": 20,
   "metadata": {},
   "outputs": [
    {
     "name": "stdout",
     "output_type": "stream",
     "text": [
      "train.shape = (62304, 461), test.shape = (30058, 460)\n",
      "Fold 1/5*1\n",
      "Training until validation scores don't improve for 50 rounds.\n",
      "[100]\ttraining's auc: 0.815082\tvalid_1's auc: 0.801101\n",
      "[200]\ttraining's auc: 0.844409\tvalid_1's auc: 0.825728\n",
      "[300]\ttraining's auc: 0.859895\tvalid_1's auc: 0.837442\n",
      "[400]\ttraining's auc: 0.872346\tvalid_1's auc: 0.844929\n",
      "[500]\ttraining's auc: 0.881756\tvalid_1's auc: 0.850415\n",
      "[600]\ttraining's auc: 0.889887\tvalid_1's auc: 0.854822\n",
      "[700]\ttraining's auc: 0.896341\tvalid_1's auc: 0.858404\n",
      "[800]\ttraining's auc: 0.901391\tvalid_1's auc: 0.861462\n",
      "[900]\ttraining's auc: 0.906506\tvalid_1's auc: 0.864451\n",
      "[1000]\ttraining's auc: 0.911279\tvalid_1's auc: 0.867304\n",
      "[1100]\ttraining's auc: 0.915664\tvalid_1's auc: 0.869881\n",
      "[1200]\ttraining's auc: 0.919899\tvalid_1's auc: 0.871972\n",
      "[1300]\ttraining's auc: 0.92365\tvalid_1's auc: 0.874054\n",
      "[1400]\ttraining's auc: 0.927226\tvalid_1's auc: 0.876333\n",
      "[1500]\ttraining's auc: 0.930553\tvalid_1's auc: 0.878223\n",
      "[1600]\ttraining's auc: 0.933201\tvalid_1's auc: 0.879503\n",
      "[1700]\ttraining's auc: 0.935739\tvalid_1's auc: 0.880764\n",
      "[1800]\ttraining's auc: 0.938121\tvalid_1's auc: 0.881942\n",
      "[1900]\ttraining's auc: 0.940524\tvalid_1's auc: 0.883017\n",
      "[2000]\ttraining's auc: 0.942746\tvalid_1's auc: 0.884034\n",
      "[2100]\ttraining's auc: 0.944777\tvalid_1's auc: 0.885093\n",
      "[2200]\ttraining's auc: 0.946753\tvalid_1's auc: 0.885945\n",
      "[2300]\ttraining's auc: 0.948718\tvalid_1's auc: 0.886781\n",
      "[2400]\ttraining's auc: 0.950583\tvalid_1's auc: 0.887775\n",
      "[2500]\ttraining's auc: 0.952444\tvalid_1's auc: 0.888754\n",
      "[2600]\ttraining's auc: 0.954101\tvalid_1's auc: 0.889509\n",
      "[2700]\ttraining's auc: 0.95572\tvalid_1's auc: 0.890354\n",
      "[2800]\ttraining's auc: 0.957378\tvalid_1's auc: 0.891039\n",
      "[2900]\ttraining's auc: 0.95888\tvalid_1's auc: 0.891761\n",
      "[3000]\ttraining's auc: 0.960344\tvalid_1's auc: 0.892532\n",
      "[3100]\ttraining's auc: 0.961722\tvalid_1's auc: 0.89305\n",
      "[3200]\ttraining's auc: 0.963221\tvalid_1's auc: 0.893554\n",
      "[3300]\ttraining's auc: 0.96455\tvalid_1's auc: 0.893978\n",
      "[3400]\ttraining's auc: 0.965904\tvalid_1's auc: 0.894536\n",
      "[3500]\ttraining's auc: 0.967021\tvalid_1's auc: 0.894933\n",
      "[3600]\ttraining's auc: 0.968309\tvalid_1's auc: 0.895249\n",
      "[3700]\ttraining's auc: 0.969492\tvalid_1's auc: 0.895763\n",
      "[3800]\ttraining's auc: 0.970681\tvalid_1's auc: 0.896057\n",
      "[3900]\ttraining's auc: 0.971687\tvalid_1's auc: 0.896225\n",
      "[4000]\ttraining's auc: 0.972856\tvalid_1's auc: 0.896459\n",
      "[4100]\ttraining's auc: 0.973797\tvalid_1's auc: 0.896597\n",
      "[4200]\ttraining's auc: 0.974814\tvalid_1's auc: 0.896926\n",
      "[4300]\ttraining's auc: 0.975755\tvalid_1's auc: 0.897228\n",
      "[4400]\ttraining's auc: 0.976695\tvalid_1's auc: 0.897701\n",
      "[4500]\ttraining's auc: 0.977568\tvalid_1's auc: 0.897994\n",
      "[4600]\ttraining's auc: 0.978355\tvalid_1's auc: 0.898393\n",
      "[4700]\ttraining's auc: 0.979065\tvalid_1's auc: 0.898656\n",
      "[4800]\ttraining's auc: 0.979754\tvalid_1's auc: 0.898933\n",
      "[4900]\ttraining's auc: 0.98046\tvalid_1's auc: 0.899125\n",
      "[5000]\ttraining's auc: 0.98122\tvalid_1's auc: 0.899383\n",
      "[5100]\ttraining's auc: 0.981912\tvalid_1's auc: 0.899586\n",
      "[5200]\ttraining's auc: 0.982528\tvalid_1's auc: 0.899874\n",
      "[5300]\ttraining's auc: 0.983152\tvalid_1's auc: 0.900073\n",
      "[5400]\ttraining's auc: 0.983746\tvalid_1's auc: 0.900275\n",
      "[5500]\ttraining's auc: 0.984325\tvalid_1's auc: 0.900528\n",
      "[5600]\ttraining's auc: 0.984867\tvalid_1's auc: 0.900713\n",
      "[5700]\ttraining's auc: 0.985412\tvalid_1's auc: 0.900889\n",
      "[5800]\ttraining's auc: 0.986002\tvalid_1's auc: 0.901043\n",
      "[5900]\ttraining's auc: 0.986638\tvalid_1's auc: 0.901299\n",
      "[6000]\ttraining's auc: 0.987061\tvalid_1's auc: 0.90151\n",
      "[6100]\ttraining's auc: 0.987545\tvalid_1's auc: 0.901722\n",
      "Early stopping, best iteration is:\n",
      "[6136]\ttraining's auc: 0.987704\tvalid_1's auc: 0.901775\n",
      "Important features:\n",
      "('manufacturer_category', 3326)\n",
      "('lt', 1930)\n",
      "('data_type_3_m1', 1747)\n",
      "('data_type_2_m1', 1715)\n",
      "('data_type_1_m1', 1489)\n",
      "('content_count_m1', 1265)\n",
      "('content_count_m3', 998)\n",
      "('balance_sum', 988)\n",
      "('vol_app_1', 784)\n",
      "('count_app_5', 770)\n",
      "('content_count_m2', 738)\n",
      "('data_type_2_m2', 712)\n",
      "('data_type_3_m2', 709)\n",
      "('data_type_2_m3', 695)\n",
      "('vol_app_4', 654)\n",
      "('vol_app_5', 649)\n",
      "('count_url_category_2', 590)\n",
      "('data_type_3_m3', 576)\n",
      "('vol_app_7', 571)\n",
      "('all_cost_m1', 558)\n",
      "('count_app_1', 543)\n",
      "('paym_last_days', 509)\n",
      "('all_count_m3', 494)\n",
      "('short_in_calls_part_m1', 477)\n",
      "('short_out_calls_part_m3', 470)\n",
      "('data_type_1_m2', 465)\n",
      "('vol_app_10', 459)\n",
      "('short_in_calls_part_m2', 458)\n",
      "('count_app_10', 458)\n",
      "('short_out_calls_part_m1', 454)\n",
      "('all_count_m2', 435)\n",
      "('days_exp', 433)\n",
      "('sms_in_count_m1', 429)\n",
      "('data_type_1_m3', 428)\n",
      "('count_app_4', 414)\n",
      "('service_1_count', 392)\n",
      "('short_in_calls_part_m3', 391)\n",
      "('count_sms_source_4', 390)\n",
      "('vol_app_11', 388)\n",
      "('count_url_category_11', 370)\n",
      "('count_url_category_9', 366)\n",
      "('sms_in_count_m3', 362)\n",
      "('all_cost_m3', 360)\n",
      "('vol_app_15', 358)\n",
      "('voice_omo_in_day_work_dur_m2', 348)\n",
      "('all_home_clc_m1', 346)\n",
      "('paym_sum_m3', 345)\n",
      "('short_out_calls_part_m2', 344)\n",
      "('all_cost_m2', 340)\n",
      "('count_app_7', 340)\n",
      "('count_url_category_4', 337)\n",
      "('count_url_category_10', 334)\n",
      "('voice_in_uniq_count_m1', 329)\n",
      "('vol_app_8', 326)\n",
      "('voice_onnet_out_day_rest_dur_m3', 324)\n",
      "('voice_onnet_out_night_rest_dur_m1', 319)\n",
      "('voice_omo_in_night_work_dur_m3', 317)\n",
      "('voice_onnet_out_day_rest_dur_m1', 313)\n",
      "('voice_onnet_out_night_rest_dur_m3', 310)\n",
      "('count_act_type_1', 310)\n",
      "1 auc: 0.9017753850833494\n",
      "Fold 2/5*1\n",
      "Training until validation scores don't improve for 50 rounds.\n",
      "[100]\ttraining's auc: 0.816766\tvalid_1's auc: 0.793723\n",
      "[200]\ttraining's auc: 0.843877\tvalid_1's auc: 0.814489\n",
      "[300]\ttraining's auc: 0.859501\tvalid_1's auc: 0.825428\n",
      "[400]\ttraining's auc: 0.871911\tvalid_1's auc: 0.834468\n",
      "[500]\ttraining's auc: 0.881619\tvalid_1's auc: 0.840585\n",
      "[600]\ttraining's auc: 0.889492\tvalid_1's auc: 0.845649\n",
      "[700]\ttraining's auc: 0.896205\tvalid_1's auc: 0.849196\n",
      "[800]\ttraining's auc: 0.901691\tvalid_1's auc: 0.852123\n",
      "[900]\ttraining's auc: 0.906825\tvalid_1's auc: 0.854627\n",
      "[1000]\ttraining's auc: 0.911301\tvalid_1's auc: 0.85684\n",
      "[1100]\ttraining's auc: 0.915373\tvalid_1's auc: 0.858783\n",
      "[1200]\ttraining's auc: 0.919162\tvalid_1's auc: 0.861035\n",
      "[1300]\ttraining's auc: 0.922976\tvalid_1's auc: 0.863127\n",
      "[1400]\ttraining's auc: 0.926276\tvalid_1's auc: 0.864749\n",
      "[1500]\ttraining's auc: 0.929442\tvalid_1's auc: 0.866411\n",
      "[1600]\ttraining's auc: 0.9324\tvalid_1's auc: 0.868235\n",
      "[1700]\ttraining's auc: 0.935163\tvalid_1's auc: 0.869613\n",
      "[1800]\ttraining's auc: 0.937769\tvalid_1's auc: 0.870968\n",
      "[1900]\ttraining's auc: 0.940206\tvalid_1's auc: 0.872213\n",
      "[2000]\ttraining's auc: 0.942521\tvalid_1's auc: 0.873323\n",
      "[2100]\ttraining's auc: 0.944824\tvalid_1's auc: 0.874584\n",
      "[2200]\ttraining's auc: 0.9469\tvalid_1's auc: 0.875816\n",
      "[2300]\ttraining's auc: 0.948878\tvalid_1's auc: 0.876717\n",
      "[2400]\ttraining's auc: 0.950624\tvalid_1's auc: 0.877525\n",
      "[2500]\ttraining's auc: 0.952529\tvalid_1's auc: 0.878641\n",
      "[2600]\ttraining's auc: 0.954222\tvalid_1's auc: 0.87953\n",
      "[2700]\ttraining's auc: 0.956031\tvalid_1's auc: 0.880538\n",
      "[2800]\ttraining's auc: 0.95758\tvalid_1's auc: 0.881357\n",
      "[2900]\ttraining's auc: 0.959084\tvalid_1's auc: 0.882051\n",
      "[3000]\ttraining's auc: 0.960744\tvalid_1's auc: 0.882667\n",
      "[3100]\ttraining's auc: 0.962117\tvalid_1's auc: 0.883431\n",
      "[3200]\ttraining's auc: 0.963509\tvalid_1's auc: 0.884045\n",
      "[3300]\ttraining's auc: 0.964876\tvalid_1's auc: 0.884917\n",
      "[3400]\ttraining's auc: 0.966254\tvalid_1's auc: 0.885631\n",
      "[3500]\ttraining's auc: 0.967435\tvalid_1's auc: 0.886254\n",
      "[3600]\ttraining's auc: 0.968641\tvalid_1's auc: 0.886914\n",
      "[3700]\ttraining's auc: 0.969705\tvalid_1's auc: 0.887306\n",
      "[3800]\ttraining's auc: 0.970823\tvalid_1's auc: 0.887774\n",
      "[3900]\ttraining's auc: 0.971909\tvalid_1's auc: 0.888413\n",
      "[4000]\ttraining's auc: 0.972892\tvalid_1's auc: 0.888954\n",
      "[4100]\ttraining's auc: 0.973809\tvalid_1's auc: 0.889594\n",
      "[4200]\ttraining's auc: 0.974671\tvalid_1's auc: 0.889983\n",
      "[4300]\ttraining's auc: 0.975593\tvalid_1's auc: 0.890482\n",
      "[4400]\ttraining's auc: 0.976446\tvalid_1's auc: 0.891023\n",
      "[4500]\ttraining's auc: 0.977349\tvalid_1's auc: 0.891406\n",
      "[4600]\ttraining's auc: 0.978194\tvalid_1's auc: 0.891814\n",
      "[4700]\ttraining's auc: 0.978916\tvalid_1's auc: 0.892031\n",
      "[4800]\ttraining's auc: 0.979654\tvalid_1's auc: 0.892352\n",
      "[4900]\ttraining's auc: 0.980445\tvalid_1's auc: 0.892799\n",
      "[5000]\ttraining's auc: 0.981189\tvalid_1's auc: 0.893177\n",
      "[5100]\ttraining's auc: 0.981826\tvalid_1's auc: 0.893355\n",
      "[5200]\ttraining's auc: 0.982536\tvalid_1's auc: 0.893823\n"
     ]
    },
    {
     "name": "stdout",
     "output_type": "stream",
     "text": [
      "[5300]\ttraining's auc: 0.983198\tvalid_1's auc: 0.894206\n",
      "[5400]\ttraining's auc: 0.983766\tvalid_1's auc: 0.894407\n",
      "[5500]\ttraining's auc: 0.984392\tvalid_1's auc: 0.894786\n",
      "[5600]\ttraining's auc: 0.984984\tvalid_1's auc: 0.895142\n",
      "[5700]\ttraining's auc: 0.985473\tvalid_1's auc: 0.895392\n",
      "[5800]\ttraining's auc: 0.986021\tvalid_1's auc: 0.895775\n",
      "[5900]\ttraining's auc: 0.986564\tvalid_1's auc: 0.896002\n",
      "[6000]\ttraining's auc: 0.987065\tvalid_1's auc: 0.896189\n",
      "[6100]\ttraining's auc: 0.987518\tvalid_1's auc: 0.896265\n",
      "[6200]\ttraining's auc: 0.988074\tvalid_1's auc: 0.89653\n",
      "[6300]\ttraining's auc: 0.988527\tvalid_1's auc: 0.896769\n",
      "[6400]\ttraining's auc: 0.988934\tvalid_1's auc: 0.896856\n",
      "[6500]\ttraining's auc: 0.98934\tvalid_1's auc: 0.896916\n",
      "[6600]\ttraining's auc: 0.989754\tvalid_1's auc: 0.897093\n",
      "[6700]\ttraining's auc: 0.990186\tvalid_1's auc: 0.897255\n",
      "Early stopping, best iteration is:\n",
      "[6702]\ttraining's auc: 0.990195\tvalid_1's auc: 0.89727\n",
      "2 auc: 0.8972697602983929\n",
      "Fold 3/5*1\n",
      "Training until validation scores don't improve for 50 rounds.\n",
      "[100]\ttraining's auc: 0.813972\tvalid_1's auc: 0.793906\n",
      "[200]\ttraining's auc: 0.844686\tvalid_1's auc: 0.820415\n",
      "[300]\ttraining's auc: 0.860366\tvalid_1's auc: 0.831086\n",
      "[400]\ttraining's auc: 0.872862\tvalid_1's auc: 0.837964\n",
      "[500]\ttraining's auc: 0.882576\tvalid_1's auc: 0.843171\n",
      "[600]\ttraining's auc: 0.89163\tvalid_1's auc: 0.84772\n",
      "[700]\ttraining's auc: 0.898162\tvalid_1's auc: 0.850996\n",
      "[800]\ttraining's auc: 0.903635\tvalid_1's auc: 0.8539\n",
      "[900]\ttraining's auc: 0.908405\tvalid_1's auc: 0.856531\n",
      "[1000]\ttraining's auc: 0.912867\tvalid_1's auc: 0.858615\n",
      "[1100]\ttraining's auc: 0.917281\tvalid_1's auc: 0.861082\n",
      "[1200]\ttraining's auc: 0.921137\tvalid_1's auc: 0.862856\n",
      "[1300]\ttraining's auc: 0.924757\tvalid_1's auc: 0.864454\n",
      "[1400]\ttraining's auc: 0.92812\tvalid_1's auc: 0.865673\n",
      "[1500]\ttraining's auc: 0.931237\tvalid_1's auc: 0.86685\n",
      "[1600]\ttraining's auc: 0.934132\tvalid_1's auc: 0.867903\n",
      "[1700]\ttraining's auc: 0.936841\tvalid_1's auc: 0.868942\n",
      "[1800]\ttraining's auc: 0.93917\tvalid_1's auc: 0.869831\n",
      "[1900]\ttraining's auc: 0.941382\tvalid_1's auc: 0.870896\n",
      "[2000]\ttraining's auc: 0.943633\tvalid_1's auc: 0.871744\n",
      "[2100]\ttraining's auc: 0.945713\tvalid_1's auc: 0.872545\n",
      "[2200]\ttraining's auc: 0.947689\tvalid_1's auc: 0.873338\n",
      "[2300]\ttraining's auc: 0.949638\tvalid_1's auc: 0.874236\n",
      "[2400]\ttraining's auc: 0.951528\tvalid_1's auc: 0.874851\n",
      "[2500]\ttraining's auc: 0.953251\tvalid_1's auc: 0.87566\n",
      "[2600]\ttraining's auc: 0.954755\tvalid_1's auc: 0.876333\n",
      "[2700]\ttraining's auc: 0.956399\tvalid_1's auc: 0.876852\n",
      "[2800]\ttraining's auc: 0.958041\tvalid_1's auc: 0.877524\n",
      "[2900]\ttraining's auc: 0.959722\tvalid_1's auc: 0.878266\n",
      "[3000]\ttraining's auc: 0.961344\tvalid_1's auc: 0.878831\n",
      "[3100]\ttraining's auc: 0.962785\tvalid_1's auc: 0.879464\n",
      "[3200]\ttraining's auc: 0.964281\tvalid_1's auc: 0.880057\n",
      "[3300]\ttraining's auc: 0.965715\tvalid_1's auc: 0.880912\n",
      "[3400]\ttraining's auc: 0.966908\tvalid_1's auc: 0.881463\n",
      "[3500]\ttraining's auc: 0.968159\tvalid_1's auc: 0.882076\n",
      "[3600]\ttraining's auc: 0.969448\tvalid_1's auc: 0.882825\n",
      "[3700]\ttraining's auc: 0.97059\tvalid_1's auc: 0.883404\n",
      "[3800]\ttraining's auc: 0.971685\tvalid_1's auc: 0.8839\n",
      "[3900]\ttraining's auc: 0.972679\tvalid_1's auc: 0.884383\n",
      "[4000]\ttraining's auc: 0.973682\tvalid_1's auc: 0.884681\n",
      "[4100]\ttraining's auc: 0.974603\tvalid_1's auc: 0.88511\n",
      "[4200]\ttraining's auc: 0.97564\tvalid_1's auc: 0.88551\n",
      "[4300]\ttraining's auc: 0.97654\tvalid_1's auc: 0.885888\n",
      "[4400]\ttraining's auc: 0.977386\tvalid_1's auc: 0.886082\n",
      "[4500]\ttraining's auc: 0.978286\tvalid_1's auc: 0.886539\n",
      "[4600]\ttraining's auc: 0.978984\tvalid_1's auc: 0.886957\n",
      "[4700]\ttraining's auc: 0.979674\tvalid_1's auc: 0.887251\n",
      "[4800]\ttraining's auc: 0.980315\tvalid_1's auc: 0.887733\n",
      "[4900]\ttraining's auc: 0.981059\tvalid_1's auc: 0.888029\n",
      "[5000]\ttraining's auc: 0.981804\tvalid_1's auc: 0.888428\n",
      "Early stopping, best iteration is:\n",
      "[4998]\ttraining's auc: 0.981794\tvalid_1's auc: 0.888444\n",
      "3 auc: 0.8884444920240749\n",
      "Fold 4/5*1\n",
      "Training until validation scores don't improve for 50 rounds.\n",
      "[100]\ttraining's auc: 0.815709\tvalid_1's auc: 0.791835\n",
      "[200]\ttraining's auc: 0.844728\tvalid_1's auc: 0.814238\n",
      "[300]\ttraining's auc: 0.860482\tvalid_1's auc: 0.824305\n",
      "[400]\ttraining's auc: 0.871846\tvalid_1's auc: 0.831598\n",
      "[500]\ttraining's auc: 0.881035\tvalid_1's auc: 0.837387\n",
      "[600]\ttraining's auc: 0.888775\tvalid_1's auc: 0.842248\n",
      "[700]\ttraining's auc: 0.895183\tvalid_1's auc: 0.845971\n",
      "[800]\ttraining's auc: 0.900544\tvalid_1's auc: 0.849052\n",
      "[900]\ttraining's auc: 0.905277\tvalid_1's auc: 0.851874\n",
      "[1000]\ttraining's auc: 0.909831\tvalid_1's auc: 0.854179\n",
      "[1100]\ttraining's auc: 0.91395\tvalid_1's auc: 0.856564\n",
      "[1200]\ttraining's auc: 0.917673\tvalid_1's auc: 0.858763\n",
      "[1300]\ttraining's auc: 0.921407\tvalid_1's auc: 0.860705\n",
      "[1400]\ttraining's auc: 0.92472\tvalid_1's auc: 0.862285\n",
      "[1500]\ttraining's auc: 0.928012\tvalid_1's auc: 0.863737\n",
      "[1600]\ttraining's auc: 0.931409\tvalid_1's auc: 0.865749\n",
      "[1700]\ttraining's auc: 0.934554\tvalid_1's auc: 0.867712\n",
      "[1800]\ttraining's auc: 0.937523\tvalid_1's auc: 0.869309\n",
      "[1900]\ttraining's auc: 0.94003\tvalid_1's auc: 0.870671\n",
      "[2000]\ttraining's auc: 0.942561\tvalid_1's auc: 0.871869\n",
      "[2100]\ttraining's auc: 0.945034\tvalid_1's auc: 0.873277\n",
      "[2200]\ttraining's auc: 0.947391\tvalid_1's auc: 0.874407\n",
      "[2300]\ttraining's auc: 0.949615\tvalid_1's auc: 0.87539\n",
      "[2400]\ttraining's auc: 0.951818\tvalid_1's auc: 0.876624\n",
      "[2500]\ttraining's auc: 0.953696\tvalid_1's auc: 0.877582\n",
      "[2600]\ttraining's auc: 0.955652\tvalid_1's auc: 0.878727\n",
      "[2700]\ttraining's auc: 0.957587\tvalid_1's auc: 0.879809\n",
      "[2800]\ttraining's auc: 0.959278\tvalid_1's auc: 0.880826\n",
      "[2900]\ttraining's auc: 0.960708\tvalid_1's auc: 0.881579\n",
      "[3000]\ttraining's auc: 0.962244\tvalid_1's auc: 0.882458\n",
      "[3100]\ttraining's auc: 0.96364\tvalid_1's auc: 0.883249\n",
      "[3200]\ttraining's auc: 0.965065\tvalid_1's auc: 0.883964\n",
      "[3300]\ttraining's auc: 0.966436\tvalid_1's auc: 0.884773\n",
      "[3400]\ttraining's auc: 0.967805\tvalid_1's auc: 0.885437\n",
      "[3500]\ttraining's auc: 0.969131\tvalid_1's auc: 0.886114\n",
      "[3600]\ttraining's auc: 0.970345\tvalid_1's auc: 0.886706\n",
      "[3700]\ttraining's auc: 0.971354\tvalid_1's auc: 0.887101\n",
      "[3800]\ttraining's auc: 0.972458\tvalid_1's auc: 0.887581\n",
      "[3900]\ttraining's auc: 0.973488\tvalid_1's auc: 0.888049\n",
      "[4000]\ttraining's auc: 0.97442\tvalid_1's auc: 0.888517\n",
      "[4100]\ttraining's auc: 0.9754\tvalid_1's auc: 0.889072\n",
      "[4200]\ttraining's auc: 0.976302\tvalid_1's auc: 0.889457\n",
      "[4300]\ttraining's auc: 0.977164\tvalid_1's auc: 0.889704\n",
      "[4400]\ttraining's auc: 0.978003\tvalid_1's auc: 0.889931\n",
      "[4500]\ttraining's auc: 0.978929\tvalid_1's auc: 0.890351\n",
      "[4600]\ttraining's auc: 0.979733\tvalid_1's auc: 0.890634\n",
      "[4700]\ttraining's auc: 0.980436\tvalid_1's auc: 0.890906\n",
      "[4800]\ttraining's auc: 0.981151\tvalid_1's auc: 0.891203\n",
      "[4900]\ttraining's auc: 0.981828\tvalid_1's auc: 0.891484\n",
      "[5000]\ttraining's auc: 0.982566\tvalid_1's auc: 0.891749\n",
      "[5100]\ttraining's auc: 0.983218\tvalid_1's auc: 0.891996\n",
      "[5200]\ttraining's auc: 0.983841\tvalid_1's auc: 0.892173\n",
      "[5300]\ttraining's auc: 0.984421\tvalid_1's auc: 0.892275\n",
      "Early stopping, best iteration is:\n",
      "[5265]\ttraining's auc: 0.984183\tvalid_1's auc: 0.89231\n",
      "4 auc: 0.8923095838257513\n",
      "Fold 5/5*1\n",
      "Training until validation scores don't improve for 50 rounds.\n",
      "[100]\ttraining's auc: 0.81254\tvalid_1's auc: 0.797252\n",
      "[200]\ttraining's auc: 0.84175\tvalid_1's auc: 0.81727\n",
      "[300]\ttraining's auc: 0.857205\tvalid_1's auc: 0.827652\n",
      "[400]\ttraining's auc: 0.869635\tvalid_1's auc: 0.835812\n",
      "[500]\ttraining's auc: 0.878287\tvalid_1's auc: 0.841575\n",
      "[600]\ttraining's auc: 0.886132\tvalid_1's auc: 0.845928\n",
      "[700]\ttraining's auc: 0.892786\tvalid_1's auc: 0.849759\n",
      "[800]\ttraining's auc: 0.898532\tvalid_1's auc: 0.853062\n",
      "[900]\ttraining's auc: 0.904286\tvalid_1's auc: 0.856363\n",
      "[1000]\ttraining's auc: 0.909257\tvalid_1's auc: 0.859207\n",
      "[1100]\ttraining's auc: 0.913907\tvalid_1's auc: 0.86213\n",
      "[1200]\ttraining's auc: 0.918236\tvalid_1's auc: 0.864772\n",
      "[1300]\ttraining's auc: 0.921938\tvalid_1's auc: 0.866887\n",
      "[1400]\ttraining's auc: 0.925159\tvalid_1's auc: 0.868661\n",
      "[1500]\ttraining's auc: 0.928168\tvalid_1's auc: 0.870221\n",
      "[1600]\ttraining's auc: 0.93096\tvalid_1's auc: 0.872076\n",
      "[1700]\ttraining's auc: 0.933855\tvalid_1's auc: 0.873644\n",
      "[1800]\ttraining's auc: 0.936358\tvalid_1's auc: 0.87519\n",
      "[1900]\ttraining's auc: 0.938986\tvalid_1's auc: 0.876843\n",
      "[2000]\ttraining's auc: 0.941534\tvalid_1's auc: 0.878246\n"
     ]
    },
    {
     "name": "stdout",
     "output_type": "stream",
     "text": [
      "[2100]\ttraining's auc: 0.943696\tvalid_1's auc: 0.879459\n",
      "[2200]\ttraining's auc: 0.945725\tvalid_1's auc: 0.880702\n",
      "[2300]\ttraining's auc: 0.947674\tvalid_1's auc: 0.881658\n",
      "[2400]\ttraining's auc: 0.949778\tvalid_1's auc: 0.882616\n",
      "[2500]\ttraining's auc: 0.95179\tvalid_1's auc: 0.883718\n",
      "[2600]\ttraining's auc: 0.953649\tvalid_1's auc: 0.884857\n",
      "[2700]\ttraining's auc: 0.955403\tvalid_1's auc: 0.885856\n",
      "[2800]\ttraining's auc: 0.957299\tvalid_1's auc: 0.886997\n",
      "[2900]\ttraining's auc: 0.958824\tvalid_1's auc: 0.887823\n",
      "[3000]\ttraining's auc: 0.960297\tvalid_1's auc: 0.888634\n",
      "[3100]\ttraining's auc: 0.961877\tvalid_1's auc: 0.889327\n",
      "[3200]\ttraining's auc: 0.963281\tvalid_1's auc: 0.889997\n",
      "[3300]\ttraining's auc: 0.964707\tvalid_1's auc: 0.890838\n",
      "[3400]\ttraining's auc: 0.966174\tvalid_1's auc: 0.891619\n",
      "[3500]\ttraining's auc: 0.967615\tvalid_1's auc: 0.892393\n",
      "[3600]\ttraining's auc: 0.968827\tvalid_1's auc: 0.89301\n",
      "[3700]\ttraining's auc: 0.969923\tvalid_1's auc: 0.893428\n",
      "[3800]\ttraining's auc: 0.971082\tvalid_1's auc: 0.893874\n",
      "[3900]\ttraining's auc: 0.97222\tvalid_1's auc: 0.894306\n",
      "[4000]\ttraining's auc: 0.97344\tvalid_1's auc: 0.895047\n",
      "[4100]\ttraining's auc: 0.974454\tvalid_1's auc: 0.895672\n",
      "[4200]\ttraining's auc: 0.975471\tvalid_1's auc: 0.896086\n",
      "[4300]\ttraining's auc: 0.976399\tvalid_1's auc: 0.896453\n",
      "[4400]\ttraining's auc: 0.977298\tvalid_1's auc: 0.896865\n",
      "[4500]\ttraining's auc: 0.978119\tvalid_1's auc: 0.897284\n",
      "[4600]\ttraining's auc: 0.979013\tvalid_1's auc: 0.897876\n",
      "[4700]\ttraining's auc: 0.979753\tvalid_1's auc: 0.898279\n",
      "[4800]\ttraining's auc: 0.980541\tvalid_1's auc: 0.898758\n",
      "[4900]\ttraining's auc: 0.981257\tvalid_1's auc: 0.899129\n",
      "[5000]\ttraining's auc: 0.981944\tvalid_1's auc: 0.899504\n",
      "[5100]\ttraining's auc: 0.982588\tvalid_1's auc: 0.899834\n",
      "[5200]\ttraining's auc: 0.983168\tvalid_1's auc: 0.900033\n",
      "[5300]\ttraining's auc: 0.983788\tvalid_1's auc: 0.900328\n",
      "[5400]\ttraining's auc: 0.984455\tvalid_1's auc: 0.90062\n",
      "[5500]\ttraining's auc: 0.984966\tvalid_1's auc: 0.900842\n",
      "[5600]\ttraining's auc: 0.985576\tvalid_1's auc: 0.900963\n",
      "[5700]\ttraining's auc: 0.986179\tvalid_1's auc: 0.901117\n",
      "[5800]\ttraining's auc: 0.986662\tvalid_1's auc: 0.901243\n",
      "Early stopping, best iteration is:\n",
      "[5752]\ttraining's auc: 0.98641\tvalid_1's auc: 0.901262\n",
      "5 auc: 0.901262046824779\n",
      "auc = 0.896212 +/- 0.005160\n"
     ]
    }
   ],
   "source": [
    "p = run_lightgmb(lgb_params, cat_names, train, test)"
   ]
  },
  {
   "cell_type": "code",
   "execution_count": 6,
   "metadata": {},
   "outputs": [],
   "source": [
    "# Проверим на отложенной выборке. Внимательно, модель из последнего фолда.\n",
    "# Потому что мы не сохраняем модели из каждого фолда.\n",
    "cols_to_drop = [\n",
    "        'id',\n",
    "        'target',\n",
    "    ]\n",
    "\n",
    "X = train.drop(cols_to_drop, axis=1, errors='ignore')\n",
    "y = train.target.values"
   ]
  },
  {
   "cell_type": "code",
   "execution_count": 7,
   "metadata": {},
   "outputs": [],
   "source": [
    "import imblearn"
   ]
  },
  {
   "cell_type": "code",
   "execution_count": 8,
   "metadata": {},
   "outputs": [],
   "source": [
    "def plot_2d_space(X, y, label='Classes'):   \n",
    "    colors = ['#1F77B4', '#FF7F0E']\n",
    "    markers = ['o', 's']\n",
    "    for l, c, m in zip(np.unique(y), colors, markers):\n",
    "        plt.scatter(\n",
    "            X[y==l, 0],\n",
    "            X[y==l, 1],\n",
    "            c=c, label=l, marker=m\n",
    "        )\n",
    "    plt.title(label)\n",
    "    plt.legend(loc='upper right')\n",
    "    plt.show()"
   ]
  },
  {
   "cell_type": "code",
   "execution_count": 9,
   "metadata": {},
   "outputs": [
    {
     "data": {
      "image/png": "[encoded data removed]",
      "text/plain": [
       "<Figure size 432x288 with 1 Axes>"
      ]
     },
     "metadata": {
      "needs_background": "light"
     },
     "output_type": "display_data"
    }
   ],
   "source": [
    "from sklearn.decomposition import PCA\n",
    "\n",
    "pca = PCA(n_components=2)\n",
    "X = pca.fit_transform(X)\n",
    "\n",
    "plot_2d_space(X, y, 'Imbalanced dataset (2 PCA components)')"
   ]
  },
  {
   "cell_type": "code",
   "execution_count": 11,
   "metadata": {},
   "outputs": [
    {
     "name": "stdout",
     "output_type": "stream",
     "text": [
      "Removed indexes: [ 5066 29060  4372 19133 ... 70119 70128 70129 70132]\n"
     ]
    },
    {
     "data": {
      "image/png": "[encoded data removed]",
      "text/plain": [
       "<Figure size 432x288 with 1 Axes>"
      ]
     },
     "metadata": {
      "needs_background": "light"
     },
     "output_type": "display_data"
    }
   ],
   "source": [
    "from imblearn.under_sampling import RandomUnderSampler\n",
    "\n",
    "rus = RandomUnderSampler(return_indices=True)\n",
    "X_rus, y_rus, id_rus = rus.fit_sample(X, y)\n",
    "\n",
    "print('Removed indexes:', id_rus)\n",
    "\n",
    "plot_2d_space(X_rus, y_rus, 'Random under-sampling')"
   ]
  },
  {
   "cell_type": "code",
   "execution_count": 12,
   "metadata": {},
   "outputs": [
    {
     "name": "stdout",
     "output_type": "stream",
     "text": [
      "55734 new random picked points\n"
     ]
    },
    {
     "data": {
      "image/png": "[encoded data removed]",
      "text/plain": [
       "<Figure size 432x288 with 1 Axes>"
      ]
     },
     "metadata": {
      "needs_background": "light"
     },
     "output_type": "display_data"
    }
   ],
   "source": [
    "from imblearn.over_sampling import RandomOverSampler\n",
    "\n",
    "ros = RandomOverSampler()\n",
    "X_ros, y_ros = ros.fit_sample(X, y)\n",
    "\n",
    "print(X_ros.shape[0] - X.shape[0], 'new random picked points')\n",
    "\n",
    "plot_2d_space(X_ros, y_ros, 'Random over-sampling')"
   ]
  },
  {
   "cell_type": "code",
   "execution_count": 13,
   "metadata": {},
   "outputs": [
    {
     "name": "stdout",
     "output_type": "stream",
     "text": [
      "Removed indexes: [    0     1     2     3 ... 70130 70131 70132 70133]\n"
     ]
    },
    {
     "data": {
      "image/png": "[encoded data removed]",
      "text/plain": [
       "<Figure size 432x288 with 1 Axes>"
      ]
     },
     "metadata": {
      "needs_background": "light"
     },
     "output_type": "display_data"
    }
   ],
   "source": [
    "from imblearn.under_sampling import TomekLinks\n",
    "\n",
    "tl = TomekLinks(return_indices=True, ratio='majority')\n",
    "X_tl, y_tl, id_tl = tl.fit_sample(X, y)\n",
    "\n",
    "print('Removed indexes:', id_tl)\n",
    "\n",
    "plot_2d_space(X_tl, y_tl, 'Tomek links under-sampling')"
   ]
  },
  {
   "cell_type": "code",
   "execution_count": 14,
   "metadata": {},
   "outputs": [
    {
     "data": {
      "image/png": "[encoded data removed]",
      "text/plain": [
       "<Figure size 432x288 with 1 Axes>"
      ]
     },
     "metadata": {
      "needs_background": "light"
     },
     "output_type": "display_data"
    }
   ],
   "source": [
    "from imblearn.under_sampling import ClusterCentroids\n",
    "\n",
    "cc = ClusterCentroids(ratio={0: 10})\n",
    "X_cc, y_cc = cc.fit_sample(X, y)\n",
    "\n",
    "plot_2d_space(X_cc, y_cc, 'Cluster Centroids under-sampling')"
   ]
  },
  {
   "cell_type": "code",
   "execution_count": 17,
   "metadata": {},
   "outputs": [
    {
     "data": {
      "image/png": "[encoded data removed]",
      "text/plain": [
       "<Figure size 432x288 with 1 Axes>"
      ]
     },
     "metadata": {
      "needs_background": "light"
     },
     "output_type": "display_data"
    }
   ],
   "source": [
    "from imblearn.over_sampling import SMOTE\n",
    "\n",
    "smote = SMOTE(ratio='minority')\n",
    "X_sm, y_sm = smote.fit_sample(X, y)\n",
    "\n",
    "plot_2d_space(X_sm, y_sm, 'SMOTE over-sampling')"
   ]
  },
  {
   "cell_type": "code",
   "execution_count": null,
   "metadata": {},
   "outputs": [],
   "source": []
  },
  {
   "cell_type": "code",
   "execution_count": null,
   "metadata": {},
   "outputs": [],
   "source": []
  }
 ],
 "metadata": {
  "kernelspec": {
   "display_name": "Python 3",
   "language": "python",
   "name": "python3"
  },
  "language_info": {
   "codemirror_mode": {
    "name": "ipython",
    "version": 3
   },
   "file_extension": ".py",
   "mimetype": "text/x-python",
   "name": "python",
   "nbconvert_exporter": "python",
   "pygments_lexer": "ipython3",
   "version": "3.7.0"
  }
 },
 "nbformat": 4,
 "nbformat_minor": 2
}

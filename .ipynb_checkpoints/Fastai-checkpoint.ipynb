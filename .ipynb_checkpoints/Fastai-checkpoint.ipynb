{
 "cells": [
  {
   "cell_type": "markdown",
   "metadata": {},
   "source": [
    "В этом блокноте нас нужно закодировать категориальные признаки в эмбединги и потом сохранить это все в датафрейм."
   ]
  },
  {
   "cell_type": "code",
   "execution_count": 3,
   "metadata": {},
   "outputs": [],
   "source": [
    "# https://www.kaggle.com/dienhoa/reverse-tabular-module-of-fast-ai-v1"
   ]
  },
  {
   "cell_type": "markdown",
   "metadata": {},
   "source": [
    "Это не то чтобы бейзлайн. Это просто фастаи из коробки, все пустные значения в переменных просто заменены на -1.\n",
    "Также посчитана только одна эпоха. Это скорее проба сабмишена."
   ]
  },
  {
   "cell_type": "code",
   "execution_count": 1,
   "metadata": {},
   "outputs": [],
   "source": [
    "import sys; sys.path.append('scripts')\n",
    "from common import *\n",
    "from global_common import RocAuc\n",
    "# from models import *\n",
    "# from load_and_proccess_data import *\n",
    "# from visualization import *"
   ]
  },
  {
   "cell_type": "code",
   "execution_count": 4,
   "metadata": {},
   "outputs": [],
   "source": [
    "# Загружает уже обработанные признаки \n",
    "train_df = pd.read_hdf('../data/train_processed.h5')\n",
    "train_df['target'] = train_df['target'].astype('int')\n",
    "test_df = pd.read_hdf('../data/test_processed.h5')\n",
    "with open('../data/features_dtypes.pkl', 'rb') as f:\n",
    "    columns_type_dict = pickle.load(f)\n",
    "    \n",
    "categorical_features = [\n",
    "    'os_category', 'device_type', 'service_7_flag_m1', \n",
    "    'service_7_flag_m2', 'service_7_flag_m3', \n",
    "]\n",
    "\n",
    "binary_features = [\n",
    "    'tp_flag', 'block_flag', 'service_2_flag', 'is_obl_center', \n",
    "    'is_my_vf', 'service_9_flag_m1', 'service_9_flag_m2', \n",
    "    'service_9_flag_m3',\n",
    "]\n",
    "\n",
    "# Заменить -1 на 999\n",
    "train_df[categorical_features] = train_df[categorical_features].apply(lambda x: x.replace(-1, 999))\n",
    "test_df[categorical_features] = test_df[categorical_features].apply(lambda x: x.replace(-1, 999))\n",
    "    \n",
    "# Для генерации признаков нуэно объединить обуч. и тестовую выборки.\n",
    "data_ = pd.concat([train_df, test_df], axis=0)\n",
    "\n",
    "# Некоторые числовые признаки мы удалили из-за высокой корреляции\n",
    "# поэтому фильтруем те что были удалены\n",
    "numerical_features = [o for o in columns_type_dict['float_cols'] \\\n",
    "                               if o in data_.columns]\n",
    "\n",
    "procs = [Normalize, Categorify] "
   ]
  },
  {
   "cell_type": "markdown",
   "metadata": {},
   "source": [
    "# Modeling"
   ]
  },
  {
   "cell_type": "code",
   "execution_count": 5,
   "metadata": {},
   "outputs": [],
   "source": [
    "_, valid_idxs, _, _ = train_test_split(train_df.index.values, train_df.target.values, \n",
    "                                    stratify=train_df.target.values,\n",
    "                                    test_size=0.2, \n",
    "                                    random_state=17)"
   ]
  },
  {
   "cell_type": "code",
   "execution_count": 6,
   "metadata": {},
   "outputs": [],
   "source": [
    "path_to_data = '../data'\n",
    "test = TabularList.from_df(test_df.drop(['id', 'target'], axis=1), path=path_to_data, \n",
    "                           cat_names=categorical_features+binary_features, \n",
    "                           cont_names=numerical_features)"
   ]
  },
  {
   "cell_type": "code",
   "execution_count": 7,
   "metadata": {},
   "outputs": [],
   "source": [
    "data = (TabularList.from_df(train_df.drop('id', axis=1), path=path_to_data, cat_names=categorical_features+binary_features, \n",
    "                            cont_names=numerical_features, \n",
    "                            procs=procs)\n",
    "                           .split_by_idx(valid_idxs)\n",
    "                           .label_from_df(cols='target')\n",
    "                           .add_test(test, label=0)\n",
    "                           .databunch())"
   ]
  },
  {
   "cell_type": "code",
   "execution_count": 8,
   "metadata": {},
   "outputs": [],
   "source": [
    "data.batch_size = 512\n",
    "roc_auc = RocAuc(roc_auc_score)\n",
    "learn = tabular_learner(data, layers=[300,150], metrics=[accuracy, roc_auc], emb_drop=0.002, ps=0.15)"
   ]
  },
  {
   "cell_type": "code",
   "execution_count": 9,
   "metadata": {
    "scrolled": false
   },
   "outputs": [
    {
     "data": {
      "text/html": [
       "Total time: 00:27 <p><table style='width:375px; margin-bottom:10px'>\n",
       "  <tr>\n",
       "    <th>epoch</th>\n",
       "    <th>train_loss</th>\n",
       "    <th>valid_loss</th>\n",
       "    <th>accuracy</th>\n",
       "    <th>roc_auc_score</th>\n",
       "  </tr>\n",
       "  <tr>\n",
       "    <th>1</th>\n",
       "    <th>0.271041</th>\n",
       "    <th>0.239605</th>\n",
       "    <th>0.923357</th>\n",
       "    <th>0.764312</th>\n",
       "  </tr>\n",
       "  <tr>\n",
       "    <th>2</th>\n",
       "    <th>0.241658</th>\n",
       "    <th>0.240237</th>\n",
       "    <th>0.923786</th>\n",
       "    <th>0.763499</th>\n",
       "  </tr>\n",
       "  <tr>\n",
       "    <th>3</th>\n",
       "    <th>0.242880</th>\n",
       "    <th>0.258485</th>\n",
       "    <th>0.924000</th>\n",
       "    <th>0.768340</th>\n",
       "  </tr>\n",
       "  <tr>\n",
       "    <th>4</th>\n",
       "    <th>0.243777</th>\n",
       "    <th>0.230317</th>\n",
       "    <th>0.924643</th>\n",
       "    <th>0.781436</th>\n",
       "  </tr>\n",
       "  <tr>\n",
       "    <th>5</th>\n",
       "    <th>0.244831</th>\n",
       "    <th>0.231709</th>\n",
       "    <th>0.925143</th>\n",
       "    <th>0.775211</th>\n",
       "  </tr>\n",
       "  <tr>\n",
       "    <th>6</th>\n",
       "    <th>0.238833</th>\n",
       "    <th>0.239808</th>\n",
       "    <th>0.924286</th>\n",
       "    <th>0.781344</th>\n",
       "  </tr>\n",
       "  <tr>\n",
       "    <th>7</th>\n",
       "    <th>0.233221</th>\n",
       "    <th>0.398309</th>\n",
       "    <th>0.924357</th>\n",
       "    <th>0.783774</th>\n",
       "  </tr>\n",
       "  <tr>\n",
       "    <th>8</th>\n",
       "    <th>0.228307</th>\n",
       "    <th>12.011998</th>\n",
       "    <th>0.923786</th>\n",
       "    <th>0.791529</th>\n",
       "  </tr>\n",
       "  <tr>\n",
       "    <th>9</th>\n",
       "    <th>0.223177</th>\n",
       "    <th>5.647380</th>\n",
       "    <th>0.924286</th>\n",
       "    <th>0.792011</th>\n",
       "  </tr>\n",
       "  <tr>\n",
       "    <th>10</th>\n",
       "    <th>0.222103</th>\n",
       "    <th>0.227411</th>\n",
       "    <th>0.925000</th>\n",
       "    <th>0.789959</th>\n",
       "  </tr>\n",
       "</table>\n"
      ],
      "text/plain": [
       "<IPython.core.display.HTML object>"
      ]
     },
     "metadata": {},
     "output_type": "display_data"
    }
   ],
   "source": [
    "# 797\n",
    "learn.fit_one_cycle(10, 1e-1)"
   ]
  },
  {
   "cell_type": "code",
   "execution_count": 10,
   "metadata": {},
   "outputs": [],
   "source": [
    "learn.save('fastai_for_embedings')"
   ]
  },
  {
   "cell_type": "code",
   "execution_count": 12,
   "metadata": {},
   "outputs": [],
   "source": [
    "learn.load('fastai_for_embedings')\n",
    "\n",
    "merged_categorical_features = categorical_features + binary_features\n",
    "merged_categorical_features.remove('os_category')\n",
    "category_to_embeding = dict(zip(train_df[merged_categorical_features].nunique().index.values, learn.model.cpu().embeds))"
   ]
  },
  {
   "cell_type": "code",
   "execution_count": 39,
   "metadata": {},
   "outputs": [
    {
     "name": "stdout",
     "output_type": "stream",
     "text": [
      "Вот список признаков которые мы заэмбедили: \n"
     ]
    },
    {
     "data": {
      "text/plain": [
       "['device_type',\n",
       " 'service_7_flag_m1',\n",
       " 'service_7_flag_m2',\n",
       " 'service_7_flag_m3',\n",
       " 'tp_flag',\n",
       " 'block_flag',\n",
       " 'service_2_flag',\n",
       " 'is_obl_center',\n",
       " 'is_my_vf',\n",
       " 'service_9_flag_m1',\n",
       " 'service_9_flag_m2',\n",
       " 'service_9_flag_m3']"
      ]
     },
     "execution_count": 39,
     "metadata": {},
     "output_type": "execute_result"
    }
   ],
   "source": [
    "print('Вот список признаков которые мы заэмбедили: ')\n",
    "merged_categorical_features"
   ]
  },
  {
   "cell_type": "code",
   "execution_count": 27,
   "metadata": {
    "scrolled": true
   },
   "outputs": [
    {
     "data": {
      "application/vnd.jupyter.widget-view+json": {
       "model_id": "4c7c78a7bcd24ba380ce6e152ab6ff1e",
       "version_major": 2,
       "version_minor": 0
      },
      "text/plain": [
       "HBox(children=(IntProgress(value=0, max=12), HTML(value='')))"
      ]
     },
     "metadata": {},
     "output_type": "display_data"
    },
    {
     "data": {
      "application/vnd.jupyter.widget-view+json": {
       "model_id": "5772b847670440759cae63624b82cf9b",
       "version_major": 2,
       "version_minor": 0
      },
      "text/plain": [
       "HBox(children=(IntProgress(value=0, max=100000), HTML(value='')))"
      ]
     },
     "metadata": {},
     "output_type": "display_data"
    },
    {
     "data": {
      "application/vnd.jupyter.widget-view+json": {
       "model_id": "07cfe3a4516b40cd99b4ba45267dcf7f",
       "version_major": 2,
       "version_minor": 0
      },
      "text/plain": [
       "HBox(children=(IntProgress(value=0, max=100000), HTML(value='')))"
      ]
     },
     "metadata": {},
     "output_type": "display_data"
    },
    {
     "data": {
      "application/vnd.jupyter.widget-view+json": {
       "model_id": "79ad575086e345cead0ac80ad8606876",
       "version_major": 2,
       "version_minor": 0
      },
      "text/plain": [
       "HBox(children=(IntProgress(value=0, max=100000), HTML(value='')))"
      ]
     },
     "metadata": {},
     "output_type": "display_data"
    },
    {
     "data": {
      "application/vnd.jupyter.widget-view+json": {
       "model_id": "768950923a3b4099b0f9b66527f39fc4",
       "version_major": 2,
       "version_minor": 0
      },
      "text/plain": [
       "HBox(children=(IntProgress(value=0, max=100000), HTML(value='')))"
      ]
     },
     "metadata": {},
     "output_type": "display_data"
    },
    {
     "data": {
      "application/vnd.jupyter.widget-view+json": {
       "model_id": "c4c4c8c1fb6f4b2296d89271d2007dea",
       "version_major": 2,
       "version_minor": 0
      },
      "text/plain": [
       "HBox(children=(IntProgress(value=0, max=100000), HTML(value='')))"
      ]
     },
     "metadata": {},
     "output_type": "display_data"
    },
    {
     "data": {
      "application/vnd.jupyter.widget-view+json": {
       "model_id": "5c6c9e3ee6b3418b98bd5fa2919ca910",
       "version_major": 2,
       "version_minor": 0
      },
      "text/plain": [
       "HBox(children=(IntProgress(value=0, max=100000), HTML(value='')))"
      ]
     },
     "metadata": {},
     "output_type": "display_data"
    },
    {
     "data": {
      "application/vnd.jupyter.widget-view+json": {
       "model_id": "d8a5d9445c914a8d85d39cae14f5b4a4",
       "version_major": 2,
       "version_minor": 0
      },
      "text/plain": [
       "HBox(children=(IntProgress(value=0, max=100000), HTML(value='')))"
      ]
     },
     "metadata": {},
     "output_type": "display_data"
    },
    {
     "data": {
      "application/vnd.jupyter.widget-view+json": {
       "model_id": "d64ba5b72d2141529e653f456a2e3b1b",
       "version_major": 2,
       "version_minor": 0
      },
      "text/plain": [
       "HBox(children=(IntProgress(value=0, max=100000), HTML(value='')))"
      ]
     },
     "metadata": {},
     "output_type": "display_data"
    },
    {
     "data": {
      "application/vnd.jupyter.widget-view+json": {
       "model_id": "d6862f47eef84110bd82c8a7b5bb6867",
       "version_major": 2,
       "version_minor": 0
      },
      "text/plain": [
       "HBox(children=(IntProgress(value=0, max=100000), HTML(value='')))"
      ]
     },
     "metadata": {},
     "output_type": "display_data"
    },
    {
     "data": {
      "application/vnd.jupyter.widget-view+json": {
       "model_id": "8b01530f285048ca823b7cb6e7c2787f",
       "version_major": 2,
       "version_minor": 0
      },
      "text/plain": [
       "HBox(children=(IntProgress(value=0, max=100000), HTML(value='')))"
      ]
     },
     "metadata": {},
     "output_type": "display_data"
    },
    {
     "data": {
      "application/vnd.jupyter.widget-view+json": {
       "model_id": "d7c2e168fffd411f8e79e2fb7a7642b5",
       "version_major": 2,
       "version_minor": 0
      },
      "text/plain": [
       "HBox(children=(IntProgress(value=0, max=100000), HTML(value='')))"
      ]
     },
     "metadata": {},
     "output_type": "display_data"
    },
    {
     "data": {
      "application/vnd.jupyter.widget-view+json": {
       "model_id": "26320c60bced4ad1812f5312bf1498c8",
       "version_major": 2,
       "version_minor": 0
      },
      "text/plain": [
       "HBox(children=(IntProgress(value=0, max=100000), HTML(value='')))"
      ]
     },
     "metadata": {},
     "output_type": "display_data"
    },
    {
     "name": "stdout",
     "output_type": "stream",
     "text": [
      "\n"
     ]
    }
   ],
   "source": [
    "all_embeded_features = pd.DataFrame()\n",
    "\n",
    "for column in tqdm_notebook(merged_categorical_features):\n",
    "    column_values = data_[column].values\n",
    "    cat_value_to_index = {value:key  for key, value in enumerate(set(data_[column].values))} \n",
    "        \n",
    "    embedings = []\n",
    "    for value in tqdm_notebook( column_values ):\n",
    "        embedings.append( category_to_embeding[column](torch.tensor(cat_value_to_index[value], \n",
    "                                                                    dtype=torch.int64)).detach().numpy() )\n",
    "    \n",
    "    c = np.array( [f'{column}_dim_{o}' for o in range(np.shape(embedings)[1])] ).flatten().tolist()\n",
    "    embeded_feature = pd.DataFrame( embedings, columns=c )\n",
    "    all_embeded_features = pd.concat( [all_embeded_features, embeded_feature], axis=1 )\n",
    "    \n",
    "    del embeded_feature, embedings, c\n",
    "    \n",
    "all_embeded_features['id'] = data_['id'].values"
   ]
  },
  {
   "cell_type": "code",
   "execution_count": 36,
   "metadata": {},
   "outputs": [],
   "source": [
    "# Быть внимательным что os_category и manufacturer_category нужно OHE\n",
    "all_embeded_features.to_hdf('../data/embeded_features.h5', key='all_embeded_features')"
   ]
  },
  {
   "cell_type": "code",
   "execution_count": 40,
   "metadata": {},
   "outputs": [],
   "source": [
    "import pandas as pd"
   ]
  },
  {
   "cell_type": "code",
   "execution_count": null,
   "metadata": {},
   "outputs": [],
   "source": []
  },
  {
   "cell_type": "code",
   "execution_count": null,
   "metadata": {},
   "outputs": [],
   "source": []
  },
  {
   "cell_type": "code",
   "execution_count": null,
   "metadata": {},
   "outputs": [],
   "source": []
  },
  {
   "cell_type": "code",
   "execution_count": null,
   "metadata": {},
   "outputs": [],
   "source": []
  },
  {
   "cell_type": "code",
   "execution_count": null,
   "metadata": {},
   "outputs": [],
   "source": []
  },
  {
   "cell_type": "code",
   "execution_count": 21,
   "metadata": {},
   "outputs": [],
   "source": [
    "preds = learn.get_preds(ds_type=DatasetType.Test)"
   ]
  },
  {
   "cell_type": "code",
   "execution_count": 58,
   "metadata": {},
   "outputs": [],
   "source": [
    "def make_submition(test_df, preds):\n",
    "    submit_columns = ['id', 'prediction']\n",
    "    p = preds[0][:, 1].tolist()\n",
    "    df = pd.DataFrame(list(zip(test_df.id.values, p)), columns=['id', 'prediction'])\n",
    "    return x.set_index('id')\n",
    "    "
   ]
  },
  {
   "cell_type": "code",
   "execution_count": 61,
   "metadata": {},
   "outputs": [],
   "source": [
    "submition = make_submition(test_df, preds)"
   ]
  },
  {
   "cell_type": "code",
   "execution_count": 62,
   "metadata": {},
   "outputs": [],
   "source": [
    "submition.to_csv('test.csv')"
   ]
  },
  {
   "cell_type": "code",
   "execution_count": 86,
   "metadata": {},
   "outputs": [],
   "source": [
    "submition.fillna(submition.prediction.median()).to_csv('submissions/test.csv')"
   ]
  },
  {
   "cell_type": "code",
   "execution_count": 93,
   "metadata": {},
   "outputs": [],
   "source": [
    "valid_preds = learn.get_preds(ds_type=DatasetType.Valid)"
   ]
  },
  {
   "cell_type": "code",
   "execution_count": 101,
   "metadata": {},
   "outputs": [
    {
     "data": {
      "text/plain": [
       "0.8260869565217391"
      ]
     },
     "execution_count": 101,
     "metadata": {},
     "output_type": "execute_result"
    }
   ],
   "source": [
    "roc_auc_score(valid_preds[1], valid_preds[0][:, 1].tolist())"
   ]
  }
 ],
 "metadata": {
  "kernelspec": {
   "display_name": "Python 3",
   "language": "python",
   "name": "python3"
  },
  "language_info": {
   "codemirror_mode": {
    "name": "ipython",
    "version": 3
   },
   "file_extension": ".py",
   "mimetype": "text/x-python",
   "name": "python",
   "nbconvert_exporter": "python",
   "pygments_lexer": "ipython3",
   "version": "3.7.0"
  }
 },
 "nbformat": 4,
 "nbformat_minor": 2
}

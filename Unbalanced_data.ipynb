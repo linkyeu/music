{
 "cells": [
  {
   "cell_type": "code",
   "execution_count": null,
   "metadata": {},
   "outputs": [],
   "source": [
    "# ПОПРОБОВАТЬ, свежее\n",
    "# https://www.kaggle.com/cttsai/smote-on-lgbm-w-ideas-from-kernels-and-discussion"
   ]
  },
  {
   "cell_type": "code",
   "execution_count": 20,
   "metadata": {},
   "outputs": [],
   "source": [
    "# https://www.kaggle.com/rafjaa/resampling-strategies-for-imbalanced-datasets\n",
    "# https://www.kaggle.com/gargmanish/how-to-handle-imbalance-data-study-in-detail"
   ]
  },
  {
   "cell_type": "markdown",
   "metadata": {},
   "source": [
    "**Важно.**\n",
    "\n",
    "Если мы делаем семплинг для балансирования классов, то валидационная выборка должна быть неизменна! \n",
    "То есть для валидации мы берем из исходной (неизменной) обучающей выборки!\n"
   ]
  },
  {
   "cell_type": "code",
   "execution_count": 1,
   "metadata": {},
   "outputs": [],
   "source": [
    "%reload_ext autoreload\n",
    "%autoreload 2"
   ]
  },
  {
   "cell_type": "code",
   "execution_count": 2,
   "metadata": {},
   "outputs": [],
   "source": [
    "import sys; sys.path.append('scripts')\n",
    "from common import *\n",
    "from global_common import *\n",
    "from models import *\n",
    "from load_and_proccess_data import *"
   ]
  },
  {
   "cell_type": "code",
   "execution_count": 3,
   "metadata": {
    "scrolled": false
   },
   "outputs": [
    {
     "name": "stdout",
     "output_type": "stream",
     "text": [
      "Целочисленных переменных  : 236\n",
      "Переменных с плавающей точкой : 225\n",
      "Из целочисленныъ - 4 бинарных.\n",
      "Переменным присвоен соответствующий тип.\n"
     ]
    }
   ],
   "source": [
    "train_df, test_df, columns_type_dict = load_data()"
   ]
  },
  {
   "cell_type": "code",
   "execution_count": 4,
   "metadata": {},
   "outputs": [
    {
     "name": "stdout",
     "output_type": "stream",
     "text": [
      "Обучающая выборка : (56107, 461)\n",
      "Отложенная выборка : (14027, 461)\n"
     ]
    }
   ],
   "source": [
    "# Для валидации нам нужна отложенная выборка.\n",
    "train_idxs, holdout_idxs, _, _ = train_test_split(train.index.values, \n",
    "                                                train.target.values, \n",
    "                                                stratify=train.target.values,\n",
    "                                                test_size=0.2, \n",
    "                                            \n",
    "                                                random_state=SEED)\n",
    "holdout = train.iloc[holdout_idxs, :].copy()\n",
    "holdout.reset_index(inplace=True, drop=True)\n",
    "train = train.iloc[train_idxs, :].copy()\n",
    "train.reset_index(inplace=True, drop=True)\n",
    "\n",
    "print(f'Обучающая выборка : {train.shape}')\n",
    "print(f'Отложенная выборка : {holdout.shape}')"
   ]
  },
  {
   "cell_type": "markdown",
   "metadata": {},
   "source": [
    "Пробуем без ресемплинга. Обучающую выборку делим на 5 фолдов и валидируем каждый фолд по отложенной выборке."
   ]
  },
  {
   "cell_type": "code",
   "execution_count": 5,
   "metadata": {},
   "outputs": [],
   "source": [
    "# TODO: Убрать дерево в скпирт, спецаильно для валидации семплинга\n",
    "\n",
    "def run_lightgmb(lgb_params, cat_names, train, test, holdout):\n",
    "    # Prepare dataset for training\n",
    "    cols_to_drop = [\n",
    "        'id',\n",
    "        'target',\n",
    "    ]\n",
    "\n",
    "    categorical = cat_names\n",
    "\n",
    "    X = train.drop(cols_to_drop, axis=1, errors='ignore')\n",
    "    y = train.target.values\n",
    "    \n",
    "    X_holdout = holdout.drop(cols_to_drop, axis=1, errors='ignore')\n",
    "    y_holdout = holdout.target.values\n",
    "\n",
    "    id_test = test.id.values\n",
    "    X_test = test.drop(cols_to_drop[0], axis=1, errors='ignore')\n",
    "\n",
    "\n",
    "    print('train.shape = {}, test.shape = {}'.format(train.shape, test.shape))\n",
    "\n",
    "    # Build the model\n",
    "    cnt = 0\n",
    "    p_buf = []\n",
    "    n_splits = 5\n",
    "    n_repeats = 1\n",
    "    kf = StratifiedKFold(\n",
    "        n_splits=n_splits, \n",
    "#         random_state=0)\n",
    "    )\n",
    "    err_buf = []   \n",
    "\n",
    "    n_features = X.shape[1]\n",
    "\n",
    "    for train_index, valid_index in kf.split(X, y):\n",
    "        print('Fold {}/{}*{}'.format(cnt + 1, n_splits, n_repeats))\n",
    "        params = lgb_params.copy() \n",
    "\n",
    "        lgb_train = lgb.Dataset(\n",
    "            X.iloc[train_index], \n",
    "            y[train_index], \n",
    "            categorical_feature=categorical,\n",
    "\n",
    "            )\n",
    "        lgb_train.raw_data = None\n",
    "\n",
    "        lgb_valid = lgb.Dataset(\n",
    "            X_holdout, \n",
    "            y_holdout,\n",
    "            categorical_feature=categorical,\n",
    "            )\n",
    "        lgb_valid.raw_data = None\n",
    "\n",
    " \n",
    "\n",
    "        model = lgb.train(\n",
    "            params,\n",
    "            lgb_train,\n",
    "            num_boost_round=100000,\n",
    "            valid_sets=[lgb_train, lgb_valid],\n",
    "            early_stopping_rounds=150, \n",
    "            verbose_eval=100,\n",
    "        )\n",
    "\n",
    "        if cnt == 0:\n",
    "            importance = model.feature_importance()\n",
    "            model_fnames = model.feature_name()\n",
    "            tuples = sorted(zip(model_fnames, importance), key=lambda x: x[1])[::-1]\n",
    "            tuples = [x for x in tuples if x[1] > 0]\n",
    "            print('Important features:')\n",
    "            for i in range(60):\n",
    "                if i < len(tuples):\n",
    "                    print(tuples[i])\n",
    "                else:\n",
    "                    break\n",
    "\n",
    "            del importance, model_fnames, tuples\n",
    "        \n",
    "\n",
    "        p = model.predict(X.iloc[valid_index], num_iteration=model.best_iteration)\n",
    "        err = roc_auc_score(y[valid_index], p)\n",
    "\n",
    "        print('{} holdout auc: {}'.format(cnt + 1, err))\n",
    "        \n",
    "        p = model.predict(X_holdout, num_iteration=model.best_iteration)\n",
    "        holdout_err = roc_auc_score(y_holdout, p)\n",
    "\n",
    "        p = model.predict(X_test, num_iteration=model.best_iteration)\n",
    "        if len(p_buf) == 0:\n",
    "            p_buf = np.array(p, dtype=np.float16)\n",
    "        else:\n",
    "            p_buf += np.array(p, dtype=np.float16)\n",
    "        err_buf.append(err)\n",
    "\n",
    "\n",
    "        cnt += 1\n",
    "    \n",
    "        del model, lgb_train, lgb_valid, p\n",
    "        gc.collect\n",
    "\n",
    "    err_mean = np.mean(err_buf)\n",
    "    err_std = np.std(err_buf)\n",
    "    print('auc = {:.6f} +/- {:.6f}'.format(err_mean, err_std))\n",
    "\n",
    "    preds = p_buf/cnt\n",
    "    return preds"
   ]
  },
  {
   "cell_type": "code",
   "execution_count": 6,
   "metadata": {},
   "outputs": [],
   "source": [
    "lgb_params = {\n",
    "        'num_leaves' : 16,\n",
    "        'boosting_type': 'gbdt',\n",
    "        'objective': 'binary',\n",
    "        'metric': 'auc',\n",
    "        'max_depth': 5,\n",
    "        'learning_rate': 0.01, \n",
    "        'verbose': -1,\n",
    "        'num_threads': 8,\n",
    "        'is_unbalanced' : 'true',\n",
    "    }"
   ]
  },
  {
   "cell_type": "code",
   "execution_count": 7,
   "metadata": {},
   "outputs": [
    {
     "data": {
      "image/png": "[encoded data removed]",
      "text/plain": [
       "<Figure size 432x288 with 1 Axes>"
      ]
     },
     "metadata": {
      "needs_background": "light"
     },
     "output_type": "display_data"
    }
   ],
   "source": [
    "train.target.hist();"
   ]
  },
  {
   "cell_type": "code",
   "execution_count": 9,
   "metadata": {},
   "outputs": [
    {
     "name": "stdout",
     "output_type": "stream",
     "text": [
      "train.shape = (56107, 461), test.shape = (30058, 460)\n",
      "Fold 1/5*1\n",
      "Training until validation scores don't improve for 150 rounds.\n",
      "[100]\ttraining's auc: 0.802515\tvalid_1's auc: 0.772811\n",
      "[200]\ttraining's auc: 0.830541\tvalid_1's auc: 0.798758\n",
      "[300]\ttraining's auc: 0.848241\tvalid_1's auc: 0.810589\n",
      "[400]\ttraining's auc: 0.860559\tvalid_1's auc: 0.816417\n",
      "[500]\ttraining's auc: 0.869837\tvalid_1's auc: 0.819378\n",
      "[600]\ttraining's auc: 0.878548\tvalid_1's auc: 0.82109\n",
      "[700]\ttraining's auc: 0.886368\tvalid_1's auc: 0.822472\n",
      "[800]\ttraining's auc: 0.893539\tvalid_1's auc: 0.823262\n",
      "[900]\ttraining's auc: 0.899748\tvalid_1's auc: 0.823713\n",
      "[1000]\ttraining's auc: 0.90537\tvalid_1's auc: 0.824232\n",
      "[1100]\ttraining's auc: 0.910202\tvalid_1's auc: 0.824428\n",
      "[1200]\ttraining's auc: 0.914365\tvalid_1's auc: 0.824539\n",
      "[1300]\ttraining's auc: 0.918591\tvalid_1's auc: 0.824703\n",
      "[1400]\ttraining's auc: 0.922147\tvalid_1's auc: 0.824636\n",
      "Early stopping, best iteration is:\n",
      "[1299]\ttraining's auc: 0.918543\tvalid_1's auc: 0.824717\n",
      "Important features:\n",
      "('manufacturer_category', 1097)\n",
      "('data_type_2_m1', 1018)\n",
      "('data_type_3_m1', 930)\n",
      "('data_type_1_m1', 657)\n",
      "('content_count_m1', 512)\n",
      "('lt', 439)\n",
      "('data_type_1_m2', 366)\n",
      "('content_count_m3', 356)\n",
      "('data_type_2_m3', 333)\n",
      "('vol_app_7', 263)\n",
      "('vol_app_4', 254)\n",
      "('balance_sum', 229)\n",
      "('content_count_m2', 225)\n",
      "('count_act_type_1', 221)\n",
      "('data_type_1_m3', 212)\n",
      "('count_app_5', 205)\n",
      "('vol_app_1', 205)\n",
      "('count_sms_source_4', 204)\n",
      "('data_type_2_m2', 184)\n",
      "('service_1_count', 179)\n",
      "('count_url_category_9', 159)\n",
      "('service_1_flag', 159)\n",
      "('sms_in_count_m2', 151)\n",
      "('count_gift_type_4', 134)\n",
      "('sms_in_count_m1', 129)\n",
      "('short_out_calls_part_m1', 128)\n",
      "('all_count_m3', 119)\n",
      "('data_type_3_m3', 117)\n",
      "('paym_el_sum_m3', 114)\n",
      "('count_app_15', 114)\n",
      "('count_app_1', 114)\n",
      "('data_type_3_m2', 112)\n",
      "('all_cost_m2', 109)\n",
      "('is_obl_center', 109)\n",
      "('count_app_9', 108)\n",
      "('vol_app_12', 108)\n",
      "('count_app_10', 107)\n",
      "('short_out_calls_part_m3', 106)\n",
      "('vol_app_5', 105)\n",
      "('vol_app_10', 99)\n",
      "('count_url_category_2', 99)\n",
      "('paym_sum_m1', 98)\n",
      "('all_home_clc_m1', 97)\n",
      "('count_app_4', 93)\n",
      "('sms_cost_m3', 92)\n",
      "('paym_el_sum_m1', 91)\n",
      "('voice_out_uniq_count_m1', 88)\n",
      "('count_url_category_7', 85)\n",
      "('short_in_calls_part_m2', 83)\n",
      "('block_all_dur_m2', 81)\n",
      "('all_cost_m1', 81)\n",
      "('service_9_flag_m1', 78)\n",
      "('sms_in_count_m3', 76)\n",
      "('days_exp', 74)\n",
      "('voice_onnet_out_day_rest_count_m3', 70)\n",
      "('voice_omo_in_day_work_dur_m2', 69)\n",
      "('count_act_type_8', 69)\n",
      "('count_url_category_4', 69)\n",
      "('paym_last_days', 68)\n",
      "('all_count_m2', 67)\n",
      "1 holdout auc: 0.8376408542976939\n",
      "Fold 2/5*1\n",
      "Training until validation scores don't improve for 150 rounds.\n",
      "[100]\ttraining's auc: 0.804666\tvalid_1's auc: 0.771211\n",
      "[200]\ttraining's auc: 0.830524\tvalid_1's auc: 0.795387\n",
      "[300]\ttraining's auc: 0.849552\tvalid_1's auc: 0.810292\n",
      "[400]\ttraining's auc: 0.862547\tvalid_1's auc: 0.816124\n",
      "[500]\ttraining's auc: 0.872326\tvalid_1's auc: 0.819285\n",
      "[600]\ttraining's auc: 0.880802\tvalid_1's auc: 0.821483\n",
      "[700]\ttraining's auc: 0.887883\tvalid_1's auc: 0.82282\n",
      "[800]\ttraining's auc: 0.893937\tvalid_1's auc: 0.823369\n",
      "[900]\ttraining's auc: 0.899382\tvalid_1's auc: 0.824104\n",
      "[1000]\ttraining's auc: 0.904683\tvalid_1's auc: 0.824645\n",
      "[1100]\ttraining's auc: 0.909503\tvalid_1's auc: 0.82509\n",
      "[1200]\ttraining's auc: 0.913826\tvalid_1's auc: 0.825307\n",
      "[1300]\ttraining's auc: 0.91765\tvalid_1's auc: 0.825408\n",
      "[1400]\ttraining's auc: 0.921695\tvalid_1's auc: 0.825528\n",
      "[1500]\ttraining's auc: 0.925184\tvalid_1's auc: 0.825634\n",
      "[1600]\ttraining's auc: 0.928587\tvalid_1's auc: 0.825494\n",
      "[1700]\ttraining's auc: 0.931862\tvalid_1's auc: 0.825539\n",
      "[1800]\ttraining's auc: 0.935091\tvalid_1's auc: 0.825421\n",
      "Early stopping, best iteration is:\n",
      "[1654]\ttraining's auc: 0.930307\tvalid_1's auc: 0.825704\n",
      "2 holdout auc: 0.830797093953437\n",
      "Fold 3/5*1\n",
      "Training until validation scores don't improve for 150 rounds.\n",
      "[100]\ttraining's auc: 0.80244\tvalid_1's auc: 0.77193\n",
      "[200]\ttraining's auc: 0.82944\tvalid_1's auc: 0.796984\n",
      "[300]\ttraining's auc: 0.846497\tvalid_1's auc: 0.810108\n",
      "[400]\ttraining's auc: 0.858752\tvalid_1's auc: 0.816016\n",
      "[500]\ttraining's auc: 0.868524\tvalid_1's auc: 0.819389\n",
      "[600]\ttraining's auc: 0.877001\tvalid_1's auc: 0.821773\n",
      "[700]\ttraining's auc: 0.884335\tvalid_1's auc: 0.822773\n",
      "[800]\ttraining's auc: 0.891047\tvalid_1's auc: 0.823521\n",
      "[900]\ttraining's auc: 0.897267\tvalid_1's auc: 0.823727\n",
      "[1000]\ttraining's auc: 0.902422\tvalid_1's auc: 0.824045\n",
      "[1100]\ttraining's auc: 0.907388\tvalid_1's auc: 0.824071\n",
      "[1200]\ttraining's auc: 0.911803\tvalid_1's auc: 0.824201\n",
      "[1300]\ttraining's auc: 0.915691\tvalid_1's auc: 0.82457\n",
      "[1400]\ttraining's auc: 0.919342\tvalid_1's auc: 0.824681\n",
      "[1500]\ttraining's auc: 0.922589\tvalid_1's auc: 0.824649\n",
      "Early stopping, best iteration is:\n",
      "[1447]\ttraining's auc: 0.920947\tvalid_1's auc: 0.824763\n",
      "3 holdout auc: 0.8439164728650093\n",
      "Fold 4/5*1\n",
      "Training until validation scores don't improve for 150 rounds.\n",
      "[100]\ttraining's auc: 0.80245\tvalid_1's auc: 0.77038\n",
      "[200]\ttraining's auc: 0.833381\tvalid_1's auc: 0.799684\n",
      "[300]\ttraining's auc: 0.850352\tvalid_1's auc: 0.810714\n",
      "[400]\ttraining's auc: 0.862835\tvalid_1's auc: 0.815877\n",
      "[500]\ttraining's auc: 0.872918\tvalid_1's auc: 0.819351\n",
      "[600]\ttraining's auc: 0.881249\tvalid_1's auc: 0.821413\n",
      "[700]\ttraining's auc: 0.888333\tvalid_1's auc: 0.822707\n",
      "[800]\ttraining's auc: 0.894561\tvalid_1's auc: 0.823603\n",
      "[900]\ttraining's auc: 0.899659\tvalid_1's auc: 0.824191\n",
      "[1000]\ttraining's auc: 0.90412\tvalid_1's auc: 0.82451\n",
      "[1100]\ttraining's auc: 0.908301\tvalid_1's auc: 0.82483\n",
      "[1200]\ttraining's auc: 0.912645\tvalid_1's auc: 0.82523\n",
      "[1300]\ttraining's auc: 0.91652\tvalid_1's auc: 0.825346\n",
      "[1400]\ttraining's auc: 0.920139\tvalid_1's auc: 0.825384\n",
      "[1500]\ttraining's auc: 0.923871\tvalid_1's auc: 0.825549\n",
      "[1600]\ttraining's auc: 0.927408\tvalid_1's auc: 0.825634\n",
      "[1700]\ttraining's auc: 0.931009\tvalid_1's auc: 0.825909\n",
      "[1800]\ttraining's auc: 0.93405\tvalid_1's auc: 0.825986\n",
      "[1900]\ttraining's auc: 0.937095\tvalid_1's auc: 0.825928\n",
      "[2000]\ttraining's auc: 0.939832\tvalid_1's auc: 0.826065\n",
      "[2100]\ttraining's auc: 0.942487\tvalid_1's auc: 0.825933\n",
      "Early stopping, best iteration is:\n",
      "[1985]\ttraining's auc: 0.939404\tvalid_1's auc: 0.826128\n",
      "4 holdout auc: 0.832162850636166\n",
      "Fold 5/5*1\n",
      "Training until validation scores don't improve for 150 rounds.\n",
      "[100]\ttraining's auc: 0.802937\tvalid_1's auc: 0.773653\n",
      "[200]\ttraining's auc: 0.832183\tvalid_1's auc: 0.798858\n",
      "[300]\ttraining's auc: 0.849736\tvalid_1's auc: 0.812211\n",
      "[400]\ttraining's auc: 0.861727\tvalid_1's auc: 0.817531\n",
      "[500]\ttraining's auc: 0.871806\tvalid_1's auc: 0.821029\n",
      "[600]\ttraining's auc: 0.880626\tvalid_1's auc: 0.822804\n",
      "[700]\ttraining's auc: 0.888029\tvalid_1's auc: 0.824012\n",
      "[800]\ttraining's auc: 0.89431\tvalid_1's auc: 0.824994\n",
      "[900]\ttraining's auc: 0.900254\tvalid_1's auc: 0.825761\n",
      "[1000]\ttraining's auc: 0.905666\tvalid_1's auc: 0.826099\n",
      "[1100]\ttraining's auc: 0.910479\tvalid_1's auc: 0.826211\n",
      "[1200]\ttraining's auc: 0.915284\tvalid_1's auc: 0.82646\n",
      "[1300]\ttraining's auc: 0.919478\tvalid_1's auc: 0.826813\n",
      "[1400]\ttraining's auc: 0.923238\tvalid_1's auc: 0.826817\n",
      "[1500]\ttraining's auc: 0.926582\tvalid_1's auc: 0.826881\n",
      "[1600]\ttraining's auc: 0.929898\tvalid_1's auc: 0.827092\n",
      "[1700]\ttraining's auc: 0.932875\tvalid_1's auc: 0.827406\n",
      "[1800]\ttraining's auc: 0.935732\tvalid_1's auc: 0.827226\n",
      "[1900]\ttraining's auc: 0.938449\tvalid_1's auc: 0.827085\n",
      "Early stopping, best iteration is:\n",
      "[1758]\ttraining's auc: 0.934608\tvalid_1's auc: 0.827451\n",
      "5 holdout auc: 0.8353810961311395\n",
      "auc = 0.835980 +/- 0.004638\n"
     ]
    }
   ],
   "source": [
    "predictions_default = run_lightgmb(lgb_params, cat_names, train, test, holdout)"
   ]
  },
  {
   "cell_type": "code",
   "execution_count": 100,
   "metadata": {},
   "outputs": [],
   "source": [
    "# 5 holdout auc: 0.8353810961311395\n",
    "# auc = 0.835980 +/- 0.004638"
   ]
  },
  {
   "cell_type": "markdown",
   "metadata": {},
   "source": [
    "Теперь для того, чтобы сбалансировать классы в обучающей выборке продублируем случайнные семплы из класса в маленьким кол-во семплов."
   ]
  },
  {
   "cell_type": "code",
   "execution_count": 17,
   "metadata": {},
   "outputs": [],
   "source": [
    "# Class count\n",
    "count_class_0, count_class_1 = train.target.value_counts()\n",
    "\n",
    "# Divide by class\n",
    "df_class_0 = train[train['target'] == 0]\n",
    "df_class_1 = train[train['target'] == 1]"
   ]
  },
  {
   "cell_type": "code",
   "execution_count": 18,
   "metadata": {},
   "outputs": [],
   "source": [
    "# # Undersampling\n",
    "# df_class_0_under = df_class_0.sample(count_class_1)\n",
    "# df_test_under = pd.concat([df_class_0_under, df_class_1], axis=0)\n",
    "\n",
    "# print('Random under-sampling:')\n",
    "# print(df_test_under.target.value_counts())\n",
    "\n",
    "# df_test_under.target.value_counts().plot(kind='bar', title='Count (target)');"
   ]
  },
  {
   "cell_type": "code",
   "execution_count": 38,
   "metadata": {
    "scrolled": true
   },
   "outputs": [
    {
     "name": "stdout",
     "output_type": "stream",
     "text": [
      "Random over-sampling:\n",
      "0    53493\n",
      "1    48143\n",
      "Name: target, dtype: int64\n"
     ]
    },
    {
     "data": {
      "image/png": "[encoded data removed]",
      "text/plain": [
       "<Figure size 432x288 with 1 Axes>"
      ]
     },
     "metadata": {
      "needs_background": "light"
     },
     "output_type": "display_data"
    }
   ],
   "source": [
    "df_class_1_over = df_class_1.sample(int(count_class_0 * 0.9), replace=True)\n",
    "df_test_over = pd.concat([df_class_0, df_class_1_over], axis=0)\n",
    "\n",
    "print('Random over-sampling:')\n",
    "print(df_test_over.target.value_counts())\n",
    "\n",
    "df_test_over.target.value_counts().plot(kind='bar', title='Count (target)');"
   ]
  },
  {
   "cell_type": "code",
   "execution_count": 36,
   "metadata": {},
   "outputs": [],
   "source": [
    "train = df_test_over.copy()"
   ]
  },
  {
   "cell_type": "code",
   "execution_count": 57,
   "metadata": {},
   "outputs": [],
   "source": [
    "from imblearn.over_sampling import SMOTE\n",
    "smote = SMOTE(ratio='minority', n_jobs=8, random_state=17)"
   ]
  },
  {
   "cell_type": "code",
   "execution_count": 58,
   "metadata": {},
   "outputs": [],
   "source": [
    "train_sm, y_sm = smote.fit_sample(train.iloc[:, 1:], train['target'].values)\n",
    "columns = train.columns[1:]\n",
    "x = pd.DataFrame(train_sm, columns=columns)\n",
    "x.target.hist();"
   ]
  },
  {
   "cell_type": "code",
   "execution_count": 67,
   "metadata": {},
   "outputs": [
    {
     "name": "stdout",
     "output_type": "stream",
     "text": [
      "train.shape = (106986, 460), test.shape = (30058, 460)\n",
      "Fold 1/5*1\n",
      "Training until validation scores don't improve for 250 rounds.\n",
      "[100]\ttraining's auc: 0.821807\tvalid_1's auc: 0.753106\n",
      "[200]\ttraining's auc: 0.847521\tvalid_1's auc: 0.77697\n",
      "[300]\ttraining's auc: 0.863502\tvalid_1's auc: 0.788827\n",
      "[400]\ttraining's auc: 0.875963\tvalid_1's auc: 0.79794\n",
      "[500]\ttraining's auc: 0.884922\tvalid_1's auc: 0.802841\n",
      "[600]\ttraining's auc: 0.892401\tvalid_1's auc: 0.806238\n",
      "[700]\ttraining's auc: 0.899086\tvalid_1's auc: 0.808065\n",
      "[800]\ttraining's auc: 0.904691\tvalid_1's auc: 0.809329\n",
      "[900]\ttraining's auc: 0.909799\tvalid_1's auc: 0.810274\n",
      "[1000]\ttraining's auc: 0.914146\tvalid_1's auc: 0.811011\n",
      "[1100]\ttraining's auc: 0.918069\tvalid_1's auc: 0.811103\n",
      "[1200]\ttraining's auc: 0.921707\tvalid_1's auc: 0.81109\n",
      "[1300]\ttraining's auc: 0.925138\tvalid_1's auc: 0.811055\n",
      "[1400]\ttraining's auc: 0.928458\tvalid_1's auc: 0.811127\n",
      "[1500]\ttraining's auc: 0.931565\tvalid_1's auc: 0.810952\n",
      "[1600]\ttraining's auc: 0.934446\tvalid_1's auc: 0.81125\n",
      "[1700]\ttraining's auc: 0.937304\tvalid_1's auc: 0.811224\n",
      "[1800]\ttraining's auc: 0.940062\tvalid_1's auc: 0.810984\n",
      "Early stopping, best iteration is:\n",
      "[1605]\ttraining's auc: 0.93459\tvalid_1's auc: 0.811316\n",
      "Important features:\n",
      "('manufacturer_category', 2653)\n",
      "('data_type_2_m1', 1055)\n",
      "('data_type_1_m1', 772)\n",
      "('data_type_3_m1', 684)\n",
      "('lt', 641)\n",
      "('content_count_m1', 614)\n",
      "('content_count_m3', 491)\n",
      "('balance_sum', 402)\n",
      "('vol_app_7', 346)\n",
      "('service_1_flag', 304)\n",
      "('data_type_2_m3', 284)\n",
      "('content_count_m2', 284)\n",
      "('vol_app_4', 277)\n",
      "('data_type_1_m3', 265)\n",
      "('count_app_5', 231)\n",
      "('data_type_1_m2', 227)\n",
      "('sms_in_count_m2', 223)\n",
      "('is_obl_center', 218)\n",
      "('sms_in_count_m1', 213)\n",
      "('data_type_2_m2', 201)\n",
      "('count_act_type_1', 195)\n",
      "('vol_app_5', 176)\n",
      "('vol_app_1', 161)\n",
      "('all_count_m2', 156)\n",
      "('count_gift_type_1', 152)\n",
      "('vol_app_12', 152)\n",
      "('data_type_3_m2', 149)\n",
      "('count_sms_source_4', 148)\n",
      "('all_cost_m1', 147)\n",
      "('service_1_count', 145)\n",
      "('all_count_m3', 140)\n",
      "('all_cost_m3', 137)\n",
      "('data_type_3_m3', 128)\n",
      "('service_P_flag_m2', 128)\n",
      "('voice_in_uniq_count_m1', 127)\n",
      "('sms_cost_m3', 126)\n",
      "('all_cost_m2', 125)\n",
      "('os_category', 124)\n",
      "('service_9_flag_m1', 123)\n",
      "('service_P_flag_m1', 121)\n",
      "('sms_out_count_m3', 117)\n",
      "('sms_in_count_m3', 114)\n",
      "('paym_el_sum_m3', 114)\n",
      "('count_app_1', 111)\n",
      "('paym_last_days', 111)\n",
      "('vol_app_15', 109)\n",
      "('content_cost_m1', 108)\n",
      "('act_days_count_m3', 107)\n",
      "('count_gift_type_4', 107)\n",
      "('count_app_7', 107)\n",
      "('short_out_calls_part_m2', 106)\n",
      "('income_brnd_cont_m1', 105)\n",
      "('count_app_15', 102)\n",
      "('count_sms_source_5', 100)\n",
      "('all_home_clc_m1', 93)\n",
      "('short_in_calls_part_m1', 92)\n",
      "('vol_app_6', 92)\n",
      "('count_url_category_4', 90)\n",
      "('vol_app_10', 89)\n",
      "('all_home_clc_m3', 88)\n",
      "1 holdout auc: 0.8113163820530623\n",
      "Fold 2/5*1\n",
      "Training until validation scores don't improve for 250 rounds.\n",
      "[100]\ttraining's auc: 0.821554\tvalid_1's auc: 0.75328\n",
      "[200]\ttraining's auc: 0.848796\tvalid_1's auc: 0.777601\n",
      "[300]\ttraining's auc: 0.86389\tvalid_1's auc: 0.789409\n",
      "[400]\ttraining's auc: 0.874537\tvalid_1's auc: 0.795543\n",
      "[500]\ttraining's auc: 0.883879\tvalid_1's auc: 0.800615\n",
      "[600]\ttraining's auc: 0.891546\tvalid_1's auc: 0.803579\n",
      "[700]\ttraining's auc: 0.898302\tvalid_1's auc: 0.806127\n",
      "[800]\ttraining's auc: 0.903956\tvalid_1's auc: 0.80778\n",
      "[900]\ttraining's auc: 0.908709\tvalid_1's auc: 0.808697\n",
      "[1000]\ttraining's auc: 0.913028\tvalid_1's auc: 0.809131\n",
      "[1100]\ttraining's auc: 0.916957\tvalid_1's auc: 0.809345\n",
      "[1200]\ttraining's auc: 0.920781\tvalid_1's auc: 0.809318\n",
      "[1300]\ttraining's auc: 0.92446\tvalid_1's auc: 0.809285\n",
      "Early stopping, best iteration is:\n",
      "[1110]\ttraining's auc: 0.917412\tvalid_1's auc: 0.809421\n",
      "2 holdout auc: 0.8094209849082216\n",
      "Fold 3/5*1\n",
      "Training until validation scores don't improve for 250 rounds.\n",
      "[100]\ttraining's auc: 0.81768\tvalid_1's auc: 0.755719\n",
      "[200]\ttraining's auc: 0.842465\tvalid_1's auc: 0.776416\n",
      "[300]\ttraining's auc: 0.8588\tvalid_1's auc: 0.789437\n",
      "[400]\ttraining's auc: 0.870804\tvalid_1's auc: 0.796579\n",
      "[500]\ttraining's auc: 0.880067\tvalid_1's auc: 0.802244\n",
      "[600]\ttraining's auc: 0.887695\tvalid_1's auc: 0.80522\n",
      "[700]\ttraining's auc: 0.894464\tvalid_1's auc: 0.807261\n",
      "[800]\ttraining's auc: 0.900553\tvalid_1's auc: 0.809133\n",
      "[900]\ttraining's auc: 0.905741\tvalid_1's auc: 0.810265\n",
      "[1000]\ttraining's auc: 0.910632\tvalid_1's auc: 0.810967\n",
      "[1100]\ttraining's auc: 0.914867\tvalid_1's auc: 0.811481\n",
      "[1200]\ttraining's auc: 0.918533\tvalid_1's auc: 0.811812\n",
      "[1300]\ttraining's auc: 0.922182\tvalid_1's auc: 0.812028\n",
      "[1400]\ttraining's auc: 0.925578\tvalid_1's auc: 0.812101\n",
      "[1500]\ttraining's auc: 0.928828\tvalid_1's auc: 0.812137\n",
      "[1600]\ttraining's auc: 0.931787\tvalid_1's auc: 0.81214\n",
      "[1700]\ttraining's auc: 0.934768\tvalid_1's auc: 0.811914\n",
      "Early stopping, best iteration is:\n",
      "[1513]\ttraining's auc: 0.929242\tvalid_1's auc: 0.812196\n",
      "3 holdout auc: 0.8121958204364729\n",
      "Fold 4/5*1\n",
      "Training until validation scores don't improve for 250 rounds.\n",
      "[100]\ttraining's auc: 0.814797\tvalid_1's auc: 0.758077\n",
      "[200]\ttraining's auc: 0.84115\tvalid_1's auc: 0.779816\n",
      "[300]\ttraining's auc: 0.857566\tvalid_1's auc: 0.793249\n",
      "[400]\ttraining's auc: 0.868972\tvalid_1's auc: 0.800448\n",
      "[500]\ttraining's auc: 0.878116\tvalid_1's auc: 0.805602\n",
      "[600]\ttraining's auc: 0.885412\tvalid_1's auc: 0.807482\n",
      "[700]\ttraining's auc: 0.89233\tvalid_1's auc: 0.809558\n",
      "[800]\ttraining's auc: 0.898344\tvalid_1's auc: 0.81059\n",
      "[900]\ttraining's auc: 0.903356\tvalid_1's auc: 0.811506\n",
      "[1000]\ttraining's auc: 0.907821\tvalid_1's auc: 0.812402\n",
      "[1100]\ttraining's auc: 0.911826\tvalid_1's auc: 0.813019\n",
      "[1200]\ttraining's auc: 0.915708\tvalid_1's auc: 0.81345\n",
      "[1300]\ttraining's auc: 0.919391\tvalid_1's auc: 0.813588\n",
      "[1400]\ttraining's auc: 0.922859\tvalid_1's auc: 0.813482\n",
      "[1500]\ttraining's auc: 0.926155\tvalid_1's auc: 0.813629\n",
      "[1600]\ttraining's auc: 0.929212\tvalid_1's auc: 0.813663\n",
      "[1700]\ttraining's auc: 0.93227\tvalid_1's auc: 0.813762\n",
      "[1800]\ttraining's auc: 0.934926\tvalid_1's auc: 0.81352\n",
      "[1900]\ttraining's auc: 0.937606\tvalid_1's auc: 0.813284\n",
      "Early stopping, best iteration is:\n",
      "[1662]\ttraining's auc: 0.931171\tvalid_1's auc: 0.813798\n",
      "4 holdout auc: 0.8137978753035421\n",
      "Fold 5/5*1\n",
      "Training until validation scores don't improve for 250 rounds.\n",
      "[100]\ttraining's auc: 0.813685\tvalid_1's auc: 0.758257\n",
      "[200]\ttraining's auc: 0.839982\tvalid_1's auc: 0.780485\n",
      "[300]\ttraining's auc: 0.856102\tvalid_1's auc: 0.794064\n",
      "[400]\ttraining's auc: 0.867863\tvalid_1's auc: 0.800957\n",
      "[500]\ttraining's auc: 0.876786\tvalid_1's auc: 0.805066\n",
      "[600]\ttraining's auc: 0.884364\tvalid_1's auc: 0.807993\n",
      "[700]\ttraining's auc: 0.891183\tvalid_1's auc: 0.810222\n",
      "[800]\ttraining's auc: 0.897476\tvalid_1's auc: 0.811554\n",
      "[900]\ttraining's auc: 0.90272\tvalid_1's auc: 0.812439\n",
      "[1000]\ttraining's auc: 0.907385\tvalid_1's auc: 0.813\n",
      "[1100]\ttraining's auc: 0.911836\tvalid_1's auc: 0.81334\n",
      "[1200]\ttraining's auc: 0.915873\tvalid_1's auc: 0.813633\n",
      "[1300]\ttraining's auc: 0.919367\tvalid_1's auc: 0.813778\n",
      "[1400]\ttraining's auc: 0.922654\tvalid_1's auc: 0.813811\n",
      "[1500]\ttraining's auc: 0.925703\tvalid_1's auc: 0.813899\n",
      "[1600]\ttraining's auc: 0.928665\tvalid_1's auc: 0.814111\n",
      "[1700]\ttraining's auc: 0.931465\tvalid_1's auc: 0.814062\n",
      "[1800]\ttraining's auc: 0.933967\tvalid_1's auc: 0.813977\n",
      "Early stopping, best iteration is:\n",
      "[1606]\ttraining's auc: 0.928806\tvalid_1's auc: 0.814152\n",
      "5 holdout auc: 0.8141520240715241\n",
      "auc = 0.812177 +/- 0.001724\n"
     ]
    }
   ],
   "source": [
    "lgb_params = {\n",
    "        'num_leaves' : 16,\n",
    "        'boosting_type': 'gbdt',\n",
    "        'objective': 'binary',\n",
    "        'metric': 'auc',\n",
    "        'max_depth': 5,\n",
    "        'learning_rate': 0.01, \n",
    "        'verbose': -1,\n",
    "        'num_threads': 8,\n",
    "#         'scale_pos_weight' : 5,\n",
    "    }\n",
    "\n",
    "p = run_lightgmb(lgb_params, cat_names, x, test, holdout)"
   ]
  },
  {
   "cell_type": "code",
   "execution_count": 6,
   "metadata": {},
   "outputs": [],
   "source": [
    "# Проверим на отложенной выборке. Внимательно, модель из последнего фолда.\n",
    "# Потому что мы не сохраняем модели из каждого фолда.\n",
    "cols_to_drop = [\n",
    "        'id',\n",
    "        'target',\n",
    "    ]\n",
    "\n",
    "X = train.drop(cols_to_drop, axis=1, errors='ignore')\n",
    "y = train.target.values"
   ]
  },
  {
   "cell_type": "code",
   "execution_count": 7,
   "metadata": {},
   "outputs": [],
   "source": [
    "import imblearn"
   ]
  },
  {
   "cell_type": "code",
   "execution_count": 8,
   "metadata": {},
   "outputs": [],
   "source": [
    "def plot_2d_space(X, y, label='Classes'):   \n",
    "    colors = ['#1F77B4', '#FF7F0E']\n",
    "    markers = ['o', 's']\n",
    "    for l, c, m in zip(np.unique(y), colors, markers):\n",
    "        plt.scatter(\n",
    "            X[y==l, 0],\n",
    "            X[y==l, 1],\n",
    "            c=c, label=l, marker=m\n",
    "        )\n",
    "    plt.title(label)\n",
    "    plt.legend(loc='upper right')\n",
    "    plt.show()"
   ]
  },
  {
   "cell_type": "code",
   "execution_count": 4,
   "metadata": {},
   "outputs": [],
   "source": [
    "from sklearn.decomposition import PCA\n",
    "\n",
    "pca = PCA(n_components=2)\n",
    "X = pca.fit_transform(X)\n",
    "\n",
    "plot_2d_space(X, y, 'Imbalanced dataset (2 PCA components)')"
   ]
  },
  {
   "cell_type": "code",
   "execution_count": 11,
   "metadata": {},
   "outputs": [
    {
     "name": "stdout",
     "output_type": "stream",
     "text": [
      "Removed indexes: [ 5066 29060  4372 19133 ... 70119 70128 70129 70132]\n"
     ]
    },
    {
     "data": {
      "image/png": "[encoded data removed]",
      "text/plain": [
       "<Figure size 432x288 with 1 Axes>"
      ]
     },
     "metadata": {
      "needs_background": "light"
     },
     "output_type": "display_data"
    }
   ],
   "source": [
    "from imblearn.under_sampling import RandomUnderSampler\n",
    "\n",
    "rus = RandomUnderSampler(return_indices=True)\n",
    "X_rus, y_rus, id_rus = rus.fit_sample(X, y)\n",
    "\n",
    "print('Removed indexes:', id_rus)\n",
    "\n",
    "plot_2d_space(X_rus, y_rus, 'Random under-sampling')"
   ]
  },
  {
   "cell_type": "code",
   "execution_count": 12,
   "metadata": {},
   "outputs": [
    {
     "name": "stdout",
     "output_type": "stream",
     "text": [
      "55734 new random picked points\n"
     ]
    },
    {
     "data": {
      "image/png": "[encoded data removed]",
      "text/plain": [
       "<Figure size 432x288 with 1 Axes>"
      ]
     },
     "metadata": {
      "needs_background": "light"
     },
     "output_type": "display_data"
    }
   ],
   "source": [
    "from imblearn.over_sampling import RandomOverSampler\n",
    "\n",
    "ros = RandomOverSampler()\n",
    "X_ros, y_ros = ros.fit_sample(X, y)\n",
    "\n",
    "print(X_ros.shape[0] - X.shape[0], 'new random picked points')\n",
    "\n",
    "plot_2d_space(X_ros, y_ros, 'Random over-sampling')"
   ]
  },
  {
   "cell_type": "code",
   "execution_count": 13,
   "metadata": {},
   "outputs": [
    {
     "name": "stdout",
     "output_type": "stream",
     "text": [
      "Removed indexes: [    0     1     2     3 ... 70130 70131 70132 70133]\n"
     ]
    },
    {
     "data": {
      "image/png": "[encoded data removed]",
      "text/plain": [
       "<Figure size 432x288 with 1 Axes>"
      ]
     },
     "metadata": {
      "needs_background": "light"
     },
     "output_type": "display_data"
    }
   ],
   "source": [
    "from imblearn.under_sampling import TomekLinks\n",
    "\n",
    "tl = TomekLinks(return_indices=True, ratio='majority')\n",
    "X_tl, y_tl, id_tl = tl.fit_sample(X, y)\n",
    "\n",
    "print('Removed indexes:', id_tl)\n",
    "\n",
    "plot_2d_space(X_tl, y_tl, 'Tomek links under-sampling')"
   ]
  },
  {
   "cell_type": "code",
   "execution_count": 14,
   "metadata": {},
   "outputs": [
    {
     "data": {
      "image/png": "[encoded data removed]",
      "text/plain": [
       "<Figure size 432x288 with 1 Axes>"
      ]
     },
     "metadata": {
      "needs_background": "light"
     },
     "output_type": "display_data"
    }
   ],
   "source": [
    "from imblearn.under_sampling import ClusterCentroids\n",
    "\n",
    "cc = ClusterCentroids(ratio={0: 10})\n",
    "X_cc, y_cc = cc.fit_sample(X, y)\n",
    "\n",
    "plot_2d_space(X_cc, y_cc, 'Cluster Centroids under-sampling')"
   ]
  },
  {
   "cell_type": "code",
   "execution_count": null,
   "metadata": {},
   "outputs": [],
   "source": [
    "# Prepare submission\n",
    "subm = pd.DataFrame()\n",
    "subm['id'] = test_df.id.values\n",
    "subm['prediction'] = mergid_preds\n",
    "subm.to_csv('submissions/hope.csv', index=False)"
   ]
  },
  {
   "cell_type": "code",
   "execution_count": null,
   "metadata": {},
   "outputs": [],
   "source": []
  },
  {
   "cell_type": "code",
   "execution_count": null,
   "metadata": {},
   "outputs": [],
   "source": []
  }
 ],
 "metadata": {
  "kernelspec": {
   "display_name": "Python 3",
   "language": "python",
   "name": "python3"
  },
  "language_info": {
   "codemirror_mode": {
    "name": "ipython",
    "version": 3
   },
   "file_extension": ".py",
   "mimetype": "text/x-python",
   "name": "python",
   "nbconvert_exporter": "python",
   "pygments_lexer": "ipython3",
   "version": "3.7.0"
  }
 },
 "nbformat": 4,
 "nbformat_minor": 2
}

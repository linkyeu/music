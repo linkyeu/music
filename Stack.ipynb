{
 "cells": [
  {
   "cell_type": "code",
   "execution_count": null,
   "metadata": {},
   "outputs": [],
   "source": [
    "# https://github.com/catboost/tutorials/blob/master/competition_examples/mlbootcamp_v_tutorial.ipynb"
   ]
  },
  {
   "cell_type": "code",
   "execution_count": 2,
   "metadata": {},
   "outputs": [],
   "source": [
    "%reload_ext autoreload\n",
    "%autoreload 2"
   ]
  },
  {
   "cell_type": "code",
   "execution_count": 3,
   "metadata": {},
   "outputs": [],
   "source": [
    "import sys; sys.path.append('scripts')\n",
    "from common import *\n",
    "from global_common import *\n",
    "from models import *\n",
    "import xgboost as xgb\n",
    "from load_and_proccess_data import *\n",
    "from visualization import *"
   ]
  },
  {
   "cell_type": "code",
   "execution_count": 16,
   "metadata": {},
   "outputs": [],
   "source": [
    "LGBM =  pd.read_csv('submissions/LGBM.csv',  index_col=0)\n",
    "XGBOOST = pd.read_csv('submissions/XGBoost.csv',index_col=0)\n",
    "XGBOOST_2 = pd.read_csv('submissions/XGBoost_2.csv',index_col=0)\n",
    "XGBOOST_5 = pd.read_csv('submissions/XGBoost_5.csv',index_col=0)"
   ]
  },
  {
   "cell_type": "code",
   "execution_count": 17,
   "metadata": {},
   "outputs": [],
   "source": [
    "data = pd.concat([LGBM, XGBOOST, XGBOOST_2,  XGBOOST_5], axis=1)"
   ]
  },
  {
   "cell_type": "code",
   "execution_count": 48,
   "metadata": {},
   "outputs": [],
   "source": [
    "# time_split = KFold(n_splits=n_splits, shuffle=False, random_state=17)\n",
    "# logit = LogisticRegression(C=1, random_state=17)\n",
    "# cv_scores = cross_val_score(logit, sparse_matrix, y, cv=time_split, scoring='roc_auc', n_jobs=-1) \n",
    "# print(cv_scores, cv_scores.mean(), cv_scores.std())"
   ]
  },
  {
   "cell_type": "code",
   "execution_count": null,
   "metadata": {},
   "outputs": [],
   "source": [
    "# Стак из 4 моделей не дал прироста!"
   ]
  },
  {
   "cell_type": "code",
   "execution_count": 19,
   "metadata": {},
   "outputs": [],
   "source": [
    "# Prepare submission\n",
    "subm = pd.DataFrame()\n",
    "subm['id'] = LGBM.index.values\n",
    "subm['prediction'] = ((data.values[:, -2] * 0.4) + (data.values[:, -1] * 0.6)) / 2\n",
    "subm.to_csv('submissions/stack_weights_6.csv', index=False)"
   ]
  },
  {
   "cell_type": "code",
   "execution_count": 21,
   "metadata": {},
   "outputs": [],
   "source": [
    "# Prepare submission\n",
    "subm = pd.DataFrame()\n",
    "subm['id'] = LGBM.index.values\n",
    "subm['prediction'] = ((data.values[:, -2] * 0.45) + (data.values[:, -1] * 0.55)) / 2\n",
    "subm.to_csv('submissions/stack_weights_7.csv', index=False)"
   ]
  },
  {
   "cell_type": "code",
   "execution_count": 15,
   "metadata": {},
   "outputs": [],
   "source": [
    "# Prepare submission\n",
    "subm = pd.DataFrame()\n",
    "subm['id'] = LGBM.index.values\n",
    "subm['prediction'] = data.mean(axis=1).values\n",
    "subm.to_csv('submissions/stack_weights_5.csv', index=False)"
   ]
  },
  {
   "cell_type": "code",
   "execution_count": 8,
   "metadata": {},
   "outputs": [
    {
     "data": {
      "text/html": [
       "<div>\n",
       "<style scoped>\n",
       "    .dataframe tbody tr th:only-of-type {\n",
       "        vertical-align: middle;\n",
       "    }\n",
       "\n",
       "    .dataframe tbody tr th {\n",
       "        vertical-align: top;\n",
       "    }\n",
       "\n",
       "    .dataframe thead th {\n",
       "        text-align: right;\n",
       "    }\n",
       "</style>\n",
       "<table border=\"1\" class=\"dataframe\">\n",
       "  <thead>\n",
       "    <tr style=\"text-align: right;\">\n",
       "      <th></th>\n",
       "      <th>prediction</th>\n",
       "      <th>prediction</th>\n",
       "      <th>prediction</th>\n",
       "      <th>prediction</th>\n",
       "    </tr>\n",
       "  </thead>\n",
       "  <tbody>\n",
       "    <tr>\n",
       "      <th>prediction</th>\n",
       "      <td>1.000000</td>\n",
       "      <td>0.886245</td>\n",
       "      <td>0.872639</td>\n",
       "      <td>0.866632</td>\n",
       "    </tr>\n",
       "    <tr>\n",
       "      <th>prediction</th>\n",
       "      <td>0.886245</td>\n",
       "      <td>1.000000</td>\n",
       "      <td>0.962964</td>\n",
       "      <td>0.949757</td>\n",
       "    </tr>\n",
       "    <tr>\n",
       "      <th>prediction</th>\n",
       "      <td>0.872639</td>\n",
       "      <td>0.962964</td>\n",
       "      <td>1.000000</td>\n",
       "      <td>0.965916</td>\n",
       "    </tr>\n",
       "    <tr>\n",
       "      <th>prediction</th>\n",
       "      <td>0.866632</td>\n",
       "      <td>0.949757</td>\n",
       "      <td>0.965916</td>\n",
       "      <td>1.000000</td>\n",
       "    </tr>\n",
       "  </tbody>\n",
       "</table>\n",
       "</div>"
      ],
      "text/plain": [
       "            prediction  prediction  prediction  prediction\n",
       "prediction    1.000000    0.886245    0.872639    0.866632\n",
       "prediction    0.886245    1.000000    0.962964    0.949757\n",
       "prediction    0.872639    0.962964    1.000000    0.965916\n",
       "prediction    0.866632    0.949757    0.965916    1.000000"
      ]
     },
     "execution_count": 8,
     "metadata": {},
     "output_type": "execute_result"
    }
   ],
   "source": [
    "data.corr()"
   ]
  },
  {
   "cell_type": "code",
   "execution_count": null,
   "metadata": {},
   "outputs": [],
   "source": []
  }
 ],
 "metadata": {
  "kernelspec": {
   "display_name": "Python 3",
   "language": "python",
   "name": "python3"
  },
  "language_info": {
   "codemirror_mode": {
    "name": "ipython",
    "version": 3
   },
   "file_extension": ".py",
   "mimetype": "text/x-python",
   "name": "python",
   "nbconvert_exporter": "python",
   "pygments_lexer": "ipython3",
   "version": "3.7.0"
  }
 },
 "nbformat": 4,
 "nbformat_minor": 2
}
